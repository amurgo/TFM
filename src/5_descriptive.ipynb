{
 "cells": [
  {
   "cell_type": "markdown",
   "metadata": {},
   "source": [
    "# DESCRIPTIVE STATISTICS OF THE TRIBUNAL DECISIONS (20th November 2021)"
   ]
  },
  {
   "cell_type": "markdown",
   "metadata": {},
   "source": [
    "This notebook extracts additional information from the text of the tribunal decisions and stores it in the relevant dictionary.\n",
    "\n",
    "In particular, the notebook performs information extraction on:\n",
    "\n",
    "1. The label included in the name of the file.\n",
    "\n",
    "2. The court where the case was heard (\"Heard at\").\n",
    "\n",
    "3. The judges.\n",
    "\n",
    "4. The legal representation for the appellant and the respondent.\n",
    "\n",
    "5. The decision/ruling by the judge.\n",
    "\n",
    "Each of these filds is added to the dictionary of each judicial decision.\n",
    "\n",
    "The resulting data set - a list of updated dictionaries -  is serialised as a json object (jsonDataFinal.json).\n",
    "\n",
    "This notebook should run in the tfm environment, which can be created with the environment.yml file."
   ]
  },
  {
   "cell_type": "code",
   "execution_count": 10,
   "metadata": {},
   "outputs": [
    {
     "name": "stdout",
     "output_type": "stream",
     "text": [
      "Current environment: /Users/albertamurgopacheco/anaconda3/envs/tfm/bin/python\n",
      "Current working directory: /Users/albertamurgopacheco/Documents/GitHub/TFM\n"
     ]
    }
   ],
   "source": [
    "import ipykernel\n",
    "from os import listdir\n",
    "from os.path import isfile, join, getsize\n",
    "import numpy as np\n",
    "import time\n",
    "import re\n",
    "import json\n",
    "import pickle\n",
    "import pandas as pd\n",
    "import sys\n",
    "import datetime\n",
    "from tqdm import tqdm\n",
    "\n",
    "import matplotlib.pyplot as plt\n",
    "import seaborn as sns\n",
    "\n",
    "import sys\n",
    "IN_COLAB = 'google.colab' in sys.modules\n",
    "\n",
    "\n",
    "# What environment am I using?\n",
    "print(f'Current environment: {sys.executable}')\n",
    "\n",
    "# Change the current working directory\n",
    "os.chdir('/Users/albertamurgopacheco/Documents/GitHub/TFM')\n",
    "# What's my working directory?\n",
    "print(f'Current working directory: {os.getcwd()}')\n"
   ]
  },
  {
   "cell_type": "code",
   "execution_count": 3,
   "metadata": {},
   "outputs": [],
   "source": [
    "# Define working directories in colab and local execution\n",
    "\n",
    "if IN_COLAB:\n",
    "    from google.colab import drive\n",
    "    drive.mount('/content/gdrive')\n",
    "    docs_path = '/content/gdrive/MyDrive/TFM/data/raw'\n",
    "    input_path = '/content/gdrive/MyDrive/TFM'\n",
    "    output_path = '/content/gdrive/MyDrive/TFM/output'\n",
    "\n",
    "else:\n",
    "    docs_path = './data/raw'\n",
    "    input_path = '.'\n",
    "    output_path = './output'"
   ]
  },
  {
   "cell_type": "markdown",
   "metadata": {},
   "source": [
    "# DESCRIPTIVE STATISTICS OF THE TRIBUNAL DECISIONS"
   ]
  },
  {
   "cell_type": "markdown",
   "metadata": {},
   "source": [
    "# 1. Build a dataframe with the needed fields"
   ]
  },
  {
   "cell_type": "markdown",
   "metadata": {},
   "source": [
    "There are two categories of cases: the reported and the unreported ones. The reported cases include richer data while the unreported ones (the vast majority of cases) miss several data fields due to a request for annonimity from any of the parties involved in the legal dispute.\n",
    "\n",
    "The first two letters in the file name seem to follow some logic. Inspecting the documents reveals the following meanings:"
   ]
  },
  {
   "cell_type": "code",
   "execution_count": 13,
   "metadata": {},
   "outputs": [
    {
     "name": "stderr",
     "output_type": "stream",
     "text": [
      "100%|██████████| 35308/35308 [00:00<00:00, 595181.58it/s]\n"
     ]
    }
   ],
   "source": [
    "\n",
    "\n",
    "# Loop over each text file and extract Court information\n",
    "for decision in tqdm(data):\n",
    "    # Obtain the full text of the court decision\n",
    "    string = decision.get('Decision:')\n",
    "    #file_name = decision.get('File')\n",
    "    if isinstance(string, float):\n",
    "        continue\n",
    "    else:\n",
    "        # If a label has not been found (flag = 0)\n",
    "        flag = 0\n",
    "        # The decisions are stored as a listt of tokens. Use plain text.\n",
    "        string = ' '.join(x for x in string)"
   ]
  },
  {
   "cell_type": "code",
   "execution_count": 4,
   "metadata": {},
   "outputs": [],
   "source": [
    "\n",
    "# Open jsonData file as data\n",
    "with open('./data/jsonDataFinal.json') as json_file:\n",
    "    data = json.load(json_file)\n",
    "    \n",
    "df = pd.DataFrame(data)"
   ]
  },
  {
   "cell_type": "markdown",
   "metadata": {},
   "source": [
    "# 2. Generate statistics on the fields"
   ]
  },
  {
   "cell_type": "markdown",
   "metadata": {},
   "source": [
    "An inspection of a sample of judicial decisions reveals that the name of the court is located in the first part of the document and it usually follows the expression \"Heard at\".\n",
    "\n",
    "The strategy to capture this field will consist of a search using regular expressions. "
   ]
  },
  {
   "cell_type": "code",
   "execution_count": 7,
   "metadata": {},
   "outputs": [
    {
     "data": {
      "text/plain": [
       "Index(['Case title:', 'Appellant name:', 'Status of case:', 'Hearing date:',\n",
       "       'Promulgation date:', 'Publication date:', 'Last updated on:',\n",
       "       'Country:', 'Judges:', 'Document', 'Reference', 'Download', 'File',\n",
       "       'String', 'ID', 'Code label:', 'Heard at:', 'Decision:', 'Nationality:',\n",
       "       'Representation:', 'Appellant:', 'Respondent:', 'Decision label:',\n",
       "       'Appellant entity:', 'Respondent entity:', 'Keywords',\n",
       "       'Country guidance:', 'Case Notes:', 'Categories:'],\n",
       "      dtype='object')"
      ]
     },
     "execution_count": 7,
     "metadata": {},
     "output_type": "execute_result"
    }
   ],
   "source": [
    "# Fields in the database\n",
    "df.keys()"
   ]
  },
  {
   "cell_type": "code",
   "execution_count": null,
   "metadata": {},
   "outputs": [],
   "source": [
    "# TO DO\n",
    "# Count complete sets (rulings with all relevant fields completed)\n",
    "# Generate year field\n",
    "# Count sentences per year\n",
    "# \n"
   ]
  },
  {
   "cell_type": "markdown",
   "metadata": {},
   "source": [
    "print(data[10481])"
   ]
  },
  {
   "cell_type": "markdown",
   "metadata": {},
   "source": [
    "# 3. Charts\n",
    "\n"
   ]
  },
  {
   "cell_type": "code",
   "execution_count": 8,
   "metadata": {},
   "outputs": [
    {
     "data": {
      "text/html": [
       "<div>\n",
       "<style scoped>\n",
       "    .dataframe tbody tr th:only-of-type {\n",
       "        vertical-align: middle;\n",
       "    }\n",
       "\n",
       "    .dataframe tbody tr th {\n",
       "        vertical-align: top;\n",
       "    }\n",
       "\n",
       "    .dataframe thead th {\n",
       "        text-align: right;\n",
       "    }\n",
       "</style>\n",
       "<table border=\"1\" class=\"dataframe\">\n",
       "  <thead>\n",
       "    <tr style=\"text-align: right;\">\n",
       "      <th></th>\n",
       "      <th>Case title:</th>\n",
       "      <th>Appellant name:</th>\n",
       "      <th>Status of case:</th>\n",
       "      <th>Hearing date:</th>\n",
       "      <th>Promulgation date:</th>\n",
       "      <th>Publication date:</th>\n",
       "      <th>Last updated on:</th>\n",
       "      <th>Country:</th>\n",
       "      <th>Judges:</th>\n",
       "      <th>Document</th>\n",
       "      <th>...</th>\n",
       "      <th>Representation:</th>\n",
       "      <th>Appellant:</th>\n",
       "      <th>Respondent:</th>\n",
       "      <th>Decision label:</th>\n",
       "      <th>Appellant entity:</th>\n",
       "      <th>Respondent entity:</th>\n",
       "      <th>Keywords</th>\n",
       "      <th>Country guidance:</th>\n",
       "      <th>Case Notes:</th>\n",
       "      <th>Categories:</th>\n",
       "    </tr>\n",
       "  </thead>\n",
       "  <tbody>\n",
       "    <tr>\n",
       "      <th>count</th>\n",
       "      <td>35305</td>\n",
       "      <td>35305</td>\n",
       "      <td>35305</td>\n",
       "      <td>35305</td>\n",
       "      <td>35305</td>\n",
       "      <td>35305</td>\n",
       "      <td>35305</td>\n",
       "      <td>34292</td>\n",
       "      <td>35305</td>\n",
       "      <td>35305</td>\n",
       "      <td>...</td>\n",
       "      <td>31933</td>\n",
       "      <td>31933</td>\n",
       "      <td>31933</td>\n",
       "      <td>30085</td>\n",
       "      <td>23006</td>\n",
       "      <td>27283</td>\n",
       "      <td>2173</td>\n",
       "      <td>378</td>\n",
       "      <td>250</td>\n",
       "      <td>46</td>\n",
       "    </tr>\n",
       "    <tr>\n",
       "      <th>unique</th>\n",
       "      <td>2138</td>\n",
       "      <td>1158</td>\n",
       "      <td>2</td>\n",
       "      <td>3038</td>\n",
       "      <td>3048</td>\n",
       "      <td>2189</td>\n",
       "      <td>1773</td>\n",
       "      <td>214</td>\n",
       "      <td>2672</td>\n",
       "      <td>35305</td>\n",
       "      <td>...</td>\n",
       "      <td>30550</td>\n",
       "      <td>17626</td>\n",
       "      <td>8486</td>\n",
       "      <td>3</td>\n",
       "      <td>3876</td>\n",
       "      <td>2008</td>\n",
       "      <td>1992</td>\n",
       "      <td>1</td>\n",
       "      <td>120</td>\n",
       "      <td>5</td>\n",
       "    </tr>\n",
       "    <tr>\n",
       "      <th>top</th>\n",
       "      <td></td>\n",
       "      <td></td>\n",
       "      <td>Unreported</td>\n",
       "      <td></td>\n",
       "      <td>21 Dec 2015</td>\n",
       "      <td></td>\n",
       "      <td>26 Nov 2013</td>\n",
       "      <td></td>\n",
       "      <td>[Macleman]</td>\n",
       "      <td>https://moj-tribunals-documents-prod.s3.amazon...</td>\n",
       "      <td>...</td>\n",
       "      <td>[for, the, appellant, in, person]</td>\n",
       "      <td>no appearance</td>\n",
       "      <td>mr p duffy senior home office presenting officer</td>\n",
       "      <td>Accepted</td>\n",
       "      <td>Home Office</td>\n",
       "      <td>Home Office</td>\n",
       "      <td>IJR</td>\n",
       "      <td>Yes</td>\n",
       "      <td>This determination was removed from the Countr...</td>\n",
       "      <td></td>\n",
       "    </tr>\n",
       "    <tr>\n",
       "      <th>freq</th>\n",
       "      <td>33165</td>\n",
       "      <td>33165</td>\n",
       "      <td>33165</td>\n",
       "      <td>1756</td>\n",
       "      <td>73</td>\n",
       "      <td>511</td>\n",
       "      <td>2544</td>\n",
       "      <td>12000</td>\n",
       "      <td>936</td>\n",
       "      <td>1</td>\n",
       "      <td>...</td>\n",
       "      <td>35</td>\n",
       "      <td>423</td>\n",
       "      <td>550</td>\n",
       "      <td>13711</td>\n",
       "      <td>6748</td>\n",
       "      <td>22363</td>\n",
       "      <td>75</td>\n",
       "      <td>378</td>\n",
       "      <td>17</td>\n",
       "      <td>42</td>\n",
       "    </tr>\n",
       "  </tbody>\n",
       "</table>\n",
       "<p>4 rows × 29 columns</p>\n",
       "</div>"
      ],
      "text/plain": [
       "       Case title: Appellant name: Status of case: Hearing date:  \\\n",
       "count        35305           35305           35305         35305   \n",
       "unique        2138            1158               2          3038   \n",
       "top                                     Unreported                 \n",
       "freq         33165           33165           33165          1756   \n",
       "\n",
       "       Promulgation date: Publication date: Last updated on: Country:  \\\n",
       "count               35305             35305            35305    34292   \n",
       "unique               3048              2189             1773      214   \n",
       "top           21 Dec 2015                        26 Nov 2013            \n",
       "freq                   73               511             2544    12000   \n",
       "\n",
       "           Judges:                                           Document  ...  \\\n",
       "count        35305                                              35305  ...   \n",
       "unique        2672                                              35305  ...   \n",
       "top     [Macleman]  https://moj-tribunals-documents-prod.s3.amazon...  ...   \n",
       "freq           936                                                  1  ...   \n",
       "\n",
       "                          Representation:     Appellant:  \\\n",
       "count                               31933          31933   \n",
       "unique                              30550          17626   \n",
       "top     [for, the, appellant, in, person]  no appearance   \n",
       "freq                                   35            423   \n",
       "\n",
       "                                             Respondent: Decision label:  \\\n",
       "count                                              31933           30085   \n",
       "unique                                              8486               3   \n",
       "top     mr p duffy senior home office presenting officer        Accepted   \n",
       "freq                                                 550           13711   \n",
       "\n",
       "       Appellant entity: Respondent entity: Keywords Country guidance:  \\\n",
       "count              23006              27283     2173               378   \n",
       "unique              3876               2008     1992                 1   \n",
       "top          Home Office        Home Office      IJR               Yes   \n",
       "freq                6748              22363       75               378   \n",
       "\n",
       "                                              Case Notes: Categories:  \n",
       "count                                                 250          46  \n",
       "unique                                                120           5  \n",
       "top     This determination was removed from the Countr...              \n",
       "freq                                                   17          42  \n",
       "\n",
       "[4 rows x 29 columns]"
      ]
     },
     "execution_count": 8,
     "metadata": {},
     "output_type": "execute_result"
    }
   ],
   "source": [
    "df.describe()\n",
    "\n",
    "\n"
   ]
  },
  {
   "cell_type": "code",
   "execution_count": 11,
   "metadata": {},
   "outputs": [
    {
     "name": "stdout",
     "output_type": "stream",
     "text": [
      "              String\n",
      "count   35270.000000\n",
      "mean     2512.161270\n",
      "std      3266.652624\n",
      "min         0.000000\n",
      "25%      1079.000000\n",
      "50%      1798.000000\n",
      "75%      2903.000000\n",
      "max    125522.000000\n"
     ]
    },
    {
     "data": {
      "image/png": "[encoded data removed]",
      "text/plain": [
       "<Figure size 720x360 with 1 Axes>"
      ]
     },
     "metadata": {},
     "output_type": "display_data"
    }
   ],
   "source": [
    "# Original texts deleting duplicated issues\n",
    "orig_texts = df['String'].unique().tolist()\n",
    "\n",
    "# Issue field length count statisticals values and histogram with KDE\n",
    "document_lengths = [len(re.findall(r'\\b([a-zA-Z]+n\\'t|[a-zA-Z]+\\'s|[a-zA-Z]+)\\b', x)) for x in orig_texts]\n",
    "\n",
    "print(pd.DataFrame(document_lengths, columns = ['String']).describe())\n",
    "\n",
    "sns.set_style(style=\"darkgrid\")\n",
    "\n",
    "sns.displot(document_lengths, kde = True, bins = 40, height = 5, aspect = 2)\n",
    "plt.title('Document length')"
   ]
  },
  {
   "cell_type": "code",
   "execution_count": 20,
   "metadata": {},
   "outputs": [
    {
     "name": "stdout",
     "output_type": "stream",
     "text": [
      "          Decision:\n",
      "count  3.527000e+04\n",
      "mean   1.785578e+04\n",
      "std    2.448509e+04\n",
      "min    5.000000e+00\n",
      "25%    7.877250e+03\n",
      "50%    1.273000e+04\n",
      "75%    2.030275e+04\n",
      "max    1.249939e+06\n"
     ]
    },
    {
     "data": {
      "text/plain": [
       "Text(0.5, 1.0, 'Decision length')"
      ]
     },
     "execution_count": 20,
     "metadata": {},
     "output_type": "execute_result"
    },
    {
     "data": {
      "image/png": "[encoded data removed]",
      "text/plain": [
       "<Figure size 1080x360 with 1 Axes>"
      ]
     },
     "metadata": {},
     "output_type": "display_data"
    }
   ],
   "source": [
    "# Original texts deleting duplicated issues\n",
    "orig_decisions = df['Decision:'].tolist()\n",
    "\n",
    "# Issue field length count statisticals values and histogram with KDE\n",
    "decision_lengths = [len(x) for x in orig_texts]\n",
    "\n",
    "print(pd.DataFrame(decision_lengths, columns = ['Decision:']).describe())\n",
    "\n",
    "sns.set_style(style=\"darkgrid\")\n",
    "\n",
    "sns.displot(document_lengths, kde = True, bins = 400, height = 5, aspect = 3)\n",
    "plt.title('Decision length')\n"
   ]
  }
 ],
 "metadata": {
  "interpreter": {
   "hash": "0da6e46dab1e0b3d9fa32aec1170dd2df7038a4f7be3a54c97a348d8ad782954"
  },
  "kernelspec": {
   "display_name": "Python 3.8.11 64-bit ('tfm': conda)",
   "name": "python3"
  },
  "language_info": {
   "codemirror_mode": {
    "name": "ipython",
    "version": 3
   },
   "file_extension": ".py",
   "mimetype": "text/x-python",
   "name": "python",
   "nbconvert_exporter": "python",
   "pygments_lexer": "ipython3",
   "version": "3.8.11"
  }
 },
 "nbformat": 4,
 "nbformat_minor": 1
}
