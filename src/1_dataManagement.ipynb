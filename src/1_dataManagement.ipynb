{
 "cells": [
  {
   "cell_type": "markdown",
   "metadata": {},
   "source": [
    "# Managing scraped data (28th October 2021)"
   ]
  },
  {
   "cell_type": "markdown",
   "metadata": {},
   "source": [
    "This notebook manages the tribunal decision's data scraped in 0_dataScraping.ipynb\n",
    "\n",
    "In particular, the notebook:\n",
    "\n",
    "1. Converts the 35258 downloaded word (doc/docx) documents to .txt\n",
    "\n",
    "2. Stores the text of each judicial decision in the corresponding dictionary.\n",
    "    \n",
    "3. Provides some descriptive statistics of the downloaded files.\n",
    "\n",
    "The resulting data set (a list of dictionaries) is serialised as a json object (jsonDataFinal.json).\n",
    "\n",
    "This notebook should run in the tfm environment, which can be created with the environment.yml file."
   ]
  },
  {
   "cell_type": "code",
   "execution_count": 38,
   "metadata": {},
   "outputs": [
    {
     "name": "stdout",
     "output_type": "stream",
     "text": [
      "Current environment: /Users/albertamurgopacheco/anaconda3/envs/tfm/bin/python\n",
      "Current working directory: /Users/albertamurgopacheco/Documents/GitHub/TFM\n"
     ]
    }
   ],
   "source": [
    "from os import listdir\n",
    "from os.path import isfile, join, getsize\n",
    "import numpy as np\n",
    "import time\n",
    "import re\n",
    "import json\n",
    "import pickle\n",
    "import pandas as pd\n",
    "import whois\n",
    "import sys\n",
    "import datetime\n",
    "from tqdm import tqdm\n",
    "import textract\n",
    "import wget\n",
    "\n",
    "import sys\n",
    "IN_COLAB = 'google.colab' in sys.modules\n",
    "\n",
    "\n",
    "# What environment am I using?\n",
    "print(f'Current environment: {sys.executable}')\n",
    "\n",
    "# Change the current working directory\n",
    "os.chdir('/Users/albertamurgopacheco/Documents/GitHub/TFM')\n",
    "# What's my working directory?\n",
    "print(f'Current working directory: {os.getcwd()}')\n"
   ]
  },
  {
   "cell_type": "code",
   "execution_count": 7,
   "metadata": {},
   "outputs": [],
   "source": [
    "# Define working directories in colab and local execution\n",
    "\n",
    "if IN_COLAB:\n",
    "    from google.colab import drive\n",
    "    drive.mount('/content/gdrive')\n",
    "    docs_path = '/content/gdrive/MyDrive/TFM/data/raw'\n",
    "    input_path = '/content/gdrive/MyDrive/TFM'\n",
    "    output_path = '/content/gdrive/MyDrive/TFM/output'\n",
    "\n",
    "else:\n",
    "    docs_path = './data/raw'\n",
    "    input_path = '.'\n",
    "    output_path = './output'"
   ]
  },
  {
   "cell_type": "markdown",
   "metadata": {},
   "source": [
    "# 1. Converting word documents (.doc/.docx) to .txt"
   ]
  },
  {
   "cell_type": "code",
   "execution_count": 8,
   "metadata": {},
   "outputs": [],
   "source": [
    "# Extract all files in docs_path (name, size and last modification_time)\n",
    "files_name_list_raw = [f for f in listdir(docs_path) if isfile(join(docs_path, f))]\n",
    "files_size_list = [getsize(join(docs_path, f)) for f in listdir(docs_path) if isfile(join(docs_path, f))]"
   ]
  },
  {
   "cell_type": "code",
   "execution_count": 9,
   "metadata": {},
   "outputs": [
    {
     "name": "stdout",
     "output_type": "stream",
     "text": [
      "Number of files: 35258\n",
      "Number of unique file names: 35258\n",
      "Number of unique file sizes: 35258\n"
     ]
    }
   ],
   "source": [
    "# Obtain/check number of files\n",
    "print('Number of files:', len(files_name_list_raw))\n",
    "# Unique files based on size file_name\n",
    "print('Number of unique file names:', len(set(files_name_list_raw)))\n",
    "# Unique files based on size file_name\n",
    "print('Number of unique file sizes:', len(set(files_name_list_raw)))"
   ]
  },
  {
   "cell_type": "markdown",
   "metadata": {},
   "source": [
    "There are no duplicated files."
   ]
  },
  {
   "cell_type": "markdown",
   "metadata": {},
   "source": [
    "Create a function to obtain the data from the court's decision detailed page using beautifulSoup.     TO DO: 2. Try with different files make sure it works, 3. Capture exceptions and 204 responses. 4. Create function, 5. How am I storing the dicts? In a list? 5. Try function with just a few obs. https://stackoverflow.com/questions/20638006/convert-list-of-dictionaries-to-a-pandas-dataframe\n",
    "\n"
   ]
  },
  {
   "cell_type": "code",
   "execution_count": 12,
   "metadata": {},
   "outputs": [
    {
     "name": "stderr",
     "output_type": "stream",
     "text": [
      "100%|██████████| 35255/35255 [50:46<00:00, 11.57it/s]\n"
     ]
    }
   ],
   "source": [
    "# Delete DS_Store files in raw data folder\n",
    "!find . -name '.DS_Store' -type f -delete\n",
    "\n",
    "# Files HU077022015.doc & HU029682017.docx are corrupt. Manually deleted from data/raw \n",
    "# (textract not dealing with Shell Error exceptions)\n",
    "\n",
    "# Destination directory of txt files\n",
    "dest_files_path = os.path.join(os.getcwd(), 'data/processed/txt_files')\n",
    "\n",
    "# Loop to extract txt from word files (with decorator progress bar)\n",
    "for word_file in  tqdm(os.listdir(docs_path)):\n",
    "\n",
    "    file, extension = os.path.splitext(word_file)\n",
    "    \n",
    "    # Create txt file concatenating .txt extension to file name\n",
    "    dest_file_name = file + '.txt'\n",
    "    \n",
    "    # Extract text from the file\n",
    "    content = textract.process(os.path.join(docs_path, word_file))\n",
    "    \n",
    "    # Create and open new file & prepare to write the Binary Data (represented by wb - Write Binary)\n",
    "    write_text_file = open(os.path.join(dest_files_path, dest_file_name), \"wb\")\n",
    "    \n",
    "    # Write the content and close the newly created file\n",
    "    write_text_file.write(content)\n",
    "    write_text_file.close()"
   ]
  },
  {
   "cell_type": "markdown",
   "metadata": {},
   "source": [
    "Now that we have defined all the necessary functions, we can open a browser and start scraping."
   ]
  },
  {
   "cell_type": "markdown",
   "metadata": {},
   "source": [
    "# 2. Storing the text of each decision to jsonData\n",
    "A string with sentence text is added to each object in the list."
   ]
  },
  {
   "cell_type": "code",
   "execution_count": 13,
   "metadata": {},
   "outputs": [
    {
     "name": "stderr",
     "output_type": "stream",
     "text": [
      "100%|██████████| 35097/35097 [05:19<00:00, 109.87it/s]\n"
     ]
    }
   ],
   "source": [
    "# Paths to jsonData & txt files\n",
    "jsonData_path = os.path.join(os.getcwd(), 'data/jsonData.json')\n",
    "txt_path = './data/processed/txt_files/'\n",
    "\n",
    "# Open jsonData file as data\n",
    "with open(jsonData_path) as json_file:\n",
    "    data = json.load(json_file)\n",
    "\n",
    "# Loading string with court decision to data\n",
    "for txt_file in  tqdm(os.listdir(txt_path)):\n",
    "    \n",
    "    # Open file and obtain string and file_name\n",
    "    with open(txt_path + txt_file, 'r') as file:\n",
    "        string = file.read()\n",
    "        f_name, f_ext = os.path.splitext(file.name)\n",
    "        head, file_name = os.path.split(f_name)\n",
    "    # Search data list of dictionaries for dict where {\"File\":} = file_name\n",
    "    for d in data:\n",
    "        if d.get('File') == file_name:\n",
    "            # Add dictionary key 'String' with value string\n",
    "            d.update({'String': string})\n"
   ]
  },
  {
   "cell_type": "code",
   "execution_count": 14,
   "metadata": {},
   "outputs": [],
   "source": [
    "# Save data as a json file jsonDataFinal in data directory\n",
    "with open('./data/jsonDataFinal.json', 'w') as fout:\n",
    "    json.dump(data, fout)"
   ]
  },
  {
   "cell_type": "code",
   "execution_count": 59,
   "metadata": {},
   "outputs": [
    {
     "name": "stdout",
     "output_type": "stream",
     "text": [
      "{'Case title:': '', 'Appellant name:': '', 'Status of case:': 'Unreported', 'Hearing date:': '27 Aug 2021', 'Promulgation date:': '11 Oct 2021', 'Publication date:': '26 Oct 2021', 'Last updated on:': '26 Oct 2021', 'Country:': '', 'Judges:': '', 'Document': 'https://moj-tribunals-documents-prod.s3.amazonaws.com/decision/doc_file/73739/HU202322019.doc', 'Reference': ['HU/20232/2019'], 'Download': 'Yes', 'File': 'HU202322019'}\n",
      "The name of the downloaded file HU202322019.doc\n",
      "{'Case title:': '', 'Appellant name:': '', 'Status of case:': 'Unreported', 'Hearing date:': '27 Aug 2021', 'Promulgation date:': '11 Oct 2021', 'Publication date:': '26 Oct 2021', 'Last updated on:': '26 Oct 2021', 'Country:': '', 'Judges:': '', 'Document': 'https://moj-tribunals-documents-prod.s3.amazonaws.com/decision/doc_file/73739/HU202322019.doc', 'Reference': ['HU/20232/2019'], 'Download': 'Yes', 'File': 'HU202322019', 'String': b'\\n                                    [pic]\\nIAC-FH-CK-V1\\n\\nUpper Tribunal\\n(Immigration and Asylum Chamber)    Appeal Number: HU/20232/2019\\n\\n\\n                            THE IMMIGRATION ACTS\\n\\n\\n|Heard at Field House                 |Decision & Reasons Promulgated       |\\n|On 27 August 2021                    |On the 11th October 2021             |\\n|Extempore                            |                                     |\\n\\n\\n                                   Before\\n\\n                        UPPER TRIBUNAL JUDGE RINTOUL\\n\\n\\n                                   Between\\n\\n                               Mr Nasir Iqbal\\n                       (ANONYMITY DIRECTION NOT MADE)\\n                                                                   Appellant\\n                                     and\\n\\n               THE SECRETARY OF STATE FOR THE HOME DEPARTMENT\\n                                                                  Respondent\\n\\n\\nRepresentation:\\nFor the Appellant:     Mr J Gajjar, Counsel instructed by M A Consultants\\n(Birmingham)\\nFor the Respondent:    Mr E Tufan, Home Office Presenting Officer\\n\\n\\n                            DECISION AND REASONS\\n\\nThe appellant is a citizen of Pakistan born on 13 March 1983.  He appeals\\nunder Section 82 of the Nationality, Immigration and Asylum Act 2002\\nagainst a decision of the Secretary of State made on 20 November 2019 to\\nrefuse his application for leave to remain in the United Kingdom.  His\\nappeal against that decision was heard in the First-tier Tribunal on 5\\nMarch 2020 and for the reasons set out in the decision of 29 April 2020\\nthat was refused.  For the reasons set out in my decision of 23 October\\n2020 (a copy of which is annexed) that decision was set aside.\\n\\nThe appellant entered the United Kingdom on 26 September 2013 with a visit\\nvisa but remained here without leave and whilst here formed a relationship\\nwith Miss Jabeen, who is also a citizen of Pakistan.  Miss Jabeen, who I\\nrefer to as the sponsor, has a son who is a British citizen from a previous\\nrelationship.  It is her case that there is no longer any contact with the\\nchild\\'s father and it is the appellant\\'s case that he has formed now a\\nparental relationship with the appellant.  The family live together and\\nuntil relatively recently the sponsor was employed.\\n\\nThe Secretary of State\\'s case before the First-tier Tribunal was that the\\nappellant did not meet the requirements of the Immigration Rules nor was it\\naccepted that the appellant had established a parental relationship.\\n\\nThe judge in the First-tier Tribunal made a number of findings.  She found\\nthat the requirements of the Immigration Rules were not met, which is not\\nchallenged, that there was a subsisting relationship between the appellant\\nand the sponsor and that there was a genuine and subsisting relationship,\\nparagraph 18, and that the appellant enjoyed a family life in the United\\nKingdom with his partner and her son.  The judge also found at paragraph 20\\nthat it was in the son\\'s best interests to remain in the United Kingdom and\\nit would be on balance not reasonable to expect him to leave the United\\nKingdom away from all his ties.  The judge did not, however, find that it\\nwould be a disproportionate interference with the appellant\\'s right to\\nrespect for his family life to leave the United Kingdom and dismissed the\\nappeal on that basis.\\n\\nThe appellant sought permission to appeal against that decision, which was\\ngranted on 15 June 2020 by First-tier Tribunal Judge Adio.  Subsequent to\\nthat the Secretary of State in a letter made pursuant to Rule 24 of the\\nProcedure Rules on 2 September 2020 stated that she did not oppose the\\napplication for permission and asked the Tribunal to determine the appeal\\nwith a fresh oral decision.  It was on that basis that on 23 October 2020 I\\nfound that the decision of the First-tier Tribunal involve the making of an\\nerror of law, albeit without the need for a hearing.  Certain findings of\\nthe First-tier Tribunal were preserved, first, that there was a subsisting\\nfamily life between the appellant, his partner and her son, and identified\\nthat it was necessary, however, to consider whether there was a parental\\nrelationship between the appellant and his stepson.\\n\\nI heard evidence from the appellant and the sponsor, both of whom adopted\\ntheir witness statements and gave evidence with the assistance of a court\\ninterpreter.  They were both cross-examined by Mr Tufan on behalf of the\\nSecretary of State.  I find some of the evidence of the appellant confusing\\nabout whether his wife was working or not and the nature of her work.\\nThere is unfortunately no documentary evidence as to the nature of her work\\nbeyond the payslips but taking their evidence together and looking at it in\\nthe round, I accept that she has ceased to work although she did work in\\nthe past.  The confusion about there being an online company is that I\\nthink that the company fulfilled online orders but the matter is not\\nentirely clear and I do accept the sponsor\\'s evidence that she is not\\nfamiliar with computers and she was not working in an online capacity but I\\nfind that despite some misgivings I might have about the evidence on that\\npoint I am satisfied that the relationship subsists and I accept that the\\nsponsor is in receipt of Universal Credit, which would make sense, given\\nthat she had previously been employed, which is not in dispute, and she is\\nalso in receipt of child benefit, which, again, would be normal in the\\ncircumstances.\\n\\nIt is for the appellant to show that his removal from the United Kingdom\\nwould be disproportionate in terms of Article 8.  It is accepted that he\\ndoes not meet the requirements of the Immigration Rules and that is the\\nstarting point for any assessment of his position with respect to his\\nArticle 8 rights.  This is a case in which I must have regard to Section\\n117B of the 2002 Act.  The starting point is that the appellant does not\\nmeet the requirements of the Immigration Rules.  He is here unlawfully and\\nhas never had any expectation of being able to stay here.  Taking that as a\\nstarting point, I consider then whether and how the subparagraphs of\\nSection 117B apply.\\n\\nFirst, the starting point would normally be that there is heavy weight to\\nbe attached in favour of removal given the failure to meet the requirements\\nof the Immigration Rules.  The appellant has not shown much of an ability\\nto speak English nor for that matter is he now financially independent and\\nthese are factors which would normally weigh against him.  Similarly,\\nprivate and family life little weight can be attached to, given the terms\\nof Section 117B(4) and 117B(5).  The question then turns on Section\\n117B(6), which requires me to make a finding of fact.\\n\\nWhether a parental relationship exists between somebody who is not the\\nbiological parent and a child is a fact-sensitive matter.  There are a\\nnumber of factors which I take into account.  First, it is not in doubt and\\nI accept that the appellant and the sponsor live together as a married\\ncouple.  I accept also that the child has had no contact with his\\nbiological father and I accept the evidence, albeit somewhat unusual, that\\nat the age of 13 he is taken to and from school by the appellant.  There is\\nalso sufficient evidence in the witness statement evidence of a close\\nrelationship between the appellant and his stepson.  Factors which would\\ntend to go against that is that it is a relatively recent relationship of\\nsome three years but I find, looking at the evidence as a whole, that I am\\nsatisfied on a balance of probabilities that a parental relationship does\\nexist between the appellant and his stepson.  It follows on that basis that\\nI am satisfied that Section 117B(6) of the 2002 Act applies in this case.\\n\\nMr Tufan for the Secretary of State urges me to dismiss the appeal on the\\nbasis primarily of the decision in Younas [2020] UKUT 129 on the basis that\\nit would be proportionate to expect the appellant to return to Pakistan and\\nmake an application for entry clearance.\\n\\nThe first point to be made about Younas is that it can be distinguished on\\nthe basis that the Tribunal in Younas found that Section 117B(6) did not\\napply, having found that it had not been established that it was\\nunreasonable to expect the child to leave the United Kingdom.  The facts of\\nthat case were very different and the child was much younger.  Secondly,\\nand perhaps more importantly, as the Tribunal noted in Younas, Section\\n117B(6) is in effect a standalone provision, that is it is described as\\nself-contained.  The discussion in Younas revolves around how a Tribunal\\nshould establish whether it is reasonable to expect a child to leave, and\\nthey concluded in that case it should. That finding is what distinguishes\\nthis appeal.\\n\\nI turn next to the more recent decision of the Court of Appeal in NA\\n(Bangladesh) [2021] EWCA Civ 953.  It is important to note what is said in\\nthat case at paragraphs 29 and 30.  At paragraph 30 the Court of Appeal, in\\nthis case Lord Justice Underhill, with whom Lord Justices Singh and Warby\\nagreed, said:\\n\\n\"It is important, however, to emphasise that the approach approved by Lord\\nCarnwath in KO (Nigeria) does not provide for a presumption in the opposite\\ndirection.  It represents no more than a common sense starting point\\nadopted for the reasons given at paras 18 to 19 of his judgment.  It\\nremains necessary in every case to evaluate all the circumstances in order\\nto establish whether it would be reasonable to expect the child to leave\\nthe United Kingdom with his or her parents\",\\n\\nI emphasise the following passage:\\n\\n\"If the conclusion of the evaluation is that this would not be reasonable,\\nthen the hypothesis that the parents will be leaving has to be abandoned\\nand the family as a whole will be entitled to leave to remain.  To spell it\\nout, in the case of a qualifying child that will be under paragraph\\n276ADE(1), in the case of the parents it will be under Article 8, applying\\nSection 117B(6).\"\\n\\nApplying that to this case, I find that as Section 117B(6) is engaged, then\\nthere is no public interest in requiring the appellant to leave the United\\nKingdom.  That is because of the express requirement of Section 117B (6).\\nFurther, given that there is no public interest, then the factors set out\\nin the remainder of section 117B do not attract materially adverse weight.\\n\\nMr Tufan\\'s submissions proceeds on the basis that there is a public\\ninterest in removal, and that notwithstanding the preserved finding that\\nsection 117B (6) is met, it is still proportionate to remove.\\n\\nWith respect, the fact that Section 117B(6) is met means that there is no\\npublic interest in removal and on that basis it is difficult to understand\\nhow in the circumstances of this case it could be proportionate, given that\\nwhilst the appellant might be able to stay with family in Pakistan, how\\nlong he would have to stay there is, given that it is on the Red List,\\nunclear and it is unclear how long it would be before he would be able to\\nbe returned.  Certainly, it would not be reasonable to require his wife and\\nstepson to go to stay with him in Pakistan, given that for the same reasons\\nit would be difficult for them to live there and to return within any\\nproper period without significant difficulty and certainly, the advice as\\nfar as I understand it , the current advice from the UK Government is that\\nnobody should be going to Pakistan (it being on the Red List) unless there\\nis a very good reason to do so.\\n\\nFurther, the fact that the appellant has a parental relationship with a\\nchild who cannot be expected to leave the United Kingdom is, given that\\nsection 117B (6) applies, a sufficiently compelling circumstance such that\\nremoval would not be proportionate.\\n\\nFor all these reasons and taking into account all the factors relevant\\nwithin section 117B, I conclude that requiring the appellant to leave the\\nUnited Kingdom amounts to a disproportionate interference with his Article\\n8 rights and I allow the appeal on that basis.  In conclusion therefore,\\nthe decision of the First-tier Tribunal involved the making of an error of\\nlaw and I set it aside.  I remake the decision by allowing the appeal on\\nArticle 8 grounds.\\n\\n\\n\\nNotice of Decision\\n\\n 1. The decision of the First-tier Tribunal involved the making of an error\\n    of law and I set it aside.\\n\\n 2. I remake the appeal by allowing the appeal on human rights grounds.\\n\\n\\n\\nNo anonymity direction is made.\\n\\n\\n\\nJeremy K H Rintoul\\nUpper Tribunal Judge Rintoul    Date 07 September 2021\\n\\n\\n\\n\\n\\n\\nANNEX - ERROR OF LAW DECISION\\n\\n                                    [pic]\\nIAC-AH-SAR-V1\\n\\nUpper Tribunal\\n(Immigration and Asylum Chamber)    Appeal Number: hu/20232/2019\\n\\n\\n                            THE IMMIGRATION ACTS\\n\\n\\n|Decided under Rule 34 Without a      |Decision & Reasons Promulgated       |\\n|Hearing                              |                                     |\\n|At Field House                       |                                     |\\n|On 23 October 2020                   |                                     |\\n|                                     |.....................................|\\n|                                     |..                                   |\\n\\n\\n                                   Before\\n\\n                        UPPER TRIBUNAL JUDGE RINTOUL\\n\\n\\n                                   Between\\n\\n                                 NASIR IQBAL\\n                        (no ANONYMITY DIRECTION MADE)\\n                                                                   Appellant\\n                                     and\\n\\n                 SECRETARY OF STATE FOR THE HOME DEPARTMENT\\n                                                                  Respondent\\n\\n\\n                            DECISION AND REASONS\\n\\n 1. The appellant appeals with permission against the decision of First-\\n    tier Tribunal Judge Phull promulgated on 29 April 2020, dismissing his\\n    appeal under the Nationality, Immigration and Asylum Act 2002 against a\\n    decision of the respondent made on 20 November 2019 to refuse him leave\\n    to remain and his human rights claim.\\n\\n 1. The appellant sought leave to remain on the basis of  his  relationship\\n    with his partner, who is settled her,  and  her  son  from  an  earlier\\n    relationship. He is a British Citizen.\\n\\n 2. The judge found [18] that the appellant has established a  family  life\\n    in the United Kingdom with his partner and her son; that it  would  not\\n    be reasonable to expect the son to leave the UK [20] but  that  removal\\n    would be proportionate as the sponsor could go  there;  or,  she  could\\n    support his application to return.\\n\\n 3. The appellant sought permission to appeal on the grounds that the judge\\n    had erred in not  making  any  finding  whether  there  is  a  parental\\n    relationship between the appellant and his partner\\'s son which would be\\n    material as if so, then section  117B(6)  of  the  2002  Act  would  be\\n    engaged; and, having found that it would not be  reasonable  to  expect\\n    the son to leave  the  United  Kingdom,  erred  in  her  assessment  of\\n    proportionality.\\n\\n 4. On 29 April 2020, First-tier Tribunal Judge Adio granted permission  on\\n    all grounds.\\n\\n 5. On 30 July 2020, Upper Tribunal  Judge  Norton-Taylor  gave  directions\\n    which  provided amongst other matters:\\n\\n      1. I have reviewed the file in this case.  In the light of the present\\n         need to take precautions against the spread of  Covid-19,  and  the\\n         overriding objective expressed in the Procedure  Rules[1],  I  have\\n         reached the provisional view,   that  it  would  in  this  case  be\\n         appropriate to determine the following questions without a hearing:\\n\\n          a) whether the  making  of  the  First-tier  Tribunal\\'s  decision\\n             involved the making of an error of law, and, if so\\n\\n          b) whether that decision should be set aside.\\n\\n      2. I therefore make the following DIRECTIONS:\\n\\n          i) The appellant may submit further submissions in support of the\\n             assertion of an error of law, and on the question whether  the\\n             First-tier Tribunal\\'s decision should be set aside if error of\\n             law is found, to be filed and served on all other  parties  no\\n             later than 14 days after this notice is sent out (the date  of\\n             sending is on the covering letter or covering email);\\n\\n         ii) Any other party may file and serve submissions in response, no\\n             later than 21 days after this notice is sent out;\\n\\n        iii) If submissions are made  in  accordance  with  paragraph  (ii)\\n             above the party who sought permission to appeal may  file  and\\n             serve a reply no later than 28 days after this notice is  sent\\n             out.\\n\\n         iv) All submissions that  rely  on  any  document  not  previously\\n             provided to all other  parties  in  electronic  form  must  be\\n             accompanied by electronic copies of any such document.\\n\\n      3. Any party who considers that despite  the  foregoing  directions  a\\n         hearing is necessary to consider the questions set out in paragraph\\n         1 (or either of them) above must submit reasons for  that  view  no\\n         later than 21 days after this notice is sent out and they  will  be\\n         taken into account by the Tribunal.  The directions in paragraph  2\\n         above must be complied with in every case.\\n\\n 6. On 2 September 2020, the respondent replied stating that  she  did  not\\n    oppose the application for permission, and invited the  Upper  Tribunal\\n    to determine the appeal at a further oral hearing to consider whether a\\n    parental relationship exists between the appellant  and  his  partner\\'s\\n    son.\\n\\n 7. The Tribunal has the power to make the decision without a hearing under\\n    Rule 34 of the Procedure Rules.  Rule 34(2) requires me to have  regard\\n    to the views of the parties.  Bearing in mind the overriding  objective\\n    in Rule 2 to enable the Tribunal to deal with cases fairly and  justly,\\n    and bearing in mind the concession by the respondent,  I  am  satisfied\\n    that in the particular circumstances of this  case  that  it  would  be\\n    correct to make a decision being made in the absence of a hearing.\\n\\n 8. I am satisfied that the judge did err in reaching her  decision  as  is\\n    claimed in the grounds of appeal and as is accepted by the  respondent.\\n    The decision clearly involved the making of an error of law as  claimed\\n    as these errors went to  the  weight  to  be  attached  to  the  public\\n    interest by operation of section 117B(6) of the 2002 Act. That required\\n    a finding as to whether a  parental  relationship  exists  between  the\\n    appellant and his partner\\'s son. That error  infects  the  findings  on\\n    proportionality which must also be set aside. Further, the judge  erred\\n    in considering that it would be reasonable to  expect  the  appellant\\'s\\n    partner to go back to Pakistan, given the finding made  that  it  would\\n    not be reasonable to expect her son to leave the United Kingdom.\\n\\n 9. I consider that the findings as to family life made by Judge Phull  can\\n    be preserved. It will, however, be necessary for the Upper Tribunal  to\\n    make findings as  to  whether  there  exists  a  parental  relationship\\n    between the appellant and his partner\\'s son and to make fresh  findings\\n    as to proportionality in any event, given the finding that it would not\\n    be reasonable to expect the appellant\\'s  partner\\'s  son  to  leave  the\\n    United Kingdom.\\n\\n\\n\\nNotice of Decision & Directions\\n\\n 1. The decision of the First-tier Tribunal did involve the  making  of  an\\n    error of law and I set it aside.\\n\\n 2. The appeal will be remade in the Upper Tribunal on a date to be fixed.\\n\\n 3. Having regard to the Pilot Practice Direction and  the  UTIAC  Guidance\\n    Note No 1 of 2020, the Upper Tribunal is provisionally of the view that\\n    the forthcoming hearing in this appeal can and should be held  face-to-\\n    face on a date to be fixed as it may be necessary to have further  oral\\n    evidence via a court interpreter.\\n\\n 4. Any party wishing to adduce further evidence must serve it at least  10\\n    working days before the next hearing,  accompanied  by  an  application\\n    made pursuant  to  rule  15  (2A)  of  the  Tribunal  Procedure  (Upper\\n    Tribunal) Rules 2008 explaining why it should be permitted\\n\\n\\n\\n\\n\\n\\n\\n       Signed                                Date 23 October 2020\\n\\n\\n       Jeremy K H Rintoul\\n             Upper Tribunal Judge Rintoul\\n\\n-----------------------\\n[1] The overriding objective is to enable the Upper Tribunal to deal with\\ncases fairly and justly: rule 2(1) of the Tribunal Procedure (Upper\\nTribunal) Rules 2008; see also rule 2(2) to (4).\\n\\n\\n'}\n",
      "{'Case title:': '', 'Appellant name:': '', 'Status of case:': 'Unreported', 'Hearing date:': '27 Aug 2021', 'Promulgation date:': '11 Oct 2021', 'Publication date:': '26 Oct 2021', 'Last updated on:': '26 Oct 2021', 'Country:': '', 'Judges:': '', 'Document': 'https://moj-tribunals-documents-prod.s3.amazonaws.com/decision/doc_file/73739/HU202322019.doc', 'Reference': ['HU/20232/2019'], 'Download': 'Yes', 'File': 'HU202322019', 'String': b'\\n                                    [pic]\\nIAC-FH-CK-V1\\n\\nUpper Tribunal\\n(Immigration and Asylum Chamber)    Appeal Number: HU/20232/2019\\n\\n\\n                            THE IMMIGRATION ACTS\\n\\n\\n|Heard at Field House                 |Decision & Reasons Promulgated       |\\n|On 27 August 2021                    |On the 11th October 2021             |\\n|Extempore                            |                                     |\\n\\n\\n                                   Before\\n\\n                        UPPER TRIBUNAL JUDGE RINTOUL\\n\\n\\n                                   Between\\n\\n                               Mr Nasir Iqbal\\n                       (ANONYMITY DIRECTION NOT MADE)\\n                                                                   Appellant\\n                                     and\\n\\n               THE SECRETARY OF STATE FOR THE HOME DEPARTMENT\\n                                                                  Respondent\\n\\n\\nRepresentation:\\nFor the Appellant:     Mr J Gajjar, Counsel instructed by M A Consultants\\n(Birmingham)\\nFor the Respondent:    Mr E Tufan, Home Office Presenting Officer\\n\\n\\n                            DECISION AND REASONS\\n\\nThe appellant is a citizen of Pakistan born on 13 March 1983.  He appeals\\nunder Section 82 of the Nationality, Immigration and Asylum Act 2002\\nagainst a decision of the Secretary of State made on 20 November 2019 to\\nrefuse his application for leave to remain in the United Kingdom.  His\\nappeal against that decision was heard in the First-tier Tribunal on 5\\nMarch 2020 and for the reasons set out in the decision of 29 April 2020\\nthat was refused.  For the reasons set out in my decision of 23 October\\n2020 (a copy of which is annexed) that decision was set aside.\\n\\nThe appellant entered the United Kingdom on 26 September 2013 with a visit\\nvisa but remained here without leave and whilst here formed a relationship\\nwith Miss Jabeen, who is also a citizen of Pakistan.  Miss Jabeen, who I\\nrefer to as the sponsor, has a son who is a British citizen from a previous\\nrelationship.  It is her case that there is no longer any contact with the\\nchild\\'s father and it is the appellant\\'s case that he has formed now a\\nparental relationship with the appellant.  The family live together and\\nuntil relatively recently the sponsor was employed.\\n\\nThe Secretary of State\\'s case before the First-tier Tribunal was that the\\nappellant did not meet the requirements of the Immigration Rules nor was it\\naccepted that the appellant had established a parental relationship.\\n\\nThe judge in the First-tier Tribunal made a number of findings.  She found\\nthat the requirements of the Immigration Rules were not met, which is not\\nchallenged, that there was a subsisting relationship between the appellant\\nand the sponsor and that there was a genuine and subsisting relationship,\\nparagraph 18, and that the appellant enjoyed a family life in the United\\nKingdom with his partner and her son.  The judge also found at paragraph 20\\nthat it was in the son\\'s best interests to remain in the United Kingdom and\\nit would be on balance not reasonable to expect him to leave the United\\nKingdom away from all his ties.  The judge did not, however, find that it\\nwould be a disproportionate interference with the appellant\\'s right to\\nrespect for his family life to leave the United Kingdom and dismissed the\\nappeal on that basis.\\n\\nThe appellant sought permission to appeal against that decision, which was\\ngranted on 15 June 2020 by First-tier Tribunal Judge Adio.  Subsequent to\\nthat the Secretary of State in a letter made pursuant to Rule 24 of the\\nProcedure Rules on 2 September 2020 stated that she did not oppose the\\napplication for permission and asked the Tribunal to determine the appeal\\nwith a fresh oral decision.  It was on that basis that on 23 October 2020 I\\nfound that the decision of the First-tier Tribunal involve the making of an\\nerror of law, albeit without the need for a hearing.  Certain findings of\\nthe First-tier Tribunal were preserved, first, that there was a subsisting\\nfamily life between the appellant, his partner and her son, and identified\\nthat it was necessary, however, to consider whether there was a parental\\nrelationship between the appellant and his stepson.\\n\\nI heard evidence from the appellant and the sponsor, both of whom adopted\\ntheir witness statements and gave evidence with the assistance of a court\\ninterpreter.  They were both cross-examined by Mr Tufan on behalf of the\\nSecretary of State.  I find some of the evidence of the appellant confusing\\nabout whether his wife was working or not and the nature of her work.\\nThere is unfortunately no documentary evidence as to the nature of her work\\nbeyond the payslips but taking their evidence together and looking at it in\\nthe round, I accept that she has ceased to work although she did work in\\nthe past.  The confusion about there being an online company is that I\\nthink that the company fulfilled online orders but the matter is not\\nentirely clear and I do accept the sponsor\\'s evidence that she is not\\nfamiliar with computers and she was not working in an online capacity but I\\nfind that despite some misgivings I might have about the evidence on that\\npoint I am satisfied that the relationship subsists and I accept that the\\nsponsor is in receipt of Universal Credit, which would make sense, given\\nthat she had previously been employed, which is not in dispute, and she is\\nalso in receipt of child benefit, which, again, would be normal in the\\ncircumstances.\\n\\nIt is for the appellant to show that his removal from the United Kingdom\\nwould be disproportionate in terms of Article 8.  It is accepted that he\\ndoes not meet the requirements of the Immigration Rules and that is the\\nstarting point for any assessment of his position with respect to his\\nArticle 8 rights.  This is a case in which I must have regard to Section\\n117B of the 2002 Act.  The starting point is that the appellant does not\\nmeet the requirements of the Immigration Rules.  He is here unlawfully and\\nhas never had any expectation of being able to stay here.  Taking that as a\\nstarting point, I consider then whether and how the subparagraphs of\\nSection 117B apply.\\n\\nFirst, the starting point would normally be that there is heavy weight to\\nbe attached in favour of removal given the failure to meet the requirements\\nof the Immigration Rules.  The appellant has not shown much of an ability\\nto speak English nor for that matter is he now financially independent and\\nthese are factors which would normally weigh against him.  Similarly,\\nprivate and family life little weight can be attached to, given the terms\\nof Section 117B(4) and 117B(5).  The question then turns on Section\\n117B(6), which requires me to make a finding of fact.\\n\\nWhether a parental relationship exists between somebody who is not the\\nbiological parent and a child is a fact-sensitive matter.  There are a\\nnumber of factors which I take into account.  First, it is not in doubt and\\nI accept that the appellant and the sponsor live together as a married\\ncouple.  I accept also that the child has had no contact with his\\nbiological father and I accept the evidence, albeit somewhat unusual, that\\nat the age of 13 he is taken to and from school by the appellant.  There is\\nalso sufficient evidence in the witness statement evidence of a close\\nrelationship between the appellant and his stepson.  Factors which would\\ntend to go against that is that it is a relatively recent relationship of\\nsome three years but I find, looking at the evidence as a whole, that I am\\nsatisfied on a balance of probabilities that a parental relationship does\\nexist between the appellant and his stepson.  It follows on that basis that\\nI am satisfied that Section 117B(6) of the 2002 Act applies in this case.\\n\\nMr Tufan for the Secretary of State urges me to dismiss the appeal on the\\nbasis primarily of the decision in Younas [2020] UKUT 129 on the basis that\\nit would be proportionate to expect the appellant to return to Pakistan and\\nmake an application for entry clearance.\\n\\nThe first point to be made about Younas is that it can be distinguished on\\nthe basis that the Tribunal in Younas found that Section 117B(6) did not\\napply, having found that it had not been established that it was\\nunreasonable to expect the child to leave the United Kingdom.  The facts of\\nthat case were very different and the child was much younger.  Secondly,\\nand perhaps more importantly, as the Tribunal noted in Younas, Section\\n117B(6) is in effect a standalone provision, that is it is described as\\nself-contained.  The discussion in Younas revolves around how a Tribunal\\nshould establish whether it is reasonable to expect a child to leave, and\\nthey concluded in that case it should. That finding is what distinguishes\\nthis appeal.\\n\\nI turn next to the more recent decision of the Court of Appeal in NA\\n(Bangladesh) [2021] EWCA Civ 953.  It is important to note what is said in\\nthat case at paragraphs 29 and 30.  At paragraph 30 the Court of Appeal, in\\nthis case Lord Justice Underhill, with whom Lord Justices Singh and Warby\\nagreed, said:\\n\\n\"It is important, however, to emphasise that the approach approved by Lord\\nCarnwath in KO (Nigeria) does not provide for a presumption in the opposite\\ndirection.  It represents no more than a common sense starting point\\nadopted for the reasons given at paras 18 to 19 of his judgment.  It\\nremains necessary in every case to evaluate all the circumstances in order\\nto establish whether it would be reasonable to expect the child to leave\\nthe United Kingdom with his or her parents\",\\n\\nI emphasise the following passage:\\n\\n\"If the conclusion of the evaluation is that this would not be reasonable,\\nthen the hypothesis that the parents will be leaving has to be abandoned\\nand the family as a whole will be entitled to leave to remain.  To spell it\\nout, in the case of a qualifying child that will be under paragraph\\n276ADE(1), in the case of the parents it will be under Article 8, applying\\nSection 117B(6).\"\\n\\nApplying that to this case, I find that as Section 117B(6) is engaged, then\\nthere is no public interest in requiring the appellant to leave the United\\nKingdom.  That is because of the express requirement of Section 117B (6).\\nFurther, given that there is no public interest, then the factors set out\\nin the remainder of section 117B do not attract materially adverse weight.\\n\\nMr Tufan\\'s submissions proceeds on the basis that there is a public\\ninterest in removal, and that notwithstanding the preserved finding that\\nsection 117B (6) is met, it is still proportionate to remove.\\n\\nWith respect, the fact that Section 117B(6) is met means that there is no\\npublic interest in removal and on that basis it is difficult to understand\\nhow in the circumstances of this case it could be proportionate, given that\\nwhilst the appellant might be able to stay with family in Pakistan, how\\nlong he would have to stay there is, given that it is on the Red List,\\nunclear and it is unclear how long it would be before he would be able to\\nbe returned.  Certainly, it would not be reasonable to require his wife and\\nstepson to go to stay with him in Pakistan, given that for the same reasons\\nit would be difficult for them to live there and to return within any\\nproper period without significant difficulty and certainly, the advice as\\nfar as I understand it , the current advice from the UK Government is that\\nnobody should be going to Pakistan (it being on the Red List) unless there\\nis a very good reason to do so.\\n\\nFurther, the fact that the appellant has a parental relationship with a\\nchild who cannot be expected to leave the United Kingdom is, given that\\nsection 117B (6) applies, a sufficiently compelling circumstance such that\\nremoval would not be proportionate.\\n\\nFor all these reasons and taking into account all the factors relevant\\nwithin section 117B, I conclude that requiring the appellant to leave the\\nUnited Kingdom amounts to a disproportionate interference with his Article\\n8 rights and I allow the appeal on that basis.  In conclusion therefore,\\nthe decision of the First-tier Tribunal involved the making of an error of\\nlaw and I set it aside.  I remake the decision by allowing the appeal on\\nArticle 8 grounds.\\n\\n\\n\\nNotice of Decision\\n\\n 1. The decision of the First-tier Tribunal involved the making of an error\\n    of law and I set it aside.\\n\\n 2. I remake the appeal by allowing the appeal on human rights grounds.\\n\\n\\n\\nNo anonymity direction is made.\\n\\n\\n\\nJeremy K H Rintoul\\nUpper Tribunal Judge Rintoul    Date 07 September 2021\\n\\n\\n\\n\\n\\n\\nANNEX - ERROR OF LAW DECISION\\n\\n                                    [pic]\\nIAC-AH-SAR-V1\\n\\nUpper Tribunal\\n(Immigration and Asylum Chamber)    Appeal Number: hu/20232/2019\\n\\n\\n                            THE IMMIGRATION ACTS\\n\\n\\n|Decided under Rule 34 Without a      |Decision & Reasons Promulgated       |\\n|Hearing                              |                                     |\\n|At Field House                       |                                     |\\n|On 23 October 2020                   |                                     |\\n|                                     |.....................................|\\n|                                     |..                                   |\\n\\n\\n                                   Before\\n\\n                        UPPER TRIBUNAL JUDGE RINTOUL\\n\\n\\n                                   Between\\n\\n                                 NASIR IQBAL\\n                        (no ANONYMITY DIRECTION MADE)\\n                                                                   Appellant\\n                                     and\\n\\n                 SECRETARY OF STATE FOR THE HOME DEPARTMENT\\n                                                                  Respondent\\n\\n\\n                            DECISION AND REASONS\\n\\n 1. The appellant appeals with permission against the decision of First-\\n    tier Tribunal Judge Phull promulgated on 29 April 2020, dismissing his\\n    appeal under the Nationality, Immigration and Asylum Act 2002 against a\\n    decision of the respondent made on 20 November 2019 to refuse him leave\\n    to remain and his human rights claim.\\n\\n 1. The appellant sought leave to remain on the basis of  his  relationship\\n    with his partner, who is settled her,  and  her  son  from  an  earlier\\n    relationship. He is a British Citizen.\\n\\n 2. The judge found [18] that the appellant has established a  family  life\\n    in the United Kingdom with his partner and her son; that it  would  not\\n    be reasonable to expect the son to leave the UK [20] but  that  removal\\n    would be proportionate as the sponsor could go  there;  or,  she  could\\n    support his application to return.\\n\\n 3. The appellant sought permission to appeal on the grounds that the judge\\n    had erred in not  making  any  finding  whether  there  is  a  parental\\n    relationship between the appellant and his partner\\'s son which would be\\n    material as if so, then section  117B(6)  of  the  2002  Act  would  be\\n    engaged; and, having found that it would not be  reasonable  to  expect\\n    the son to leave  the  United  Kingdom,  erred  in  her  assessment  of\\n    proportionality.\\n\\n 4. On 29 April 2020, First-tier Tribunal Judge Adio granted permission  on\\n    all grounds.\\n\\n 5. On 30 July 2020, Upper Tribunal  Judge  Norton-Taylor  gave  directions\\n    which  provided amongst other matters:\\n\\n      1. I have reviewed the file in this case.  In the light of the present\\n         need to take precautions against the spread of  Covid-19,  and  the\\n         overriding objective expressed in the Procedure  Rules[1],  I  have\\n         reached the provisional view,   that  it  would  in  this  case  be\\n         appropriate to determine the following questions without a hearing:\\n\\n          a) whether the  making  of  the  First-tier  Tribunal\\'s  decision\\n             involved the making of an error of law, and, if so\\n\\n          b) whether that decision should be set aside.\\n\\n      2. I therefore make the following DIRECTIONS:\\n\\n          i) The appellant may submit further submissions in support of the\\n             assertion of an error of law, and on the question whether  the\\n             First-tier Tribunal\\'s decision should be set aside if error of\\n             law is found, to be filed and served on all other  parties  no\\n             later than 14 days after this notice is sent out (the date  of\\n             sending is on the covering letter or covering email);\\n\\n         ii) Any other party may file and serve submissions in response, no\\n             later than 21 days after this notice is sent out;\\n\\n        iii) If submissions are made  in  accordance  with  paragraph  (ii)\\n             above the party who sought permission to appeal may  file  and\\n             serve a reply no later than 28 days after this notice is  sent\\n             out.\\n\\n         iv) All submissions that  rely  on  any  document  not  previously\\n             provided to all other  parties  in  electronic  form  must  be\\n             accompanied by electronic copies of any such document.\\n\\n      3. Any party who considers that despite  the  foregoing  directions  a\\n         hearing is necessary to consider the questions set out in paragraph\\n         1 (or either of them) above must submit reasons for  that  view  no\\n         later than 21 days after this notice is sent out and they  will  be\\n         taken into account by the Tribunal.  The directions in paragraph  2\\n         above must be complied with in every case.\\n\\n 6. On 2 September 2020, the respondent replied stating that  she  did  not\\n    oppose the application for permission, and invited the  Upper  Tribunal\\n    to determine the appeal at a further oral hearing to consider whether a\\n    parental relationship exists between the appellant  and  his  partner\\'s\\n    son.\\n\\n 7. The Tribunal has the power to make the decision without a hearing under\\n    Rule 34 of the Procedure Rules.  Rule 34(2) requires me to have  regard\\n    to the views of the parties.  Bearing in mind the overriding  objective\\n    in Rule 2 to enable the Tribunal to deal with cases fairly and  justly,\\n    and bearing in mind the concession by the respondent,  I  am  satisfied\\n    that in the particular circumstances of this  case  that  it  would  be\\n    correct to make a decision being made in the absence of a hearing.\\n\\n 8. I am satisfied that the judge did err in reaching her  decision  as  is\\n    claimed in the grounds of appeal and as is accepted by the  respondent.\\n    The decision clearly involved the making of an error of law as  claimed\\n    as these errors went to  the  weight  to  be  attached  to  the  public\\n    interest by operation of section 117B(6) of the 2002 Act. That required\\n    a finding as to whether a  parental  relationship  exists  between  the\\n    appellant and his partner\\'s son. That error  infects  the  findings  on\\n    proportionality which must also be set aside. Further, the judge  erred\\n    in considering that it would be reasonable to  expect  the  appellant\\'s\\n    partner to go back to Pakistan, given the finding made  that  it  would\\n    not be reasonable to expect her son to leave the United Kingdom.\\n\\n 9. I consider that the findings as to family life made by Judge Phull  can\\n    be preserved. It will, however, be necessary for the Upper Tribunal  to\\n    make findings as  to  whether  there  exists  a  parental  relationship\\n    between the appellant and his partner\\'s son and to make fresh  findings\\n    as to proportionality in any event, given the finding that it would not\\n    be reasonable to expect the appellant\\'s  partner\\'s  son  to  leave  the\\n    United Kingdom.\\n\\n\\n\\nNotice of Decision & Directions\\n\\n 1. The decision of the First-tier Tribunal did involve the  making  of  an\\n    error of law and I set it aside.\\n\\n 2. The appeal will be remade in the Upper Tribunal on a date to be fixed.\\n\\n 3. Having regard to the Pilot Practice Direction and  the  UTIAC  Guidance\\n    Note No 1 of 2020, the Upper Tribunal is provisionally of the view that\\n    the forthcoming hearing in this appeal can and should be held  face-to-\\n    face on a date to be fixed as it may be necessary to have further  oral\\n    evidence via a court interpreter.\\n\\n 4. Any party wishing to adduce further evidence must serve it at least  10\\n    working days before the next hearing,  accompanied  by  an  application\\n    made pursuant  to  rule  15  (2A)  of  the  Tribunal  Procedure  (Upper\\n    Tribunal) Rules 2008 explaining why it should be permitted\\n\\n\\n\\n\\n\\n\\n\\n       Signed                                Date 23 October 2020\\n\\n\\n       Jeremy K H Rintoul\\n             Upper Tribunal Judge Rintoul\\n\\n-----------------------\\n[1] The overriding objective is to enable the Upper Tribunal to deal with\\ncases fairly and justly: rule 2(1) of the Tribunal Procedure (Upper\\nTribunal) Rules 2008; see also rule 2(2) to (4).\\n\\n\\n'}\n"
     ]
    }
   ],
   "source": [
    "# FIX FOR MERGE\n",
    "\n",
    "# Paths to jsonData & txt files\n",
    "jsonData_path = os.path.join(os.getcwd(), 'data/jsonData.json')\n",
    "txt_path = './data/processed/txt_files/'\n",
    "\n",
    "# Open jsonData file as data\n",
    "with open(jsonData_path) as json_file:\n",
    "    data = json.load(json_file)\n",
    "\n",
    "# Loop over dictionaries and upload the string of the judicial decision\n",
    "for d in data:\n",
    "    # Obtain the url to the file with the judicial decision\n",
    "    docLink = d.get('Document')\n",
    "    # Temp folder to store word file\n",
    "    docs_temp = './data/temp/'\n",
    "    # List of corrupted urls\n",
    "    corruptLinks = ['HU077022015', 'HU029682017']\n",
    "    \n",
    "    if d.get('File') not in corruptLinks:\n",
    "\n",
    "        try:\n",
    "            # Download file to temp folder\n",
    "            wget.download(url = docLink, out = docs_temp)\n",
    "            # Delete DS_Store files in raw data folder\n",
    "            !find . -name '.DS_Store' -type f -delete\n",
    "            # Name of the downloaded file \n",
    "            filename = os.listdir(docs_temp)\n",
    "            filename = filename[0]\n",
    "            #print(f'The name of the downloaded file {filename}')\n",
    "            \n",
    "            # Extract text from the file as a string\n",
    "            content = textract.process(os.path.join(docs_temp, filename))\n",
    "            \n",
    "            # Add dictionary key 'String' with the content value\n",
    "            d.update({'String': content})\n",
    "            \n",
    "            # Delete the file\n",
    "            os.remove(docs_temp + filename)\n",
    "\n",
    "        # Handle download exceptions \n",
    "        except Exception as err:\n",
    "            print(\"Could not download file {}\".format(docLink))\n",
    "            print(err)\n",
    "            downloaded = \"No\"\n",
    "            pass\n",
    "\n"
   ]
  },
  {
   "cell_type": "markdown",
   "metadata": {},
   "source": [
    "# 3. Descriptive statistics on the files\n"
   ]
  },
  {
   "cell_type": "code",
   "execution_count": null,
   "metadata": {},
   "outputs": [],
   "source": [
    "# # Number of files\n",
    "\n",
    "# Longest sentence\n",
    "\n",
    "# Shortest sentemce\n",
    "\n",
    "# Number of reported vs unreported cases (use the name of the file to discriminate them)\n"
   ]
  }
 ],
 "metadata": {
  "interpreter": {
   "hash": "0da6e46dab1e0b3d9fa32aec1170dd2df7038a4f7be3a54c97a348d8ad782954"
  },
  "kernelspec": {
   "display_name": "Python 3.8.11 64-bit ('tfm': conda)",
   "name": "python3"
  },
  "language_info": {
   "codemirror_mode": {
    "name": "ipython",
    "version": 3
   },
   "file_extension": ".py",
   "mimetype": "text/x-python",
   "name": "python",
   "nbconvert_exporter": "python",
   "pygments_lexer": "ipython3",
   "version": "3.8.11"
  }
 },
 "nbformat": 4,
 "nbformat_minor": 1
}
