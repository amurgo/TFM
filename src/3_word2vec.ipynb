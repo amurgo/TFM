{
 "cells": [
  {
   "cell_type": "markdown",
   "metadata": {},
   "source": [
    "# Word3Vec (13th December 2021)"
   ]
  },
  {
   "cell_type": "markdown",
   "metadata": {},
   "source": [
    "This notebook applies word2vec to the corpus of tribunal decisions.\n",
    "\n",
    "In particular, the notebook does:\n",
    "\n",
    "1. Data preparation for word2vec.\n",
    "\n",
    "2. Implementation of word2vec.\n",
    "\n",
    "3. Topic model with Latent Dirichlet Allocation (LDA) and Latent Semantic Indexing (LSI).\n",
    "\n",
    "4. Key word extraction\n",
    "\n",
    "The resulting trained model is... .\n",
    "\n",
    "This notebook should run in the tfm environment, which can be created with the environment.yml file."
   ]
  },
  {
   "cell_type": "code",
   "execution_count": 2,
   "metadata": {},
   "outputs": [
    {
     "name": "stdout",
     "output_type": "stream",
     "text": [
      "Current environment: /Users/albertamurgopacheco/anaconda3/envs/tfm/bin/python\n",
      "Current working directory: /Users/albertamurgopacheco/Documents/GitHub/TFM\n"
     ]
    },
    {
     "name": "stderr",
     "output_type": "stream",
     "text": [
      "/Users/albertamurgopacheco/anaconda3/envs/tfm/lib/python3.8/site-packages/matplotlib_inline/config.py:66: DeprecationWarning: InlineBackend._figure_formats_changed is deprecated in traitlets 4.1: use @observe and @unobserve instead.\n",
      "  def _figure_formats_changed(self, name, old, new):\n"
     ]
    }
   ],
   "source": [
    "from os import listdir\n",
    "from os.path import isfile, join, getsize\n",
    "import numpy as np\n",
    "\n",
    "import time\n",
    "import re\n",
    "import json\n",
    "import pickle\n",
    "import pandas as pd\n",
    "import whois\n",
    "import sys\n",
    "import datetime\n",
    "from tqdm import tqdm\n",
    "import textract\n",
    "\n",
    "# spacy for lemmatization\n",
    "import spacy\n",
    "\n",
    "import scipy as sp\n",
    "import sys\n",
    "import multiprocessing\n",
    "\n",
    "\n",
    "import logging\n",
    "from smart_open import smart_open\n",
    "import nltk\n",
    "#nltk.download()\n",
    "from nltk.corpus import stopwords\n",
    "from nltk.tokenize import RegexpTokenizer\n",
    "from nltk.stem import WordNetLemmatizer,PorterStemmer\n",
    "\n",
    "from pprint import pprint\n",
    "\n",
    "# Gensim\n",
    "import gensim\n",
    "from gensim import corpora\n",
    "import gensim.downloader as api\n",
    "from gensim.utils import simple_preprocess\n",
    "from gensim.parsing.preprocessing import preprocess_string\n",
    "from gensim.parsing.preprocessing import strip_tags\n",
    "from gensim.parsing.preprocessing import strip_punctuation\n",
    "from gensim.parsing.preprocessing import strip_multiple_whitespaces\n",
    "from gensim.parsing.preprocessing import strip_non_alphanum\n",
    "from gensim.parsing.preprocessing import strip_numeric\n",
    "from gensim.parsing.preprocessing import remove_stopwords\n",
    "from gensim.models import LdaModel, LdaMulticore\n",
    "from gensim.models import Word2Vec\n",
    "from gensim.models import CoherenceModel\n",
    "from gensim.models.phrases import Phrases, Phraser\n",
    "\n",
    "# For word frequency\n",
    "from collections import defaultdict\n",
    "\n",
    "from sklearn.decomposition import PCA\n",
    "from sklearn.manifold import TSNE\n",
    "\n",
    "# Plotting tools\n",
    "import pyLDAvis\n",
    "import pyLDAvis.gensim_models as gensimvis\n",
    "import matplotlib.pyplot as plt\n",
    "%matplotlib inline\n",
    "import seaborn as sns\n",
    "sns.set_style(\"darkgrid\")\n",
    "\n",
    "#import pyLDAvis.gensim  # don't skip this\n",
    "import matplotlib.pyplot as plt\n",
    "%matplotlib inline\n",
    "\n",
    "# Enable logging for gensim - optional\n",
    "import logging\n",
    "logging.basicConfig(format='%(asctime)s : %(levelname)s : %(message)s', level=logging.ERROR)\n",
    "\n",
    "\n",
    "\n",
    "IN_COLAB = 'google.colab' in sys.modules\n",
    "\n",
    "\n",
    "# What environment am I using?\n",
    "print(f'Current environment: {sys.executable}')\n",
    "\n",
    "# Change the current working directory\n",
    "os.chdir('/Users/albertamurgopacheco/Documents/GitHub/TFM')\n",
    "# What's my working directory?\n",
    "print(f'Current working directory: {os.getcwd()}')\n"
   ]
  },
  {
   "cell_type": "code",
   "execution_count": 3,
   "metadata": {},
   "outputs": [],
   "source": [
    "# Define working directories in colab and local execution\n",
    "\n",
    "if IN_COLAB:\n",
    "    from google.colab import drive\n",
    "    drive.mount('/content/gdrive')\n",
    "    docs_path = '/content/gdrive/MyDrive/TFM/data/raw'\n",
    "    input_path = '/content/gdrive/MyDrive/TFM'\n",
    "    output_path = '/content/gdrive/MyDrive/TFM/output'\n",
    "\n",
    "else:\n",
    "    docs_path = './data/raw'\n",
    "    input_path = '.'\n",
    "    output_path = './output'"
   ]
  },
  {
   "cell_type": "markdown",
   "metadata": {},
   "source": [
    "# WORD2VEC"
   ]
  },
  {
   "cell_type": "markdown",
   "metadata": {},
   "source": [
    "# 0. Functions"
   ]
  },
  {
   "cell_type": "code",
   "execution_count": 4,
   "metadata": {},
   "outputs": [],
   "source": [
    "def cleaning(doc):\n",
    "    \"\"\" Lemmatizes and removes stopwords\n",
    "    doc needs to be a spacy Doc object\n",
    "    \"\"\"\n",
    "    txt = [token.lemma_ for token in doc if not token.is_stop]\n",
    "    # Word2Vec uses context words to learn the vector representation of a target word,\n",
    "    # if a sentence is only one or two words long, the benefit for the training is very small\n",
    "    if len(txt) > 2:\n",
    "        return ' '.join(txt)"
   ]
  },
  {
   "cell_type": "markdown",
   "metadata": {},
   "source": [
    "# 1. The data preparation"
   ]
  },
  {
   "cell_type": "markdown",
   "metadata": {},
   "source": [
    "Loading the data to a list of documents (corpus) where each document is a judicial decision."
   ]
  },
  {
   "cell_type": "code",
   "execution_count": 5,
   "metadata": {},
   "outputs": [
    {
     "name": "stderr",
     "output_type": "stream",
     "text": [
      "100%|██████████| 35305/35305 [00:00<00:00, 189074.94it/s]"
     ]
    },
    {
     "name": "stdout",
     "output_type": "stream",
     "text": [
      "The corpus includes 35305 documents.\n",
      "The documents are <class 'str'>.\n"
     ]
    },
    {
     "name": "stderr",
     "output_type": "stream",
     "text": [
      "\n"
     ]
    }
   ],
   "source": [
    "# Open jsonDataFinal file as data\n",
    "with open('./data/jsonDataFinal.json') as json_file:\n",
    "    data = json.load(json_file)\n",
    "\n",
    "# List to store the judicial decisions\n",
    "corpus = []\n",
    "\n",
    "corruptFiles = ['HU077022015', 'HU029682017']\n",
    "\n",
    "# Search data list of dictionaries for dict where {\"File\":} = file_name\n",
    "for d in tqdm(data):\n",
    "    # Dealing with corrupt and empty files\n",
    "    if d.get('File') not in corruptFiles:\n",
    "        doc = d.get('String')\n",
    "        if doc:\n",
    "            corpus.append(doc)\n",
    "        else:\n",
    "            continue\n",
    "\n",
    "print(f'The corpus includes {len(corpus)} documents.')\n",
    "print(f'The documents are {type(corpus[0])}.')"
   ]
  },
  {
   "cell_type": "markdown",
   "metadata": {},
   "source": [
    "Cleaning each document"
   ]
  },
  {
   "cell_type": "code",
   "execution_count": 6,
   "metadata": {},
   "outputs": [],
   "source": [
    "# Gensim-implemented filters for preprocessing data\n",
    "CUSTOM_FILTERS = [lambda x: x.lower(), strip_tags, strip_punctuation, \n",
    "strip_multiple_whitespaces, strip_non_alphanum, strip_numeric, remove_stopwords]\n",
    "\n",
    "# List storing the preprocessed documents\n",
    "corpus_clean = [preprocess_string(doc, CUSTOM_FILTERS) for doc in corpus]\n",
    "\n",
    "# Removing non-numerical characters\n",
    "#brief_cleaning = (re.sub(\"[^A-Za-z']+\", ' ', str(row)).lower() for row in corpus_clean)"
   ]
  },
  {
   "cell_type": "code",
   "execution_count": 7,
   "metadata": {},
   "outputs": [
    {
     "name": "stdout",
     "output_type": "stream",
     "text": [
      "Available cores 10.\n"
     ]
    }
   ],
   "source": [
    "# Number of available processing cores\n",
    "cores = multiprocessing.cpu_count()\n",
    "print(f'Available cores {cores}.')"
   ]
  },
  {
   "cell_type": "markdown",
   "metadata": {},
   "source": [
    "Lemmatizing and removing the stopwords and non-alphabetic characters."
   ]
  },
  {
   "cell_type": "code",
   "execution_count": 9,
   "metadata": {},
   "outputs": [],
   "source": [
    "# IF RAN, DO IT BEFORE CLEANING... \n",
    "\n",
    "import spacy\n",
    "#nlp = spacy.load('en_core_web_sm', disable=['ner', 'parser']) # disabling Named Entity Recognition for speed\n",
    "#nlp = spacy.load('en_core_web_sm') # disabling Named Entity Recognition for speed\n",
    "from nltk.stem.porter import PorterStemmer\n",
    "porter_stemmer = PorterStemmer()\n",
    "\n",
    "def stem_doc(doc):\n",
    "    # Lemmatizes and removes stopwords\n",
    "    # doc needs to be a spacy Doc object\n",
    "    stem_doc = [porter_stemmer.stem(wd) for wd in doc]\n",
    "    # if len(wd) > 2\n",
    "    return stem_doc\n",
    "\n",
    "    # Word2Vec uses context words to learn the vector representation of a target word,\n",
    "    # if a sentence is only one or two words long,\n",
    "    # the benefit for the training is very small\n",
    "\n",
    "#txt = [cleaning(doc) for doc in nlp.pipe(brief_cleaning, batch_size = 50, n_process = cores -1)]\n",
    "stemmed_corpus = [stem_doc(doc) for doc in corpus_clean]\n",
    "\n",
    "#print('Time to clean up everything: {} mins'.format(round((time() - t) / 60, 2)))"
   ]
  },
  {
   "cell_type": "code",
   "execution_count": 10,
   "metadata": {},
   "outputs": [
    {
     "name": "stdout",
     "output_type": "stream",
     "text": [
      "['pic', 'iac', 'fh', 'ck', 'v', 'upper', 'tribun', 'immigr', 'asylum', 'chamber', 'appeal', 'number', 'hu', 'immigr', 'act']\n"
     ]
    }
   ],
   "source": [
    "print(stemmed_corpus[0][:15])"
   ]
  },
  {
   "cell_type": "code",
   "execution_count": 12,
   "metadata": {},
   "outputs": [],
   "source": [
    "wordnet_lemmatizer = WordNetLemmatizer()\n",
    "\n",
    "# Word2Vec uses context words to learn the vector representation of a target word,\n",
    "# if a sentence is only one or two words long,\n",
    "# the benefit for the training is very small\n",
    "\n",
    "def lemmatizer_doc(doc):\n",
    "    # Lemmatizes and removes stopwords\n",
    "    # doc needs to be a spacy Doc object\n",
    "    lemm_doc = [wordnet_lemmatizer.lemmatize(wd) for wd in doc]\n",
    "    # if len(wd) > 2\n",
    "    return lemm_doc\n",
    "\n",
    "\n",
    "\n",
    "# txt = [cleaning(doc) for doc in nlp.pipe(brief_cleaning, batch_size = 50, n_process = cores -1)]\n",
    "lemmatized_corpus = [lemmatizer_doc(doc) for doc in stemmed_corpus]"
   ]
  },
  {
   "cell_type": "code",
   "execution_count": 13,
   "metadata": {},
   "outputs": [
    {
     "name": "stdout",
     "output_type": "stream",
     "text": [
      "['pic', 'iac', 'fh', 'ck', 'v', 'upper', 'tribun', 'immigr', 'asylum', 'chamber', 'appeal', 'number', 'hu', 'immigr', 'act']\n"
     ]
    }
   ],
   "source": [
    "#lemmatized_corpus = lemmatized\n",
    "print(lemmatized_corpus[0][:15])"
   ]
  },
  {
   "cell_type": "markdown",
   "metadata": {},
   "source": [
    "Detecting common phrases (multi-word or collocations) expressions from the stream of sentences."
   ]
  },
  {
   "cell_type": "code",
   "execution_count": 14,
   "metadata": {},
   "outputs": [],
   "source": [
    "sent = [row.split() for row in corpus if row]\n",
    "\n",
    "phrases = Phrases(sent, min_count = 30, progress_per = 10000)"
   ]
  },
  {
   "cell_type": "code",
   "execution_count": 32,
   "metadata": {},
   "outputs": [
    {
     "name": "stdout",
     "output_type": "stream",
     "text": [
      "Word frequency: 90189\n",
      "Most common words: ['appel', 's', 'judg', 'decis', 'tribun', 'appeal', 'evid', 'state', 'respond', 'mr', 'applic', 'reason', 'paragraph', 'case', 'immigr', 'tier', 'consid', 'famili', 'law', 'rule', 'upper', 'ground', 'child', 'find', 'claim', 'articl', 'uk', 'date', 'secretari', 'leav']\n"
     ]
    }
   ],
   "source": [
    "bigram = Phraser(phrases)\n",
    "\n",
    "#sentences = bigram[corpus_clean]\n",
    "sentences = bigram[lemmatized_corpus]\n",
    "\n",
    "word_freq = defaultdict(int)\n",
    "for sent in sentences:\n",
    "    for i in sent:\n",
    "        word_freq[i] += 1\n",
    "len(word_freq)\n",
    "\n",
    "print(f'Word frequency: {len(word_freq)}')\n",
    "\n",
    "print(f'Most common words: {sorted(word_freq, key = word_freq.get, reverse = True)[:30]}')"
   ]
  },
  {
   "cell_type": "code",
   "execution_count": 16,
   "metadata": {},
   "outputs": [
    {
     "data": {
      "text/plain": [
       "['appel',\n",
       " 's',\n",
       " 'judg',\n",
       " 'decis',\n",
       " 'tribun',\n",
       " 'appeal',\n",
       " 'evid',\n",
       " 'state',\n",
       " 'respond',\n",
       " 'mr',\n",
       " 'applic',\n",
       " 'reason',\n",
       " 'paragraph',\n",
       " 'case',\n",
       " 'immigr',\n",
       " 'tier',\n",
       " 'consid',\n",
       " 'famili',\n",
       " 'law',\n",
       " 'rule']"
      ]
     },
     "execution_count": 16,
     "metadata": {},
     "output_type": "execute_result"
    }
   ],
   "source": [
    "sorted(word_freq, key = word_freq.get, reverse = True)[:20]"
   ]
  },
  {
   "cell_type": "markdown",
   "metadata": {},
   "source": [
    "# 2. Implementation of word2vec model"
   ]
  },
  {
   "cell_type": "markdown",
   "metadata": {},
   "source": [
    "The word embedding model is a model that can provide numerical vectors for a given word."
   ]
  },
  {
   "cell_type": "code",
   "execution_count": null,
   "metadata": {},
   "outputs": [],
   "source": [
    "import multiprocessing\n",
    "\n",
    "from gensim.models import Word2Vec\n",
    "\n",
    "w2v_model = Word2Vec(min_count = 20,\n",
    "                     window = 10,\n",
    "                     vector_size = 300,\n",
    "                     sample = 6e-5,\n",
    "                     alpha = 0.03,\n",
    "                     min_alpha = 0.0007,\n",
    "                     negative = 20,\n",
    "                     workers = cores-1)"
   ]
  },
  {
   "cell_type": "code",
   "execution_count": null,
   "metadata": {},
   "outputs": [],
   "source": [
    "#t = time()\n",
    "\n",
    "w2v_model.build_vocab(sentences, progress_per = 10000)\n",
    "\n",
    "#print('Time to build the vocabulary: {} mins'.format(round((time() - t) / 60, 2)))"
   ]
  },
  {
   "cell_type": "code",
   "execution_count": null,
   "metadata": {},
   "outputs": [],
   "source": [
    "#t = time()\n",
    "\n",
    "w2v_model.train(sentences, total_examples = w2v_model.corpus_count, epochs = 30, report_delay = 1)\n",
    "\n",
    "#print('Time to train the model: {} mins'.format(round((time() - t) / 60, 2)))"
   ]
  },
  {
   "cell_type": "code",
   "execution_count": null,
   "metadata": {},
   "outputs": [],
   "source": [
    "w2v_model.save('./output/gensim-model-All_bigrams_lemmatized')"
   ]
  },
  {
   "cell_type": "code",
   "execution_count": null,
   "metadata": {},
   "outputs": [],
   "source": [
    "model_lemm = Word2Vec.load('./output/gensim-model-All_bigrams_lemmatized')\n",
    "model = Word2Vec.load('./output/gensim-model-All_bigrams')"
   ]
  },
  {
   "cell_type": "markdown",
   "metadata": {},
   "source": [
    "Similarities:"
   ]
  },
  {
   "cell_type": "code",
   "execution_count": null,
   "metadata": {},
   "outputs": [],
   "source": [
    "\n",
    "model.wv.similarity('refugee', 'error')"
   ]
  },
  {
   "cell_type": "code",
   "execution_count": null,
   "metadata": {},
   "outputs": [],
   "source": [
    "model_lemm.wv.similarity('refuge', 'convent')\n",
    "model_lemm.wv.similarity('refuge', 'geneva')"
   ]
  },
  {
   "cell_type": "markdown",
   "metadata": {},
   "source": [
    "Most similar:"
   ]
  },
  {
   "cell_type": "code",
   "execution_count": null,
   "metadata": {},
   "outputs": [],
   "source": [
    "word = 'geneva'\n",
    "\n",
    "try:\n",
    "    vec = model_lemm.wv.most_similar(positive = [word])\n",
    "    print(vec)\n",
    "except KeyError:\n",
    "    print(f'The word {word} does not appear in this model')\n",
    "    \n"
   ]
  },
  {
   "cell_type": "code",
   "execution_count": null,
   "metadata": {},
   "outputs": [],
   "source": [
    "model.wv.most_similar(positive = [\"refugee\"])"
   ]
  },
  {
   "cell_type": "code",
   "execution_count": null,
   "metadata": {},
   "outputs": [],
   "source": [
    "model.wv.most_similar(positive=[\"biometric\"])\n",
    "model_lemm.wv.most_similar(positive=[\"eurodac\"])"
   ]
  },
  {
   "cell_type": "code",
   "execution_count": null,
   "metadata": {},
   "outputs": [],
   "source": [
    "model.wv.most_similar(positive=[\"eurodac\"])\n"
   ]
  },
  {
   "cell_type": "markdown",
   "metadata": {},
   "source": [
    "End of gensim tutorial"
   ]
  },
  {
   "cell_type": "code",
   "execution_count": null,
   "metadata": {},
   "outputs": [],
   "source": [
    "model.wv.most_similar(positive=[\"uk\"])"
   ]
  },
  {
   "cell_type": "markdown",
   "metadata": {},
   "source": [
    "Odd-One-Out:"
   ]
  },
  {
   "cell_type": "code",
   "execution_count": null,
   "metadata": {},
   "outputs": [],
   "source": [
    "model.wv.doesnt_match(['refuggee', 'uk', 'remain'])"
   ]
  },
  {
   "cell_type": "code",
   "execution_count": null,
   "metadata": {},
   "outputs": [],
   "source": [
    "model.wv.doesnt_match(['biometric', 'eurodac', 'identity'])\n",
    "\n",
    "print(f\"Word 'eurodac' appeared {model.wv.get_vecattr('eurodac', 'count')} times in the training corpus.\")\n",
    "print(f\"Word 'biometric' appeared {model.wv.get_vecattr('biometric', 'count')} times in the training corpus.\")\n"
   ]
  },
  {
   "cell_type": "code",
   "execution_count": null,
   "metadata": {},
   "outputs": [],
   "source": [
    "data = [d for d in dataset]\n",
    "print(type(data[0][0]))"
   ]
  },
  {
   "cell_type": "code",
   "execution_count": null,
   "metadata": {},
   "outputs": [],
   "source": [
    "# Tokenize(split) the sentences into words\n",
    "texts = [[text for text in doc.split()] for doc in corpus_pre]\n",
    "\n",
    "# Create dictionary\n",
    "dictionary = corpora.Dictionary(texts)\n",
    "\n",
    "# Get information about the dictionary\n",
    "print(dictionary)"
   ]
  },
  {
   "cell_type": "code",
   "execution_count": null,
   "metadata": {},
   "outputs": [],
   "source": [
    "# Show the word to id map\n",
    "#print(dictionary.token2id)\n"
   ]
  },
  {
   "cell_type": "markdown",
   "metadata": {},
   "source": [
    "create a bag of words corpus"
   ]
  },
  {
   "cell_type": "code",
   "execution_count": null,
   "metadata": {},
   "outputs": [],
   "source": [
    "# Tokenize the docs\n",
    "tokenized_list = [simple_preprocess(doc) for doc in corpus_pre]\n",
    "\n",
    "# Create the Corpus\n",
    "mydict = corpora.Dictionary()\n",
    "mycorpus = [mydict.doc2bow(doc, allow_update=True) for doc in tokenized_list]\n",
    "#pprint(mycorpus)\n",
    "\n",
    "word_counts = [[(mydict[id], count) for id, count in line] for line in mycorpus]\n",
    "#pprint(word_counts)"
   ]
  },
  {
   "cell_type": "code",
   "execution_count": null,
   "metadata": {},
   "outputs": [],
   "source": [
    "w2v_model.wv.doesnt_match(['jimbo', 'milhouse', 'kearney'])"
   ]
  },
  {
   "cell_type": "markdown",
   "metadata": {},
   "source": [
    "# 2 Implementation of Word2Vec model on full text of decision"
   ]
  },
  {
   "cell_type": "markdown",
   "metadata": {},
   "source": [
    "This section trains a Word2Vec model using only the text in the judgement fragment of the judicial decision.\n",
    "\n",
    "The model trained is saved as './output/gensim-model-corpus_judgements'"
   ]
  },
  {
   "cell_type": "code",
   "execution_count": 4,
   "metadata": {},
   "outputs": [],
   "source": [
    "# Open jsonData file as data\n",
    "with open('./data/jsonDataFinal.json') as json_file:\n",
    "    data = json.load(json_file)\n",
    "\n",
    "# Create dataframe\n",
    "df = pd.DataFrame(data)\n",
    "\n",
    "# Select the needed columns\n",
    "df = df[['String', 'Decision label:']]\n"
   ]
  },
  {
   "cell_type": "code",
   "execution_count": 5,
   "metadata": {},
   "outputs": [
    {
     "data": {
      "text/plain": [
       "String                0\n",
       "Decision label:    5220\n",
       "dtype: int64"
      ]
     },
     "execution_count": 5,
     "metadata": {},
     "output_type": "execute_result"
    }
   ],
   "source": [
    "df.isnull().sum()"
   ]
  },
  {
   "cell_type": "code",
   "execution_count": 6,
   "metadata": {},
   "outputs": [],
   "source": [
    "# Removing the missing value\n",
    "#df = df.dropna().reset_index(drop = True)\n",
    "#df.isnull().sum()"
   ]
  },
  {
   "cell_type": "code",
   "execution_count": 7,
   "metadata": {},
   "outputs": [
    {
     "data": {
      "text/plain": [
       "<bound method NDFrame.head of                                                   String Decision label:\n",
       "0      \\n                                    [pic]\\nI...        Accepted\n",
       "1      \\n\\n                                          ...        Rejected\n",
       "2      \\n                                    [pic]\\n\\...        Rejected\n",
       "3      \\n                                    [pic]\\n\\...        Accepted\n",
       "4      \\n                                    [pic]\\n\\...        Accepted\n",
       "...                                                  ...             ...\n",
       "35300  \\nDag (Nationality - Country of Habitual Resid...        Accepted\n",
       "35301  \\n\\n       AHMED (Documents unreliable and for...        Rejected\n",
       "35302  \\nNoruwa ( Proportionality appeal: assessment,...        Rejected\n",
       "35303  \\nIN THE IMMIGRATION APPEAL TRIBUNAL\\n\\n      ...        Accepted\n",
       "35304  \\n\\n   Devaseelan (Second Appeals - ECHR - Ext...             NaN\n",
       "\n",
       "[35305 rows x 2 columns]>"
      ]
     },
     "execution_count": 7,
     "metadata": {},
     "output_type": "execute_result"
    }
   ],
   "source": [
    "# Dataframe used\n",
    "df.head"
   ]
  },
  {
   "cell_type": "markdown",
   "metadata": {},
   "source": [
    "Cleaning the data by lemmatizing and removing the stopwords and non-alphabetic characters for each line."
   ]
  },
  {
   "cell_type": "code",
   "execution_count": 8,
   "metadata": {},
   "outputs": [],
   "source": [
    "# disabling Named Entity Recognition for speed\n",
    "nlp = spacy.load('en_core_web_sm', disable=['parser', 'ner'])\n",
    "\n",
    "# Remove non-alphabetic characters\n",
    "brief_cleaning = (re.sub(\"[^A-Za-z']+\", ' ', str(row)).lower() for row in df['String'])\n",
    "\n",
    "# spacy .pipe() attribute to speed-up the cleaning process\n",
    "txt = [cleaning(doc) for doc in nlp.pipe(brief_cleaning, batch_size = 5000)]\n",
    "\n",
    "# Results in a dataFrame to remove missing values and duplicates\n",
    "df_clean = pd.DataFrame({'clean': txt})\n",
    "df_clean = df_clean.dropna().drop_duplicates()\n",
    "df_clean.shape\n"
   ]
  },
  {
   "cell_type": "markdown",
   "metadata": {},
   "source": [
    "Find bigrams. Using Gensim Phrases package to automatically detect common phrases (bigrams) from a list of sentences. See https://radimrehurek.com/gensim/models/phrases.html"
   ]
  },
  {
   "cell_type": "code",
   "execution_count": 11,
   "metadata": {},
   "outputs": [
    {
     "ename": "NameError",
     "evalue": "name 'df_clean' is not defined",
     "output_type": "error",
     "traceback": [
      "\u001b[0;31m---------------------------------------------------------------------------\u001b[0m",
      "\u001b[0;31mNameError\u001b[0m                                 Traceback (most recent call last)",
      "\u001b[0;32m/var/folders/_7/fl0v9rpx6zg6s4j03vcw0fc40000gn/T/ipykernel_46708/731091843.py\u001b[0m in \u001b[0;36m<module>\u001b[0;34m\u001b[0m\n\u001b[1;32m      1\u001b[0m \u001b[0;31m# Phrases() takes a list of list of words as input\u001b[0m\u001b[0;34m\u001b[0m\u001b[0;34m\u001b[0m\u001b[0;34m\u001b[0m\u001b[0m\n\u001b[0;32m----> 2\u001b[0;31m \u001b[0msent\u001b[0m \u001b[0;34m=\u001b[0m \u001b[0;34m[\u001b[0m\u001b[0mrow\u001b[0m\u001b[0;34m.\u001b[0m\u001b[0msplit\u001b[0m\u001b[0;34m(\u001b[0m\u001b[0;34m)\u001b[0m \u001b[0;32mfor\u001b[0m \u001b[0mrow\u001b[0m \u001b[0;32min\u001b[0m \u001b[0mdf_clean\u001b[0m\u001b[0;34m[\u001b[0m\u001b[0;34m'clean'\u001b[0m\u001b[0;34m]\u001b[0m\u001b[0;34m]\u001b[0m\u001b[0;34m\u001b[0m\u001b[0;34m\u001b[0m\u001b[0m\n\u001b[0m\u001b[1;32m      3\u001b[0m \u001b[0;34m\u001b[0m\u001b[0m\n\u001b[1;32m      4\u001b[0m \u001b[0;31m# Create the relevant phrases from the list of sentences\u001b[0m\u001b[0;34m\u001b[0m\u001b[0;34m\u001b[0m\u001b[0;34m\u001b[0m\u001b[0m\n\u001b[1;32m      5\u001b[0m \u001b[0mphrases\u001b[0m \u001b[0;34m=\u001b[0m \u001b[0mPhrases\u001b[0m\u001b[0;34m(\u001b[0m\u001b[0msent\u001b[0m\u001b[0;34m,\u001b[0m \u001b[0mmin_count\u001b[0m \u001b[0;34m=\u001b[0m \u001b[0;36m30\u001b[0m\u001b[0;34m,\u001b[0m \u001b[0mprogress_per\u001b[0m \u001b[0;34m=\u001b[0m \u001b[0;36m10000\u001b[0m\u001b[0;34m)\u001b[0m\u001b[0;34m\u001b[0m\u001b[0;34m\u001b[0m\u001b[0m\n",
      "\u001b[0;31mNameError\u001b[0m: name 'df_clean' is not defined"
     ]
    }
   ],
   "source": [
    "# Phrases() takes a list of list of words as input\n",
    "sent = [row.split() for row in df_clean['clean']]\n",
    "\n",
    "# Create the relevant phrases from the list of sentences\n",
    "phrases = Phrases(sent, min_count = 30, progress_per = 10000)\n",
    "\n",
    "# The goal of Phraser() is to cut down memory consumption of Phrases(), by discarding model state not strictly needed for the bigram detection task\n",
    "bigram = Phraser(phrases)\n",
    "\n",
    "# Transform the corpus based on the bigrams detected\n",
    "sentences = bigram[sent]"
   ]
  },
  {
   "cell_type": "markdown",
   "metadata": {},
   "source": [
    "Most frequent words"
   ]
  },
  {
   "cell_type": "code",
   "execution_count": null,
   "metadata": {},
   "outputs": [
    {
     "ename": "Error",
     "evalue": "Session cannot generate requests",
     "output_type": "error",
     "traceback": [
      "Error: Session cannot generate requests",
      "at S.executeCodeCell (/Users/albertamurgopacheco/.vscode/extensions/ms-toolsai.jupyter-2021.10.1101450599/out/client/extension.js:66:301742)",
      "at S.execute (/Users/albertamurgopacheco/.vscode/extensions/ms-toolsai.jupyter-2021.10.1101450599/out/client/extension.js:66:300732)",
      "at S.start (/Users/albertamurgopacheco/.vscode/extensions/ms-toolsai.jupyter-2021.10.1101450599/out/client/extension.js:66:296408)",
      "at runMicrotasks (<anonymous>)",
      "at processTicksAndRejections (internal/process/task_queues.js:93:5)",
      "at async t.CellExecutionQueue.executeQueuedCells (/Users/albertamurgopacheco/.vscode/extensions/ms-toolsai.jupyter-2021.10.1101450599/out/client/extension.js:66:312326)",
      "at async t.CellExecutionQueue.start (/Users/albertamurgopacheco/.vscode/extensions/ms-toolsai.jupyter-2021.10.1101450599/out/client/extension.js:66:311862)"
     ]
    }
   ],
   "source": [
    "# Check of the effectiveness of the lemmatization, removal of stopwords, and addition of bigrams\n",
    "word_freq = defaultdict(int)\n",
    "for sent in sentences:\n",
    "    for i in sent:\n",
    "        word_freq[i] += 1\n",
    "\n",
    "print(f'Word frequency: {len(word_freq)}')\n",
    "\n",
    "print(f'Most common words: {sorted(word_freq, key = word_freq.get, reverse = True)[:20]}')"
   ]
  },
  {
   "cell_type": "markdown",
   "metadata": {},
   "source": [
    "Training of the Word2Vec model"
   ]
  },
  {
   "cell_type": "code",
   "execution_count": null,
   "metadata": {},
   "outputs": [
    {
     "name": "stderr",
     "output_type": "stream",
     "text": [
      "/var/folders/_7/fl0v9rpx6zg6s4j03vcw0fc40000gn/T/ipykernel_59003/81840110.py:21: DeprecationWarning: Call to deprecated `init_sims` (Gensim 4.0.0 implemented internal optimizations that make calls to init_sims() unnecessary. init_sims() is now obsoleted and will be completely removed in future versions. See https://github.com/RaRe-Technologies/gensim/wiki/Migrating-from-Gensim-3.x-to-4).\n",
      "  w2v_model_judgements.init_sims(replace = True)\n",
      "/Users/albertamurgopacheco/anaconda3/envs/tfm/lib/python3.8/site-packages/gensim/models/word2vec.py:909: DeprecationWarning: Call to deprecated `init_sims` (Use fill_norms() instead. See https://github.com/RaRe-Technologies/gensim/wiki/Migrating-from-Gensim-3.x-to-4).\n",
      "  self.wv.init_sims(replace=replace)\n"
     ]
    }
   ],
   "source": [
    "# Number of available cores\n",
    "cores = multiprocessing.cpu_count()\n",
    "\n",
    "# Set up the parameters of the model one-by-one. The model uninitialized\n",
    "w2v_model = Word2Vec(min_count = 20,\n",
    "                     window = 3,\n",
    "                     vector_size = 300,\n",
    "                     sample = 1e-5, \n",
    "                     alpha = 0.03, \n",
    "                     min_alpha = 0.0007, \n",
    "                     negative = 20,\n",
    "                     workers = cores-1)\n",
    "\n",
    "# Builds the vocabulary from a sequence of sentences. The model is initialized\n",
    "w2v_model.build_vocab(sentences, progress_per = 10000)\n",
    "\n",
    "# Training the model\n",
    "w2v_model.train(sentences, total_examples = w2v_model.corpus_count, epochs = 30, report_delay = 1)\n",
    "\n",
    "# Not plan to train the model any further. Calling init_sims(), which will make the model much more memory-efficient\n",
    "w2v_model.init_sims(replace = True)\n",
    "\n",
    "# Saving the model for later use\n",
    "w2v_model.save('./output/gensim-model-corpus')\n"
   ]
  },
  {
   "cell_type": "markdown",
   "metadata": {},
   "source": [
    "Visualization"
   ]
  },
  {
   "cell_type": "code",
   "execution_count": 7,
   "metadata": {},
   "outputs": [],
   "source": [
    "def tsnescatterplot(model, word, list_names):\n",
    "    \"\"\" Plot in seaborn the results from the t-SNE dimensionality reduction algorithm of the vectors of a query word,\n",
    "    its list of most similar words, and a list of words.\n",
    "    \"\"\"\n",
    "    arrays = np.empty((0, 300), dtype='f')\n",
    "    word_labels = [word]\n",
    "    color_list  = ['red']\n",
    "\n",
    "    # adds the vector of the query word\n",
    "    arrays = np.append(arrays, model.wv.__getitem__([word]), axis=0)\n",
    "    \n",
    "    # gets list of most similar words\n",
    "    close_words = model.wv.most_similar([word])\n",
    "    \n",
    "    # adds the vector for each of the closest words to the array\n",
    "    for wrd_score in close_words:\n",
    "        wrd_vector = model.wv.__getitem__([wrd_score[0]])\n",
    "        word_labels.append(wrd_score[0])\n",
    "        color_list.append('blue')\n",
    "        arrays = np.append(arrays, wrd_vector, axis=0)\n",
    "    \n",
    "    # adds the vector for each of the words from list_names to the array\n",
    "    for wrd in list_names:\n",
    "        wrd_vector = model.wv.__getitem__([wrd])\n",
    "        word_labels.append(wrd)\n",
    "        color_list.append('green')\n",
    "        arrays = np.append(arrays, wrd_vector, axis=0)\n",
    "        \n",
    "    # Reduces the dimensionality from 300 to 50 dimensions with PCA\n",
    "    reduc = PCA(n_components = 13).fit_transform(arrays)\n",
    "    \n",
    "    # Finds t-SNE coordinates for 2 dimensions\n",
    "    np.set_printoptions(suppress = True)\n",
    "    \n",
    "    Y = TSNE(n_components = 2, random_state = 0, perplexity = 15).fit_transform(reduc)\n",
    "    \n",
    "    # Sets everything up to plot\n",
    "    df = pd.DataFrame({'x': [x for x in Y[:, 0]],\n",
    "                       'y': [y for y in Y[:, 1]],\n",
    "                       'words': word_labels,\n",
    "                       'color': color_list})\n",
    "    \n",
    "    fig, _ = plt.subplots()\n",
    "    fig.set_size_inches(9, 9)\n",
    "    \n",
    "    # Basic plot\n",
    "    p1 = sns.regplot(data=df,\n",
    "                     x=\"x\",\n",
    "                     y=\"y\",\n",
    "                     fit_reg=False,\n",
    "                     marker=\"o\",\n",
    "                     scatter_kws={'s': 40,\n",
    "                                  'facecolors': df['color']\n",
    "                                 }\n",
    "                    )\n",
    "    \n",
    "    # Adds annotations one by one with a loop\n",
    "    for line in range(0, df.shape[0]):\n",
    "         p1.text(df[\"x\"][line],\n",
    "                 df['y'][line],\n",
    "                 '  ' + df[\"words\"][line].title(),\n",
    "                 horizontalalignment='left',\n",
    "                 verticalalignment='bottom', size='medium',\n",
    "                 color=df['color'][line],\n",
    "                 weight='normal'\n",
    "                ).set_size(15)\n",
    "\n",
    "    \n",
    "    plt.xlim(Y[:, 0].min()-50, Y[:, 0].max()+50)\n",
    "    plt.ylim(Y[:, 1].min()-50, Y[:, 1].max()+50)\n",
    "            \n",
    "    plt.title('t-SNE visualization for {}'.format(word.title()))"
   ]
  },
  {
   "cell_type": "code",
   "execution_count": 14,
   "metadata": {},
   "outputs": [
    {
     "name": "stderr",
     "output_type": "stream",
     "text": [
      "/Users/albertamurgopacheco/anaconda3/envs/tfm/lib/python3.8/site-packages/sklearn/manifold/_t_sne.py:780: FutureWarning: The default initialization in TSNE will change from 'random' to 'pca' in 1.2.\n",
      "  warnings.warn(\n",
      "/Users/albertamurgopacheco/anaconda3/envs/tfm/lib/python3.8/site-packages/sklearn/manifold/_t_sne.py:790: FutureWarning: The default learning rate in TSNE will change from 200.0 to 'auto' in 1.2.\n",
      "  warnings.warn(\n"
     ]
    },
    {
     "data": {
      "image/png": "[encoded data removed]",
      "image/svg+xml": "<?xml version=\"1.0\" encoding=\"utf-8\" standalone=\"no\"?>\n<!DOCTYPE svg PUBLIC \"-//W3C//DTD SVG 1.1//EN\"\n  \"http://www.w3.org/Graphics/SVG/1.1/DTD/svg11.dtd\">\n<svg height=\"547.66625pt\" version=\"1.1\" viewBox=\"0 0 559.26875 547.66625\" width=\"559.26875pt\" xmlns=\"http://www.w3.org/2000/svg\" xmlns:xlink=\"http://www.w3.org/1999/xlink\">\n <metadata>\n  <rdf:RDF xmlns:cc=\"http://creativecommons.org/ns#\" xmlns:dc=\"http://purl.org/dc/elements/1.1/\" xmlns:rdf=\"http://www.w3.org/1999/02/22-rdf-syntax-ns#\">\n   <cc:Work>\n    <dc:type rdf:resource=\"http://purl.org/dc/dcmitype/StillImage\"/>\n    <dc:date>2021-12-19T10:46:37.614209</dc:date>\n    <dc:format>image/svg+xml</dc:format>\n    <dc:creator>\n     <cc:Agent>\n      <dc:title>Matplotlib v3.4.3, https://matplotlib.org/</dc:title>\n     </cc:Agent>\n    </dc:creator>\n   </cc:Work>\n  </rdf:RDF>\n </metadata>\n <defs>\n  <style type=\"text/css\">*{stroke-linecap:butt;stroke-linejoin:round;}</style>\n </defs>\n <g id=\"figure_1\">\n  <g id=\"patch_1\">\n   <path d=\"M 0 547.66625 \nL 559.26875 547.66625 \nL 559.26875 0 \nL 0 0 \nz\n\" style=\"fill:none;\"/>\n  </g>\n  <g id=\"axes_1\">\n   <g id=\"patch_2\">\n    <path d=\"M 49.86875 511.175625 \nL 552.06875 511.175625 \nL 552.06875 21.935625 \nL 49.86875 21.935625 \nz\n\" style=\"fill:#eaeaf2;\"/>\n   </g>\n   <g id=\"matplotlib.axis_1\">\n    <g id=\"xtick_1\">\n     <g id=\"line2d_1\">\n      <path clip-path=\"url(#p595742a473)\" d=\"M 131.345445 511.175625 \nL 131.345445 21.935625 \n\" style=\"fill:none;stroke:#ffffff;stroke-linecap:round;stroke-width:0.8;\"/>\n     </g>\n     <g id=\"text_1\">\n      <!-- −100 -->\n      <g style=\"fill:#262626;\" transform=\"translate(120.083726 525.333437)scale(0.1 -0.1)\">\n       <defs>\n        <path d=\"M 3381 1997 \nL 356 1997 \nL 356 2522 \nL 3381 2522 \nL 3381 1997 \nz\n\" id=\"ArialMT-2212\" transform=\"scale(0.015625)\"/>\n        <path d=\"M 2384 0 \nL 1822 0 \nL 1822 3584 \nQ 1619 3391 1289 3197 \nQ 959 3003 697 2906 \nL 697 3450 \nQ 1169 3672 1522 3987 \nQ 1875 4303 2022 4600 \nL 2384 4600 \nL 2384 0 \nz\n\" id=\"ArialMT-31\" transform=\"scale(0.015625)\"/>\n        <path d=\"M 266 2259 \nQ 266 3072 433 3567 \nQ 600 4063 929 4331 \nQ 1259 4600 1759 4600 \nQ 2128 4600 2406 4451 \nQ 2684 4303 2865 4023 \nQ 3047 3744 3150 3342 \nQ 3253 2941 3253 2259 \nQ 3253 1453 3087 958 \nQ 2922 463 2592 192 \nQ 2263 -78 1759 -78 \nQ 1097 -78 719 397 \nQ 266 969 266 2259 \nz\nM 844 2259 \nQ 844 1131 1108 757 \nQ 1372 384 1759 384 \nQ 2147 384 2411 759 \nQ 2675 1134 2675 2259 \nQ 2675 3391 2411 3762 \nQ 2147 4134 1753 4134 \nQ 1366 4134 1134 3806 \nQ 844 3388 844 2259 \nz\n\" id=\"ArialMT-30\" transform=\"scale(0.015625)\"/>\n       </defs>\n       <use xlink:href=\"#ArialMT-2212\"/>\n       <use x=\"58.398438\" xlink:href=\"#ArialMT-31\"/>\n       <use x=\"114.013672\" xlink:href=\"#ArialMT-30\"/>\n       <use x=\"169.628906\" xlink:href=\"#ArialMT-30\"/>\n      </g>\n     </g>\n    </g>\n    <g id=\"xtick_2\">\n     <g id=\"line2d_2\">\n      <path clip-path=\"url(#p595742a473)\" d=\"M 238.223248 511.175625 \nL 238.223248 21.935625 \n\" style=\"fill:none;stroke:#ffffff;stroke-linecap:round;stroke-width:0.8;\"/>\n     </g>\n     <g id=\"text_2\">\n      <!-- 0 -->\n      <g style=\"fill:#262626;\" transform=\"translate(235.442779 525.333437)scale(0.1 -0.1)\">\n       <use xlink:href=\"#ArialMT-30\"/>\n      </g>\n     </g>\n    </g>\n    <g id=\"xtick_3\">\n     <g id=\"line2d_3\">\n      <path clip-path=\"url(#p595742a473)\" d=\"M 345.10105 511.175625 \nL 345.10105 21.935625 \n\" style=\"fill:none;stroke:#ffffff;stroke-linecap:round;stroke-width:0.8;\"/>\n     </g>\n     <g id=\"text_3\">\n      <!-- 100 -->\n      <g style=\"fill:#262626;\" transform=\"translate(336.759644 525.333437)scale(0.1 -0.1)\">\n       <use xlink:href=\"#ArialMT-31\"/>\n       <use x=\"55.615234\" xlink:href=\"#ArialMT-30\"/>\n       <use x=\"111.230469\" xlink:href=\"#ArialMT-30\"/>\n      </g>\n     </g>\n    </g>\n    <g id=\"xtick_4\">\n     <g id=\"line2d_4\">\n      <path clip-path=\"url(#p595742a473)\" d=\"M 451.978852 511.175625 \nL 451.978852 21.935625 \n\" style=\"fill:none;stroke:#ffffff;stroke-linecap:round;stroke-width:0.8;\"/>\n     </g>\n     <g id=\"text_4\">\n      <!-- 200 -->\n      <g style=\"fill:#262626;\" transform=\"translate(443.637446 525.333437)scale(0.1 -0.1)\">\n       <defs>\n        <path d=\"M 3222 541 \nL 3222 0 \nL 194 0 \nQ 188 203 259 391 \nQ 375 700 629 1000 \nQ 884 1300 1366 1694 \nQ 2113 2306 2375 2664 \nQ 2638 3022 2638 3341 \nQ 2638 3675 2398 3904 \nQ 2159 4134 1775 4134 \nQ 1369 4134 1125 3890 \nQ 881 3647 878 3216 \nL 300 3275 \nQ 359 3922 746 4261 \nQ 1134 4600 1788 4600 \nQ 2447 4600 2831 4234 \nQ 3216 3869 3216 3328 \nQ 3216 3053 3103 2787 \nQ 2991 2522 2730 2228 \nQ 2469 1934 1863 1422 \nQ 1356 997 1212 845 \nQ 1069 694 975 541 \nL 3222 541 \nz\n\" id=\"ArialMT-32\" transform=\"scale(0.015625)\"/>\n       </defs>\n       <use xlink:href=\"#ArialMT-32\"/>\n       <use x=\"55.615234\" xlink:href=\"#ArialMT-30\"/>\n       <use x=\"111.230469\" xlink:href=\"#ArialMT-30\"/>\n      </g>\n     </g>\n    </g>\n    <g id=\"text_5\">\n     <!-- x -->\n     <g style=\"fill:#262626;\" transform=\"translate(298.46875 538.47875)scale(0.1 -0.1)\">\n      <defs>\n       <path d=\"M 47 0 \nL 1259 1725 \nL 138 3319 \nL 841 3319 \nL 1350 2541 \nQ 1494 2319 1581 2169 \nQ 1719 2375 1834 2534 \nL 2394 3319 \nL 3066 3319 \nL 1919 1756 \nL 3153 0 \nL 2463 0 \nL 1781 1031 \nL 1600 1309 \nL 728 0 \nL 47 0 \nz\n\" id=\"ArialMT-78\" transform=\"scale(0.015625)\"/>\n      </defs>\n      <use xlink:href=\"#ArialMT-78\"/>\n     </g>\n    </g>\n   </g>\n   <g id=\"matplotlib.axis_2\">\n    <g id=\"ytick_1\">\n     <g id=\"line2d_5\">\n      <path clip-path=\"url(#p595742a473)\" d=\"M 49.86875 455.655203 \nL 552.06875 455.655203 \n\" style=\"fill:none;stroke:#ffffff;stroke-linecap:round;stroke-width:0.8;\"/>\n     </g>\n     <g id=\"text_6\">\n      <!-- −200 -->\n      <g style=\"fill:#262626;\" transform=\"translate(20.345313 459.234109)scale(0.1 -0.1)\">\n       <use xlink:href=\"#ArialMT-2212\"/>\n       <use x=\"58.398438\" xlink:href=\"#ArialMT-32\"/>\n       <use x=\"114.013672\" xlink:href=\"#ArialMT-30\"/>\n       <use x=\"169.628906\" xlink:href=\"#ArialMT-30\"/>\n      </g>\n     </g>\n    </g>\n    <g id=\"ytick_2\">\n     <g id=\"line2d_6\">\n      <path clip-path=\"url(#p595742a473)\" d=\"M 49.86875 351.158838 \nL 552.06875 351.158838 \n\" style=\"fill:none;stroke:#ffffff;stroke-linecap:round;stroke-width:0.8;\"/>\n     </g>\n     <g id=\"text_7\">\n      <!-- −100 -->\n      <g style=\"fill:#262626;\" transform=\"translate(20.345313 354.737745)scale(0.1 -0.1)\">\n       <use xlink:href=\"#ArialMT-2212\"/>\n       <use x=\"58.398438\" xlink:href=\"#ArialMT-31\"/>\n       <use x=\"114.013672\" xlink:href=\"#ArialMT-30\"/>\n       <use x=\"169.628906\" xlink:href=\"#ArialMT-30\"/>\n      </g>\n     </g>\n    </g>\n    <g id=\"ytick_3\">\n     <g id=\"line2d_7\">\n      <path clip-path=\"url(#p595742a473)\" d=\"M 49.86875 246.662474 \nL 552.06875 246.662474 \n\" style=\"fill:none;stroke:#ffffff;stroke-linecap:round;stroke-width:0.8;\"/>\n     </g>\n     <g id=\"text_8\">\n      <!-- 0 -->\n      <g style=\"fill:#262626;\" transform=\"translate(37.307813 250.24138)scale(0.1 -0.1)\">\n       <use xlink:href=\"#ArialMT-30\"/>\n      </g>\n     </g>\n    </g>\n    <g id=\"ytick_4\">\n     <g id=\"line2d_8\">\n      <path clip-path=\"url(#p595742a473)\" d=\"M 49.86875 142.16611 \nL 552.06875 142.16611 \n\" style=\"fill:none;stroke:#ffffff;stroke-linecap:round;stroke-width:0.8;\"/>\n     </g>\n     <g id=\"text_9\">\n      <!-- 100 -->\n      <g style=\"fill:#262626;\" transform=\"translate(26.185938 145.745016)scale(0.1 -0.1)\">\n       <use xlink:href=\"#ArialMT-31\"/>\n       <use x=\"55.615234\" xlink:href=\"#ArialMT-30\"/>\n       <use x=\"111.230469\" xlink:href=\"#ArialMT-30\"/>\n      </g>\n     </g>\n    </g>\n    <g id=\"ytick_5\">\n     <g id=\"line2d_9\">\n      <path clip-path=\"url(#p595742a473)\" d=\"M 49.86875 37.669745 \nL 552.06875 37.669745 \n\" style=\"fill:none;stroke:#ffffff;stroke-linecap:round;stroke-width:0.8;\"/>\n     </g>\n     <g id=\"text_10\">\n      <!-- 200 -->\n      <g style=\"fill:#262626;\" transform=\"translate(26.185938 41.248652)scale(0.1 -0.1)\">\n       <use xlink:href=\"#ArialMT-32\"/>\n       <use x=\"55.615234\" xlink:href=\"#ArialMT-30\"/>\n       <use x=\"111.230469\" xlink:href=\"#ArialMT-30\"/>\n      </g>\n     </g>\n    </g>\n    <g id=\"text_11\">\n     <!-- y -->\n     <g style=\"fill:#262626;\" transform=\"translate(14.240625 269.055625)rotate(-90)scale(0.1 -0.1)\">\n      <defs>\n       <path d=\"M 397 -1278 \nL 334 -750 \nQ 519 -800 656 -800 \nQ 844 -800 956 -737 \nQ 1069 -675 1141 -563 \nQ 1194 -478 1313 -144 \nQ 1328 -97 1363 -6 \nL 103 3319 \nL 709 3319 \nL 1400 1397 \nQ 1534 1031 1641 628 \nQ 1738 1016 1872 1384 \nL 2581 3319 \nL 3144 3319 \nL 1881 -56 \nQ 1678 -603 1566 -809 \nQ 1416 -1088 1222 -1217 \nQ 1028 -1347 759 -1347 \nQ 597 -1347 397 -1278 \nz\n\" id=\"ArialMT-79\" transform=\"scale(0.015625)\"/>\n      </defs>\n      <use xlink:href=\"#ArialMT-79\"/>\n     </g>\n    </g>\n   </g>\n   <g id=\"PathCollection_1\">\n    <defs>\n     <path d=\"M 0 3.162278 \nC 0.838646 3.162278 1.643056 2.82908 2.236068 2.236068 \nC 2.82908 1.643056 3.162278 0.838646 3.162278 -0 \nC 3.162278 -0.838646 2.82908 -1.643056 2.236068 -2.236068 \nC 1.643056 -2.82908 0.838646 -3.162278 0 -3.162278 \nC -0.838646 -3.162278 -1.643056 -2.82908 -2.236068 -2.236068 \nC -2.82908 -1.643056 -3.162278 -0.838646 -3.162278 0 \nC -3.162278 0.838646 -2.82908 1.643056 -2.236068 2.236068 \nC -1.643056 2.82908 -0.838646 3.162278 0 3.162278 \nz\n\" id=\"C0_0_f2f192338d\"/>\n    </defs>\n    <g clip-path=\"url(#p595742a473)\">\n     <use style=\"fill:#ff0000;fill-opacity:0.8;stroke:#1f77b4;stroke-opacity:0.8;\" x=\"239.746406\" xlink:href=\"#C0_0_f2f192338d\" y=\"458.927443\"/>\n    </g>\n    <g clip-path=\"url(#p595742a473)\">\n     <use style=\"fill:#0000ff;fill-opacity:0.8;stroke:#1f77b4;stroke-opacity:0.8;\" x=\"338.364492\" xlink:href=\"#C0_0_f2f192338d\" y=\"304.154445\"/>\n    </g>\n    <g clip-path=\"url(#p595742a473)\">\n     <use style=\"fill:#0000ff;fill-opacity:0.8;stroke:#1f77b4;stroke-opacity:0.8;\" x=\"389.662698\" xlink:href=\"#C0_0_f2f192338d\" y=\"220.203546\"/>\n    </g>\n    <g clip-path=\"url(#p595742a473)\">\n     <use style=\"fill:#0000ff;fill-opacity:0.8;stroke:#1f77b4;stroke-opacity:0.8;\" x=\"103.307651\" xlink:href=\"#C0_0_f2f192338d\" y=\"240.664605\"/>\n    </g>\n    <g clip-path=\"url(#p595742a473)\">\n     <use style=\"fill:#0000ff;fill-opacity:0.8;stroke:#1f77b4;stroke-opacity:0.8;\" x=\"174.237502\" xlink:href=\"#C0_0_f2f192338d\" y=\"140.578494\"/>\n    </g>\n    <g clip-path=\"url(#p595742a473)\">\n     <use style=\"fill:#0000ff;fill-opacity:0.8;stroke:#1f77b4;stroke-opacity:0.8;\" x=\"400.641841\" xlink:href=\"#C0_0_f2f192338d\" y=\"107.557812\"/>\n    </g>\n    <g clip-path=\"url(#p595742a473)\">\n     <use style=\"fill:#0000ff;fill-opacity:0.8;stroke:#1f77b4;stroke-opacity:0.8;\" x=\"251.628599\" xlink:href=\"#C0_0_f2f192338d\" y=\"352.665319\"/>\n    </g>\n    <g clip-path=\"url(#p595742a473)\">\n     <use style=\"fill:#0000ff;fill-opacity:0.8;stroke:#1f77b4;stroke-opacity:0.8;\" x=\"290.991582\" xlink:href=\"#C0_0_f2f192338d\" y=\"186.291292\"/>\n    </g>\n    <g clip-path=\"url(#p595742a473)\">\n     <use style=\"fill:#0000ff;fill-opacity:0.8;stroke:#1f77b4;stroke-opacity:0.8;\" x=\"455.725985\" xlink:href=\"#C0_0_f2f192338d\" y=\"335.005623\"/>\n    </g>\n    <g clip-path=\"url(#p595742a473)\">\n     <use style=\"fill:#0000ff;fill-opacity:0.8;stroke:#1f77b4;stroke-opacity:0.8;\" x=\"366.394825\" xlink:href=\"#C0_0_f2f192338d\" y=\"420.19851\"/>\n    </g>\n    <g clip-path=\"url(#p595742a473)\">\n     <use style=\"fill:#0000ff;fill-opacity:0.8;stroke:#1f77b4;stroke-opacity:0.8;\" x=\"217.579168\" xlink:href=\"#C0_0_f2f192338d\" y=\"255.944289\"/>\n    </g>\n    <g clip-path=\"url(#p595742a473)\">\n     <use style=\"fill:#008000;fill-opacity:0.8;stroke:#1f77b4;stroke-opacity:0.8;\" x=\"135.790432\" xlink:href=\"#C0_0_f2f192338d\" y=\"360.953778\"/>\n    </g>\n    <g clip-path=\"url(#p595742a473)\">\n     <use style=\"fill:#008000;fill-opacity:0.8;stroke:#1f77b4;stroke-opacity:0.8;\" x=\"278.360938\" xlink:href=\"#C0_0_f2f192338d\" y=\"74.183807\"/>\n    </g>\n    <g clip-path=\"url(#p595742a473)\">\n     <use style=\"fill:#008000;fill-opacity:0.8;stroke:#1f77b4;stroke-opacity:0.8;\" x=\"498.629849\" xlink:href=\"#C0_0_f2f192338d\" y=\"212.457107\"/>\n    </g>\n   </g>\n   <g id=\"patch_3\">\n    <path d=\"M 49.86875 511.175625 \nL 49.86875 21.935625 \n\" style=\"fill:none;stroke:#ffffff;stroke-linecap:square;stroke-linejoin:miter;stroke-width:0.8;\"/>\n   </g>\n   <g id=\"patch_4\">\n    <path d=\"M 552.06875 511.175625 \nL 552.06875 21.935625 \n\" style=\"fill:none;stroke:#ffffff;stroke-linecap:square;stroke-linejoin:miter;stroke-width:0.8;\"/>\n   </g>\n   <g id=\"patch_5\">\n    <path d=\"M 49.86875 511.175625 \nL 552.06875 511.175625 \n\" style=\"fill:none;stroke:#ffffff;stroke-linecap:square;stroke-linejoin:miter;stroke-width:0.8;\"/>\n   </g>\n   <g id=\"patch_6\">\n    <path d=\"M 49.86875 21.935625 \nL 552.06875 21.935625 \n\" style=\"fill:none;stroke:#ffffff;stroke-linecap:square;stroke-linejoin:miter;stroke-width:0.8;\"/>\n   </g>\n   <g id=\"text_12\">\n    <!--   Asylum -->\n    <g style=\"fill:#ff0000;\" transform=\"translate(239.746406 455.770412)scale(0.15 -0.15)\">\n     <defs>\n      <path id=\"ArialMT-20\" transform=\"scale(0.015625)\"/>\n      <path d=\"M -9 0 \nL 1750 4581 \nL 2403 4581 \nL 4278 0 \nL 3588 0 \nL 3053 1388 \nL 1138 1388 \nL 634 0 \nL -9 0 \nz\nM 1313 1881 \nL 2866 1881 \nL 2388 3150 \nQ 2169 3728 2063 4100 \nQ 1975 3659 1816 3225 \nL 1313 1881 \nz\n\" id=\"ArialMT-41\" transform=\"scale(0.015625)\"/>\n      <path d=\"M 197 991 \nL 753 1078 \nQ 800 744 1014 566 \nQ 1228 388 1613 388 \nQ 2000 388 2187 545 \nQ 2375 703 2375 916 \nQ 2375 1106 2209 1216 \nQ 2094 1291 1634 1406 \nQ 1016 1563 777 1677 \nQ 538 1791 414 1992 \nQ 291 2194 291 2438 \nQ 291 2659 392 2848 \nQ 494 3038 669 3163 \nQ 800 3259 1026 3326 \nQ 1253 3394 1513 3394 \nQ 1903 3394 2198 3281 \nQ 2494 3169 2634 2976 \nQ 2775 2784 2828 2463 \nL 2278 2388 \nQ 2241 2644 2061 2787 \nQ 1881 2931 1553 2931 \nQ 1166 2931 1000 2803 \nQ 834 2675 834 2503 \nQ 834 2394 903 2306 \nQ 972 2216 1119 2156 \nQ 1203 2125 1616 2013 \nQ 2213 1853 2448 1751 \nQ 2684 1650 2818 1456 \nQ 2953 1263 2953 975 \nQ 2953 694 2789 445 \nQ 2625 197 2315 61 \nQ 2006 -75 1616 -75 \nQ 969 -75 630 194 \nQ 291 463 197 991 \nz\n\" id=\"ArialMT-73\" transform=\"scale(0.015625)\"/>\n      <path d=\"M 409 0 \nL 409 4581 \nL 972 4581 \nL 972 0 \nL 409 0 \nz\n\" id=\"ArialMT-6c\" transform=\"scale(0.015625)\"/>\n      <path d=\"M 2597 0 \nL 2597 488 \nQ 2209 -75 1544 -75 \nQ 1250 -75 995 37 \nQ 741 150 617 320 \nQ 494 491 444 738 \nQ 409 903 409 1263 \nL 409 3319 \nL 972 3319 \nL 972 1478 \nQ 972 1038 1006 884 \nQ 1059 663 1231 536 \nQ 1403 409 1656 409 \nQ 1909 409 2131 539 \nQ 2353 669 2445 892 \nQ 2538 1116 2538 1541 \nL 2538 3319 \nL 3100 3319 \nL 3100 0 \nL 2597 0 \nz\n\" id=\"ArialMT-75\" transform=\"scale(0.015625)\"/>\n      <path d=\"M 422 0 \nL 422 3319 \nL 925 3319 \nL 925 2853 \nQ 1081 3097 1340 3245 \nQ 1600 3394 1931 3394 \nQ 2300 3394 2536 3241 \nQ 2772 3088 2869 2813 \nQ 3263 3394 3894 3394 \nQ 4388 3394 4653 3120 \nQ 4919 2847 4919 2278 \nL 4919 0 \nL 4359 0 \nL 4359 2091 \nQ 4359 2428 4304 2576 \nQ 4250 2725 4106 2815 \nQ 3963 2906 3769 2906 \nQ 3419 2906 3187 2673 \nQ 2956 2441 2956 1928 \nL 2956 0 \nL 2394 0 \nL 2394 2156 \nQ 2394 2531 2256 2718 \nQ 2119 2906 1806 2906 \nQ 1569 2906 1367 2781 \nQ 1166 2656 1075 2415 \nQ 984 2175 984 1722 \nL 984 0 \nL 422 0 \nz\n\" id=\"ArialMT-6d\" transform=\"scale(0.015625)\"/>\n     </defs>\n     <use xlink:href=\"#ArialMT-20\"/>\n     <use x=\"27.783203\" xlink:href=\"#ArialMT-20\"/>\n     <use x=\"50.066406\" xlink:href=\"#ArialMT-41\"/>\n     <use x=\"116.765625\" xlink:href=\"#ArialMT-73\"/>\n     <use x=\"166.765625\" xlink:href=\"#ArialMT-79\"/>\n     <use x=\"216.765625\" xlink:href=\"#ArialMT-6c\"/>\n     <use x=\"238.982422\" xlink:href=\"#ArialMT-75\"/>\n     <use x=\"294.597656\" xlink:href=\"#ArialMT-6d\"/>\n    </g>\n   </g>\n   <g id=\"text_13\">\n    <!--   Claim -->\n    <g style=\"fill:#0000ff;\" transform=\"translate(338.364492 301.173195)scale(0.15 -0.15)\">\n     <defs>\n      <path d=\"M 3763 1606 \nL 4369 1453 \nQ 4178 706 3683 314 \nQ 3188 -78 2472 -78 \nQ 1731 -78 1267 223 \nQ 803 525 561 1097 \nQ 319 1669 319 2325 \nQ 319 3041 592 3573 \nQ 866 4106 1370 4382 \nQ 1875 4659 2481 4659 \nQ 3169 4659 3637 4309 \nQ 4106 3959 4291 3325 \nL 3694 3184 \nQ 3534 3684 3231 3912 \nQ 2928 4141 2469 4141 \nQ 1941 4141 1586 3887 \nQ 1231 3634 1087 3207 \nQ 944 2781 944 2328 \nQ 944 1744 1114 1308 \nQ 1284 872 1643 656 \nQ 2003 441 2422 441 \nQ 2931 441 3284 734 \nQ 3638 1028 3763 1606 \nz\n\" id=\"ArialMT-43\" transform=\"scale(0.015625)\"/>\n      <path d=\"M 2588 409 \nQ 2275 144 1986 34 \nQ 1697 -75 1366 -75 \nQ 819 -75 525 192 \nQ 231 459 231 875 \nQ 231 1119 342 1320 \nQ 453 1522 633 1644 \nQ 813 1766 1038 1828 \nQ 1203 1872 1538 1913 \nQ 2219 1994 2541 2106 \nQ 2544 2222 2544 2253 \nQ 2544 2597 2384 2738 \nQ 2169 2928 1744 2928 \nQ 1347 2928 1158 2789 \nQ 969 2650 878 2297 \nL 328 2372 \nQ 403 2725 575 2942 \nQ 747 3159 1072 3276 \nQ 1397 3394 1825 3394 \nQ 2250 3394 2515 3294 \nQ 2781 3194 2906 3042 \nQ 3031 2891 3081 2659 \nQ 3109 2516 3109 2141 \nL 3109 1391 \nQ 3109 606 3145 398 \nQ 3181 191 3288 0 \nL 2700 0 \nQ 2613 175 2588 409 \nz\nM 2541 1666 \nQ 2234 1541 1622 1453 \nQ 1275 1403 1131 1340 \nQ 988 1278 909 1158 \nQ 831 1038 831 891 \nQ 831 666 1001 516 \nQ 1172 366 1500 366 \nQ 1825 366 2078 508 \nQ 2331 650 2450 897 \nQ 2541 1088 2541 1459 \nL 2541 1666 \nz\n\" id=\"ArialMT-61\" transform=\"scale(0.015625)\"/>\n      <path d=\"M 425 3934 \nL 425 4581 \nL 988 4581 \nL 988 3934 \nL 425 3934 \nz\nM 425 0 \nL 425 3319 \nL 988 3319 \nL 988 0 \nL 425 0 \nz\n\" id=\"ArialMT-69\" transform=\"scale(0.015625)\"/>\n     </defs>\n     <use xlink:href=\"#ArialMT-20\"/>\n     <use x=\"27.783203\" xlink:href=\"#ArialMT-20\"/>\n     <use x=\"55.566406\" xlink:href=\"#ArialMT-43\"/>\n     <use x=\"127.783203\" xlink:href=\"#ArialMT-6c\"/>\n     <use x=\"150\" xlink:href=\"#ArialMT-61\"/>\n     <use x=\"205.615234\" xlink:href=\"#ArialMT-69\"/>\n     <use x=\"227.832031\" xlink:href=\"#ArialMT-6d\"/>\n    </g>\n   </g>\n   <g id=\"text_14\">\n    <!--   Human -->\n    <g style=\"fill:#0000ff;\" transform=\"translate(389.662698 217.222296)scale(0.15 -0.15)\">\n     <defs>\n      <path d=\"M 513 0 \nL 513 4581 \nL 1119 4581 \nL 1119 2700 \nL 3500 2700 \nL 3500 4581 \nL 4106 4581 \nL 4106 0 \nL 3500 0 \nL 3500 2159 \nL 1119 2159 \nL 1119 0 \nL 513 0 \nz\n\" id=\"ArialMT-48\" transform=\"scale(0.015625)\"/>\n      <path d=\"M 422 0 \nL 422 3319 \nL 928 3319 \nL 928 2847 \nQ 1294 3394 1984 3394 \nQ 2284 3394 2536 3286 \nQ 2788 3178 2913 3003 \nQ 3038 2828 3088 2588 \nQ 3119 2431 3119 2041 \nL 3119 0 \nL 2556 0 \nL 2556 2019 \nQ 2556 2363 2490 2533 \nQ 2425 2703 2258 2804 \nQ 2091 2906 1866 2906 \nQ 1506 2906 1245 2678 \nQ 984 2450 984 1813 \nL 984 0 \nL 422 0 \nz\n\" id=\"ArialMT-6e\" transform=\"scale(0.015625)\"/>\n     </defs>\n     <use xlink:href=\"#ArialMT-20\"/>\n     <use x=\"27.783203\" xlink:href=\"#ArialMT-20\"/>\n     <use x=\"55.566406\" xlink:href=\"#ArialMT-48\"/>\n     <use x=\"127.783203\" xlink:href=\"#ArialMT-75\"/>\n     <use x=\"183.398438\" xlink:href=\"#ArialMT-6d\"/>\n     <use x=\"266.699219\" xlink:href=\"#ArialMT-61\"/>\n     <use x=\"322.314453\" xlink:href=\"#ArialMT-6e\"/>\n    </g>\n   </g>\n   <g id=\"text_15\">\n    <!--   Appeal -->\n    <g style=\"fill:#0000ff;\" transform=\"translate(103.307651 237.683355)scale(0.15 -0.15)\">\n     <defs>\n      <path d=\"M 422 -1272 \nL 422 3319 \nL 934 3319 \nL 934 2888 \nQ 1116 3141 1344 3267 \nQ 1572 3394 1897 3394 \nQ 2322 3394 2647 3175 \nQ 2972 2956 3137 2557 \nQ 3303 2159 3303 1684 \nQ 3303 1175 3120 767 \nQ 2938 359 2589 142 \nQ 2241 -75 1856 -75 \nQ 1575 -75 1351 44 \nQ 1128 163 984 344 \nL 984 -1272 \nL 422 -1272 \nz\nM 931 1641 \nQ 931 1000 1190 694 \nQ 1450 388 1819 388 \nQ 2194 388 2461 705 \nQ 2728 1022 2728 1688 \nQ 2728 2322 2467 2637 \nQ 2206 2953 1844 2953 \nQ 1484 2953 1207 2617 \nQ 931 2281 931 1641 \nz\n\" id=\"ArialMT-70\" transform=\"scale(0.015625)\"/>\n      <path d=\"M 2694 1069 \nL 3275 997 \nQ 3138 488 2766 206 \nQ 2394 -75 1816 -75 \nQ 1088 -75 661 373 \nQ 234 822 234 1631 \nQ 234 2469 665 2931 \nQ 1097 3394 1784 3394 \nQ 2450 3394 2872 2941 \nQ 3294 2488 3294 1666 \nQ 3294 1616 3291 1516 \nL 816 1516 \nQ 847 969 1125 678 \nQ 1403 388 1819 388 \nQ 2128 388 2347 550 \nQ 2566 713 2694 1069 \nz\nM 847 1978 \nL 2700 1978 \nQ 2663 2397 2488 2606 \nQ 2219 2931 1791 2931 \nQ 1403 2931 1139 2672 \nQ 875 2413 847 1978 \nz\n\" id=\"ArialMT-65\" transform=\"scale(0.015625)\"/>\n     </defs>\n     <use xlink:href=\"#ArialMT-20\"/>\n     <use x=\"27.783203\" xlink:href=\"#ArialMT-20\"/>\n     <use x=\"50.066406\" xlink:href=\"#ArialMT-41\"/>\n     <use x=\"116.765625\" xlink:href=\"#ArialMT-70\"/>\n     <use x=\"172.380859\" xlink:href=\"#ArialMT-70\"/>\n     <use x=\"227.996094\" xlink:href=\"#ArialMT-65\"/>\n     <use x=\"283.611328\" xlink:href=\"#ArialMT-61\"/>\n     <use x=\"339.226562\" xlink:href=\"#ArialMT-6c\"/>\n    </g>\n   </g>\n   <g id=\"text_16\">\n    <!--   Unsuccessfully -->\n    <g style=\"fill:#0000ff;\" transform=\"translate(174.237502 137.421463)scale(0.15 -0.15)\">\n     <defs>\n      <path d=\"M 3500 4581 \nL 4106 4581 \nL 4106 1934 \nQ 4106 1244 3950 837 \nQ 3794 431 3386 176 \nQ 2978 -78 2316 -78 \nQ 1672 -78 1262 144 \nQ 853 366 678 786 \nQ 503 1206 503 1934 \nL 503 4581 \nL 1109 4581 \nL 1109 1938 \nQ 1109 1341 1220 1058 \nQ 1331 775 1601 622 \nQ 1872 469 2263 469 \nQ 2931 469 3215 772 \nQ 3500 1075 3500 1938 \nL 3500 4581 \nz\n\" id=\"ArialMT-55\" transform=\"scale(0.015625)\"/>\n      <path d=\"M 2588 1216 \nL 3141 1144 \nQ 3050 572 2676 248 \nQ 2303 -75 1759 -75 \nQ 1078 -75 664 370 \nQ 250 816 250 1647 \nQ 250 2184 428 2587 \nQ 606 2991 970 3192 \nQ 1334 3394 1763 3394 \nQ 2303 3394 2647 3120 \nQ 2991 2847 3088 2344 \nL 2541 2259 \nQ 2463 2594 2264 2762 \nQ 2066 2931 1784 2931 \nQ 1359 2931 1093 2626 \nQ 828 2322 828 1663 \nQ 828 994 1084 691 \nQ 1341 388 1753 388 \nQ 2084 388 2306 591 \nQ 2528 794 2588 1216 \nz\n\" id=\"ArialMT-63\" transform=\"scale(0.015625)\"/>\n      <path d=\"M 556 0 \nL 556 2881 \nL 59 2881 \nL 59 3319 \nL 556 3319 \nL 556 3672 \nQ 556 4006 616 4169 \nQ 697 4388 901 4523 \nQ 1106 4659 1475 4659 \nQ 1713 4659 2000 4603 \nL 1916 4113 \nQ 1741 4144 1584 4144 \nQ 1328 4144 1222 4034 \nQ 1116 3925 1116 3625 \nL 1116 3319 \nL 1763 3319 \nL 1763 2881 \nL 1116 2881 \nL 1116 0 \nL 556 0 \nz\n\" id=\"ArialMT-66\" transform=\"scale(0.015625)\"/>\n     </defs>\n     <use xlink:href=\"#ArialMT-20\"/>\n     <use x=\"27.783203\" xlink:href=\"#ArialMT-20\"/>\n     <use x=\"55.566406\" xlink:href=\"#ArialMT-55\"/>\n     <use x=\"127.783203\" xlink:href=\"#ArialMT-6e\"/>\n     <use x=\"183.398438\" xlink:href=\"#ArialMT-73\"/>\n     <use x=\"233.398438\" xlink:href=\"#ArialMT-75\"/>\n     <use x=\"289.013672\" xlink:href=\"#ArialMT-63\"/>\n     <use x=\"339.013672\" xlink:href=\"#ArialMT-63\"/>\n     <use x=\"389.013672\" xlink:href=\"#ArialMT-65\"/>\n     <use x=\"444.628906\" xlink:href=\"#ArialMT-73\"/>\n     <use x=\"494.628906\" xlink:href=\"#ArialMT-73\"/>\n     <use x=\"544.628906\" xlink:href=\"#ArialMT-66\"/>\n     <use x=\"572.412109\" xlink:href=\"#ArialMT-75\"/>\n     <use x=\"628.027344\" xlink:href=\"#ArialMT-6c\"/>\n     <use x=\"650.244141\" xlink:href=\"#ArialMT-6c\"/>\n     <use x=\"672.460938\" xlink:href=\"#ArialMT-79\"/>\n    </g>\n   </g>\n   <g id=\"text_17\">\n    <!--   Protection -->\n    <g style=\"fill:#0000ff;\" transform=\"translate(400.641841 104.576562)scale(0.15 -0.15)\">\n     <defs>\n      <path d=\"M 494 0 \nL 494 4581 \nL 2222 4581 \nQ 2678 4581 2919 4538 \nQ 3256 4481 3484 4323 \nQ 3713 4166 3852 3881 \nQ 3991 3597 3991 3256 \nQ 3991 2672 3619 2267 \nQ 3247 1863 2275 1863 \nL 1100 1863 \nL 1100 0 \nL 494 0 \nz\nM 1100 2403 \nL 2284 2403 \nQ 2872 2403 3119 2622 \nQ 3366 2841 3366 3238 \nQ 3366 3525 3220 3729 \nQ 3075 3934 2838 4000 \nQ 2684 4041 2272 4041 \nL 1100 4041 \nL 1100 2403 \nz\n\" id=\"ArialMT-50\" transform=\"scale(0.015625)\"/>\n      <path d=\"M 416 0 \nL 416 3319 \nL 922 3319 \nL 922 2816 \nQ 1116 3169 1280 3281 \nQ 1444 3394 1641 3394 \nQ 1925 3394 2219 3213 \nL 2025 2691 \nQ 1819 2813 1613 2813 \nQ 1428 2813 1281 2702 \nQ 1134 2591 1072 2394 \nQ 978 2094 978 1738 \nL 978 0 \nL 416 0 \nz\n\" id=\"ArialMT-72\" transform=\"scale(0.015625)\"/>\n      <path d=\"M 213 1659 \nQ 213 2581 725 3025 \nQ 1153 3394 1769 3394 \nQ 2453 3394 2887 2945 \nQ 3322 2497 3322 1706 \nQ 3322 1066 3130 698 \nQ 2938 331 2570 128 \nQ 2203 -75 1769 -75 \nQ 1072 -75 642 372 \nQ 213 819 213 1659 \nz\nM 791 1659 \nQ 791 1022 1069 705 \nQ 1347 388 1769 388 \nQ 2188 388 2466 706 \nQ 2744 1025 2744 1678 \nQ 2744 2294 2464 2611 \nQ 2184 2928 1769 2928 \nQ 1347 2928 1069 2612 \nQ 791 2297 791 1659 \nz\n\" id=\"ArialMT-6f\" transform=\"scale(0.015625)\"/>\n      <path d=\"M 1650 503 \nL 1731 6 \nQ 1494 -44 1306 -44 \nQ 1000 -44 831 53 \nQ 663 150 594 308 \nQ 525 466 525 972 \nL 525 2881 \nL 113 2881 \nL 113 3319 \nL 525 3319 \nL 525 4141 \nL 1084 4478 \nL 1084 3319 \nL 1650 3319 \nL 1650 2881 \nL 1084 2881 \nL 1084 941 \nQ 1084 700 1114 631 \nQ 1144 563 1211 522 \nQ 1278 481 1403 481 \nQ 1497 481 1650 503 \nz\n\" id=\"ArialMT-74\" transform=\"scale(0.015625)\"/>\n     </defs>\n     <use xlink:href=\"#ArialMT-20\"/>\n     <use x=\"27.783203\" xlink:href=\"#ArialMT-20\"/>\n     <use x=\"55.566406\" xlink:href=\"#ArialMT-50\"/>\n     <use x=\"122.265625\" xlink:href=\"#ArialMT-72\"/>\n     <use x=\"155.566406\" xlink:href=\"#ArialMT-6f\"/>\n     <use x=\"211.181641\" xlink:href=\"#ArialMT-74\"/>\n     <use x=\"238.964844\" xlink:href=\"#ArialMT-65\"/>\n     <use x=\"294.580078\" xlink:href=\"#ArialMT-63\"/>\n     <use x=\"344.580078\" xlink:href=\"#ArialMT-74\"/>\n     <use x=\"372.363281\" xlink:href=\"#ArialMT-69\"/>\n     <use x=\"394.580078\" xlink:href=\"#ArialMT-6f\"/>\n     <use x=\"450.195312\" xlink:href=\"#ArialMT-6e\"/>\n    </g>\n   </g>\n   <g id=\"text_18\">\n    <!--   Certify -->\n    <g style=\"fill:#0000ff;\" transform=\"translate(251.628599 349.508287)scale(0.15 -0.15)\">\n     <use xlink:href=\"#ArialMT-20\"/>\n     <use x=\"27.783203\" xlink:href=\"#ArialMT-20\"/>\n     <use x=\"55.566406\" xlink:href=\"#ArialMT-43\"/>\n     <use x=\"127.783203\" xlink:href=\"#ArialMT-65\"/>\n     <use x=\"183.398438\" xlink:href=\"#ArialMT-72\"/>\n     <use x=\"216.699219\" xlink:href=\"#ArialMT-74\"/>\n     <use x=\"244.482422\" xlink:href=\"#ArialMT-69\"/>\n     <use x=\"266.699219\" xlink:href=\"#ArialMT-66\"/>\n     <use x=\"294.482422\" xlink:href=\"#ArialMT-79\"/>\n    </g>\n   </g>\n   <g id=\"text_19\">\n    <!--   Lodge -->\n    <g style=\"fill:#0000ff;\" transform=\"translate(290.991582 183.134261)scale(0.15 -0.15)\">\n     <defs>\n      <path d=\"M 469 0 \nL 469 4581 \nL 1075 4581 \nL 1075 541 \nL 3331 541 \nL 3331 0 \nL 469 0 \nz\n\" id=\"ArialMT-4c\" transform=\"scale(0.015625)\"/>\n      <path d=\"M 2575 0 \nL 2575 419 \nQ 2259 -75 1647 -75 \nQ 1250 -75 917 144 \nQ 584 363 401 755 \nQ 219 1147 219 1656 \nQ 219 2153 384 2558 \nQ 550 2963 881 3178 \nQ 1213 3394 1622 3394 \nQ 1922 3394 2156 3267 \nQ 2391 3141 2538 2938 \nL 2538 4581 \nL 3097 4581 \nL 3097 0 \nL 2575 0 \nz\nM 797 1656 \nQ 797 1019 1065 703 \nQ 1334 388 1700 388 \nQ 2069 388 2326 689 \nQ 2584 991 2584 1609 \nQ 2584 2291 2321 2609 \nQ 2059 2928 1675 2928 \nQ 1300 2928 1048 2622 \nQ 797 2316 797 1656 \nz\n\" id=\"ArialMT-64\" transform=\"scale(0.015625)\"/>\n      <path d=\"M 319 -275 \nL 866 -356 \nQ 900 -609 1056 -725 \nQ 1266 -881 1628 -881 \nQ 2019 -881 2231 -725 \nQ 2444 -569 2519 -288 \nQ 2563 -116 2559 434 \nQ 2191 0 1641 0 \nQ 956 0 581 494 \nQ 206 988 206 1678 \nQ 206 2153 378 2554 \nQ 550 2956 876 3175 \nQ 1203 3394 1644 3394 \nQ 2231 3394 2613 2919 \nL 2613 3319 \nL 3131 3319 \nL 3131 450 \nQ 3131 -325 2973 -648 \nQ 2816 -972 2473 -1159 \nQ 2131 -1347 1631 -1347 \nQ 1038 -1347 672 -1080 \nQ 306 -813 319 -275 \nz\nM 784 1719 \nQ 784 1066 1043 766 \nQ 1303 466 1694 466 \nQ 2081 466 2343 764 \nQ 2606 1063 2606 1700 \nQ 2606 2309 2336 2618 \nQ 2066 2928 1684 2928 \nQ 1309 2928 1046 2623 \nQ 784 2319 784 1719 \nz\n\" id=\"ArialMT-67\" transform=\"scale(0.015625)\"/>\n     </defs>\n     <use xlink:href=\"#ArialMT-20\"/>\n     <use x=\"27.783203\" xlink:href=\"#ArialMT-20\"/>\n     <use x=\"55.566406\" xlink:href=\"#ArialMT-4c\"/>\n     <use x=\"111.181641\" xlink:href=\"#ArialMT-6f\"/>\n     <use x=\"166.796875\" xlink:href=\"#ArialMT-64\"/>\n     <use x=\"222.412109\" xlink:href=\"#ArialMT-67\"/>\n     <use x=\"278.027344\" xlink:href=\"#ArialMT-65\"/>\n    </g>\n   </g>\n   <g id=\"text_20\">\n    <!--   Refugee -->\n    <g style=\"fill:#0000ff;\" transform=\"translate(455.725985 331.848592)scale(0.15 -0.15)\">\n     <defs>\n      <path d=\"M 503 0 \nL 503 4581 \nL 2534 4581 \nQ 3147 4581 3465 4457 \nQ 3784 4334 3975 4021 \nQ 4166 3709 4166 3331 \nQ 4166 2844 3850 2509 \nQ 3534 2175 2875 2084 \nQ 3116 1969 3241 1856 \nQ 3506 1613 3744 1247 \nL 4541 0 \nL 3778 0 \nL 3172 953 \nQ 2906 1366 2734 1584 \nQ 2563 1803 2427 1890 \nQ 2291 1978 2150 2013 \nQ 2047 2034 1813 2034 \nL 1109 2034 \nL 1109 0 \nL 503 0 \nz\nM 1109 2559 \nL 2413 2559 \nQ 2828 2559 3062 2645 \nQ 3297 2731 3419 2920 \nQ 3541 3109 3541 3331 \nQ 3541 3656 3305 3865 \nQ 3069 4075 2559 4075 \nL 1109 4075 \nL 1109 2559 \nz\n\" id=\"ArialMT-52\" transform=\"scale(0.015625)\"/>\n     </defs>\n     <use xlink:href=\"#ArialMT-20\"/>\n     <use x=\"27.783203\" xlink:href=\"#ArialMT-20\"/>\n     <use x=\"55.566406\" xlink:href=\"#ArialMT-52\"/>\n     <use x=\"127.783203\" xlink:href=\"#ArialMT-65\"/>\n     <use x=\"183.398438\" xlink:href=\"#ArialMT-66\"/>\n     <use x=\"211.181641\" xlink:href=\"#ArialMT-75\"/>\n     <use x=\"266.796875\" xlink:href=\"#ArialMT-67\"/>\n     <use x=\"322.412109\" xlink:href=\"#ArialMT-65\"/>\n     <use x=\"378.027344\" xlink:href=\"#ArialMT-65\"/>\n    </g>\n   </g>\n   <g id=\"text_21\">\n    <!--   Exhausted -->\n    <g style=\"fill:#0000ff;\" transform=\"translate(366.394825 417.21726)scale(0.15 -0.15)\">\n     <defs>\n      <path d=\"M 506 0 \nL 506 4581 \nL 3819 4581 \nL 3819 4041 \nL 1113 4041 \nL 1113 2638 \nL 3647 2638 \nL 3647 2100 \nL 1113 2100 \nL 1113 541 \nL 3925 541 \nL 3925 0 \nL 506 0 \nz\n\" id=\"ArialMT-45\" transform=\"scale(0.015625)\"/>\n      <path d=\"M 422 0 \nL 422 4581 \nL 984 4581 \nL 984 2938 \nQ 1378 3394 1978 3394 \nQ 2347 3394 2619 3248 \nQ 2891 3103 3008 2847 \nQ 3125 2591 3125 2103 \nL 3125 0 \nL 2563 0 \nL 2563 2103 \nQ 2563 2525 2380 2717 \nQ 2197 2909 1863 2909 \nQ 1613 2909 1392 2779 \nQ 1172 2650 1078 2428 \nQ 984 2206 984 1816 \nL 984 0 \nL 422 0 \nz\n\" id=\"ArialMT-68\" transform=\"scale(0.015625)\"/>\n     </defs>\n     <use xlink:href=\"#ArialMT-20\"/>\n     <use x=\"27.783203\" xlink:href=\"#ArialMT-20\"/>\n     <use x=\"55.566406\" xlink:href=\"#ArialMT-45\"/>\n     <use x=\"122.265625\" xlink:href=\"#ArialMT-78\"/>\n     <use x=\"172.265625\" xlink:href=\"#ArialMT-68\"/>\n     <use x=\"227.880859\" xlink:href=\"#ArialMT-61\"/>\n     <use x=\"283.496094\" xlink:href=\"#ArialMT-75\"/>\n     <use x=\"339.111328\" xlink:href=\"#ArialMT-73\"/>\n     <use x=\"389.111328\" xlink:href=\"#ArialMT-74\"/>\n     <use x=\"416.894531\" xlink:href=\"#ArialMT-65\"/>\n     <use x=\"472.509766\" xlink:href=\"#ArialMT-64\"/>\n    </g>\n   </g>\n   <g id=\"text_22\">\n    <!--   Clandestinely -->\n    <g style=\"fill:#0000ff;\" transform=\"translate(217.579168 252.787257)scale(0.15 -0.15)\">\n     <use xlink:href=\"#ArialMT-20\"/>\n     <use x=\"27.783203\" xlink:href=\"#ArialMT-20\"/>\n     <use x=\"55.566406\" xlink:href=\"#ArialMT-43\"/>\n     <use x=\"127.783203\" xlink:href=\"#ArialMT-6c\"/>\n     <use x=\"150\" xlink:href=\"#ArialMT-61\"/>\n     <use x=\"205.615234\" xlink:href=\"#ArialMT-6e\"/>\n     <use x=\"261.230469\" xlink:href=\"#ArialMT-64\"/>\n     <use x=\"316.845703\" xlink:href=\"#ArialMT-65\"/>\n     <use x=\"372.460938\" xlink:href=\"#ArialMT-73\"/>\n     <use x=\"422.460938\" xlink:href=\"#ArialMT-74\"/>\n     <use x=\"450.244141\" xlink:href=\"#ArialMT-69\"/>\n     <use x=\"472.460938\" xlink:href=\"#ArialMT-6e\"/>\n     <use x=\"528.076172\" xlink:href=\"#ArialMT-65\"/>\n     <use x=\"583.691406\" xlink:href=\"#ArialMT-6c\"/>\n     <use x=\"605.908203\" xlink:href=\"#ArialMT-79\"/>\n    </g>\n   </g>\n   <g id=\"text_23\">\n    <!--   Dog -->\n    <g style=\"fill:#008000;\" transform=\"translate(135.790432 357.796747)scale(0.15 -0.15)\">\n     <defs>\n      <path d=\"M 494 0 \nL 494 4581 \nL 2072 4581 \nQ 2606 4581 2888 4516 \nQ 3281 4425 3559 4188 \nQ 3922 3881 4101 3404 \nQ 4281 2928 4281 2316 \nQ 4281 1794 4159 1391 \nQ 4038 988 3847 723 \nQ 3656 459 3429 307 \nQ 3203 156 2883 78 \nQ 2563 0 2147 0 \nL 494 0 \nz\nM 1100 541 \nL 2078 541 \nQ 2531 541 2789 625 \nQ 3047 709 3200 863 \nQ 3416 1078 3536 1442 \nQ 3656 1806 3656 2325 \nQ 3656 3044 3420 3430 \nQ 3184 3816 2847 3947 \nQ 2603 4041 2063 4041 \nL 1100 4041 \nL 1100 541 \nz\n\" id=\"ArialMT-44\" transform=\"scale(0.015625)\"/>\n     </defs>\n     <use xlink:href=\"#ArialMT-20\"/>\n     <use x=\"27.783203\" xlink:href=\"#ArialMT-20\"/>\n     <use x=\"55.566406\" xlink:href=\"#ArialMT-44\"/>\n     <use x=\"127.783203\" xlink:href=\"#ArialMT-6f\"/>\n     <use x=\"183.398438\" xlink:href=\"#ArialMT-67\"/>\n    </g>\n   </g>\n   <g id=\"text_24\">\n    <!--   Car -->\n    <g style=\"fill:#008000;\" transform=\"translate(278.360938 71.202557)scale(0.15 -0.15)\">\n     <use xlink:href=\"#ArialMT-20\"/>\n     <use x=\"27.783203\" xlink:href=\"#ArialMT-20\"/>\n     <use x=\"55.566406\" xlink:href=\"#ArialMT-43\"/>\n     <use x=\"127.783203\" xlink:href=\"#ArialMT-61\"/>\n     <use x=\"183.398438\" xlink:href=\"#ArialMT-72\"/>\n    </g>\n   </g>\n   <g id=\"text_25\">\n    <!--   Plane -->\n    <g style=\"fill:#008000;\" transform=\"translate(498.629849 209.475857)scale(0.15 -0.15)\">\n     <use xlink:href=\"#ArialMT-20\"/>\n     <use x=\"27.783203\" xlink:href=\"#ArialMT-20\"/>\n     <use x=\"55.566406\" xlink:href=\"#ArialMT-50\"/>\n     <use x=\"122.265625\" xlink:href=\"#ArialMT-6c\"/>\n     <use x=\"144.482422\" xlink:href=\"#ArialMT-61\"/>\n     <use x=\"200.097656\" xlink:href=\"#ArialMT-6e\"/>\n     <use x=\"255.712891\" xlink:href=\"#ArialMT-65\"/>\n    </g>\n   </g>\n   <g id=\"text_26\">\n    <!-- t-SNE visualization for Asylum -->\n    <g style=\"fill:#262626;\" transform=\"translate(220.942813 15.935625)scale(0.12 -0.12)\">\n     <defs>\n      <path d=\"M 203 1375 \nL 203 1941 \nL 1931 1941 \nL 1931 1375 \nL 203 1375 \nz\n\" id=\"ArialMT-2d\" transform=\"scale(0.015625)\"/>\n      <path d=\"M 288 1472 \nL 859 1522 \nQ 900 1178 1048 958 \nQ 1197 738 1509 602 \nQ 1822 466 2213 466 \nQ 2559 466 2825 569 \nQ 3091 672 3220 851 \nQ 3350 1031 3350 1244 \nQ 3350 1459 3225 1620 \nQ 3100 1781 2813 1891 \nQ 2628 1963 1997 2114 \nQ 1366 2266 1113 2400 \nQ 784 2572 623 2826 \nQ 463 3081 463 3397 \nQ 463 3744 659 4045 \nQ 856 4347 1234 4503 \nQ 1613 4659 2075 4659 \nQ 2584 4659 2973 4495 \nQ 3363 4331 3572 4012 \nQ 3781 3694 3797 3291 \nL 3216 3247 \nQ 3169 3681 2898 3903 \nQ 2628 4125 2100 4125 \nQ 1550 4125 1298 3923 \nQ 1047 3722 1047 3438 \nQ 1047 3191 1225 3031 \nQ 1400 2872 2139 2705 \nQ 2878 2538 3153 2413 \nQ 3553 2228 3743 1945 \nQ 3934 1663 3934 1294 \nQ 3934 928 3725 604 \nQ 3516 281 3123 101 \nQ 2731 -78 2241 -78 \nQ 1619 -78 1198 103 \nQ 778 284 539 648 \nQ 300 1013 288 1472 \nz\n\" id=\"ArialMT-53\" transform=\"scale(0.015625)\"/>\n      <path d=\"M 488 0 \nL 488 4581 \nL 1109 4581 \nL 3516 984 \nL 3516 4581 \nL 4097 4581 \nL 4097 0 \nL 3475 0 \nL 1069 3600 \nL 1069 0 \nL 488 0 \nz\n\" id=\"ArialMT-4e\" transform=\"scale(0.015625)\"/>\n      <path d=\"M 1344 0 \nL 81 3319 \nL 675 3319 \nL 1388 1331 \nQ 1503 1009 1600 663 \nQ 1675 925 1809 1294 \nL 2547 3319 \nL 3125 3319 \nL 1869 0 \nL 1344 0 \nz\n\" id=\"ArialMT-76\" transform=\"scale(0.015625)\"/>\n      <path d=\"M 125 0 \nL 125 456 \nL 2238 2881 \nQ 1878 2863 1603 2863 \nL 250 2863 \nL 250 3319 \nL 2963 3319 \nL 2963 2947 \nL 1166 841 \nL 819 456 \nQ 1197 484 1528 484 \nL 3063 484 \nL 3063 0 \nL 125 0 \nz\n\" id=\"ArialMT-7a\" transform=\"scale(0.015625)\"/>\n     </defs>\n     <use xlink:href=\"#ArialMT-74\"/>\n     <use x=\"27.783203\" xlink:href=\"#ArialMT-2d\"/>\n     <use x=\"61.083984\" xlink:href=\"#ArialMT-53\"/>\n     <use x=\"127.783203\" xlink:href=\"#ArialMT-4e\"/>\n     <use x=\"200\" xlink:href=\"#ArialMT-45\"/>\n     <use x=\"266.699219\" xlink:href=\"#ArialMT-20\"/>\n     <use x=\"294.482422\" xlink:href=\"#ArialMT-76\"/>\n     <use x=\"344.482422\" xlink:href=\"#ArialMT-69\"/>\n     <use x=\"366.699219\" xlink:href=\"#ArialMT-73\"/>\n     <use x=\"416.699219\" xlink:href=\"#ArialMT-75\"/>\n     <use x=\"472.314453\" xlink:href=\"#ArialMT-61\"/>\n     <use x=\"527.929688\" xlink:href=\"#ArialMT-6c\"/>\n     <use x=\"550.146484\" xlink:href=\"#ArialMT-69\"/>\n     <use x=\"572.363281\" xlink:href=\"#ArialMT-7a\"/>\n     <use x=\"622.363281\" xlink:href=\"#ArialMT-61\"/>\n     <use x=\"677.978516\" xlink:href=\"#ArialMT-74\"/>\n     <use x=\"705.761719\" xlink:href=\"#ArialMT-69\"/>\n     <use x=\"727.978516\" xlink:href=\"#ArialMT-6f\"/>\n     <use x=\"783.59375\" xlink:href=\"#ArialMT-6e\"/>\n     <use x=\"839.208984\" xlink:href=\"#ArialMT-20\"/>\n     <use x=\"866.992188\" xlink:href=\"#ArialMT-66\"/>\n     <use x=\"894.775391\" xlink:href=\"#ArialMT-6f\"/>\n     <use x=\"950.390625\" xlink:href=\"#ArialMT-72\"/>\n     <use x=\"983.691406\" xlink:href=\"#ArialMT-20\"/>\n     <use x=\"1005.974609\" xlink:href=\"#ArialMT-41\"/>\n     <use x=\"1072.673828\" xlink:href=\"#ArialMT-73\"/>\n     <use x=\"1122.673828\" xlink:href=\"#ArialMT-79\"/>\n     <use x=\"1172.673828\" xlink:href=\"#ArialMT-6c\"/>\n     <use x=\"1194.890625\" xlink:href=\"#ArialMT-75\"/>\n     <use x=\"1250.505859\" xlink:href=\"#ArialMT-6d\"/>\n    </g>\n   </g>\n  </g>\n </g>\n <defs>\n  <clipPath id=\"p595742a473\">\n   <rect height=\"489.24\" width=\"502.2\" x=\"49.86875\" y=\"21.935625\"/>\n  </clipPath>\n </defs>\n</svg>\n",
      "text/plain": [
       "<Figure size 648x648 with 1 Axes>"
      ]
     },
     "metadata": {
      "needs_background": "light"
     },
     "output_type": "display_data"
    }
   ],
   "source": [
    "# Load model trained with judgements\n",
    "model = Word2Vec.load('./output/gensim-model-All')\n",
    "\n",
    "# Visualze the 10 most similar words to asylum and 3 random words\n",
    "tsnescatterplot(model, 'asylum', ['dog', 'car', 'plane'])\n"
   ]
  },
  {
   "cell_type": "code",
   "execution_count": 15,
   "metadata": {},
   "outputs": [
    {
     "name": "stderr",
     "output_type": "stream",
     "text": [
      "/Users/albertamurgopacheco/anaconda3/envs/tfm/lib/python3.8/site-packages/sklearn/manifold/_t_sne.py:780: FutureWarning: The default initialization in TSNE will change from 'random' to 'pca' in 1.2.\n",
      "  warnings.warn(\n",
      "/Users/albertamurgopacheco/anaconda3/envs/tfm/lib/python3.8/site-packages/sklearn/manifold/_t_sne.py:790: FutureWarning: The default learning rate in TSNE will change from 200.0 to 'auto' in 1.2.\n",
      "  warnings.warn(\n"
     ]
    },
    {
     "data": {
      "image/png": "[encoded data removed]",
      "image/svg+xml": "<?xml version=\"1.0\" encoding=\"utf-8\" standalone=\"no\"?>\n<!DOCTYPE svg PUBLIC \"-//W3C//DTD SVG 1.1//EN\"\n  \"http://www.w3.org/Graphics/SVG/1.1/DTD/svg11.dtd\">\n<svg height=\"547.52pt\" version=\"1.1\" viewBox=\"0 0 559.26875 547.52\" width=\"559.26875pt\" xmlns=\"http://www.w3.org/2000/svg\" xmlns:xlink=\"http://www.w3.org/1999/xlink\">\n <metadata>\n  <rdf:RDF xmlns:cc=\"http://creativecommons.org/ns#\" xmlns:dc=\"http://purl.org/dc/elements/1.1/\" xmlns:rdf=\"http://www.w3.org/1999/02/22-rdf-syntax-ns#\">\n   <cc:Work>\n    <dc:type rdf:resource=\"http://purl.org/dc/dcmitype/StillImage\"/>\n    <dc:date>2021-12-19T10:46:58.496668</dc:date>\n    <dc:format>image/svg+xml</dc:format>\n    <dc:creator>\n     <cc:Agent>\n      <dc:title>Matplotlib v3.4.3, https://matplotlib.org/</dc:title>\n     </cc:Agent>\n    </dc:creator>\n   </cc:Work>\n  </rdf:RDF>\n </metadata>\n <defs>\n  <style type=\"text/css\">*{stroke-linecap:butt;stroke-linejoin:round;}</style>\n </defs>\n <g id=\"figure_1\">\n  <g id=\"patch_1\">\n   <path d=\"M 0 547.52 \nL 559.26875 547.52 \nL 559.26875 0 \nL 0 0 \nz\n\" style=\"fill:none;\"/>\n  </g>\n  <g id=\"axes_1\">\n   <g id=\"patch_2\">\n    <path d=\"M 49.86875 511.029375 \nL 552.06875 511.029375 \nL 552.06875 21.789375 \nL 49.86875 21.789375 \nz\n\" style=\"fill:#eaeaf2;\"/>\n   </g>\n   <g id=\"matplotlib.axis_1\">\n    <g id=\"xtick_1\">\n     <g id=\"line2d_1\">\n      <path clip-path=\"url(#p2f52b35c8f)\" d=\"M 131.345445 511.029375 \nL 131.345445 21.789375 \n\" style=\"fill:none;stroke:#ffffff;stroke-linecap:round;stroke-width:0.8;\"/>\n     </g>\n     <g id=\"text_1\">\n      <!-- −100 -->\n      <g style=\"fill:#262626;\" transform=\"translate(120.083726 525.187187)scale(0.1 -0.1)\">\n       <defs>\n        <path d=\"M 3381 1997 \nL 356 1997 \nL 356 2522 \nL 3381 2522 \nL 3381 1997 \nz\n\" id=\"ArialMT-2212\" transform=\"scale(0.015625)\"/>\n        <path d=\"M 2384 0 \nL 1822 0 \nL 1822 3584 \nQ 1619 3391 1289 3197 \nQ 959 3003 697 2906 \nL 697 3450 \nQ 1169 3672 1522 3987 \nQ 1875 4303 2022 4600 \nL 2384 4600 \nL 2384 0 \nz\n\" id=\"ArialMT-31\" transform=\"scale(0.015625)\"/>\n        <path d=\"M 266 2259 \nQ 266 3072 433 3567 \nQ 600 4063 929 4331 \nQ 1259 4600 1759 4600 \nQ 2128 4600 2406 4451 \nQ 2684 4303 2865 4023 \nQ 3047 3744 3150 3342 \nQ 3253 2941 3253 2259 \nQ 3253 1453 3087 958 \nQ 2922 463 2592 192 \nQ 2263 -78 1759 -78 \nQ 1097 -78 719 397 \nQ 266 969 266 2259 \nz\nM 844 2259 \nQ 844 1131 1108 757 \nQ 1372 384 1759 384 \nQ 2147 384 2411 759 \nQ 2675 1134 2675 2259 \nQ 2675 3391 2411 3762 \nQ 2147 4134 1753 4134 \nQ 1366 4134 1134 3806 \nQ 844 3388 844 2259 \nz\n\" id=\"ArialMT-30\" transform=\"scale(0.015625)\"/>\n       </defs>\n       <use xlink:href=\"#ArialMT-2212\"/>\n       <use x=\"58.398438\" xlink:href=\"#ArialMT-31\"/>\n       <use x=\"114.013672\" xlink:href=\"#ArialMT-30\"/>\n       <use x=\"169.628906\" xlink:href=\"#ArialMT-30\"/>\n      </g>\n     </g>\n    </g>\n    <g id=\"xtick_2\">\n     <g id=\"line2d_2\">\n      <path clip-path=\"url(#p2f52b35c8f)\" d=\"M 238.223248 511.029375 \nL 238.223248 21.789375 \n\" style=\"fill:none;stroke:#ffffff;stroke-linecap:round;stroke-width:0.8;\"/>\n     </g>\n     <g id=\"text_2\">\n      <!-- 0 -->\n      <g style=\"fill:#262626;\" transform=\"translate(235.442779 525.187187)scale(0.1 -0.1)\">\n       <use xlink:href=\"#ArialMT-30\"/>\n      </g>\n     </g>\n    </g>\n    <g id=\"xtick_3\">\n     <g id=\"line2d_3\">\n      <path clip-path=\"url(#p2f52b35c8f)\" d=\"M 345.10105 511.029375 \nL 345.10105 21.789375 \n\" style=\"fill:none;stroke:#ffffff;stroke-linecap:round;stroke-width:0.8;\"/>\n     </g>\n     <g id=\"text_3\">\n      <!-- 100 -->\n      <g style=\"fill:#262626;\" transform=\"translate(336.759644 525.187187)scale(0.1 -0.1)\">\n       <use xlink:href=\"#ArialMT-31\"/>\n       <use x=\"55.615234\" xlink:href=\"#ArialMT-30\"/>\n       <use x=\"111.230469\" xlink:href=\"#ArialMT-30\"/>\n      </g>\n     </g>\n    </g>\n    <g id=\"xtick_4\">\n     <g id=\"line2d_4\">\n      <path clip-path=\"url(#p2f52b35c8f)\" d=\"M 451.978852 511.029375 \nL 451.978852 21.789375 \n\" style=\"fill:none;stroke:#ffffff;stroke-linecap:round;stroke-width:0.8;\"/>\n     </g>\n     <g id=\"text_4\">\n      <!-- 200 -->\n      <g style=\"fill:#262626;\" transform=\"translate(443.637446 525.187187)scale(0.1 -0.1)\">\n       <defs>\n        <path d=\"M 3222 541 \nL 3222 0 \nL 194 0 \nQ 188 203 259 391 \nQ 375 700 629 1000 \nQ 884 1300 1366 1694 \nQ 2113 2306 2375 2664 \nQ 2638 3022 2638 3341 \nQ 2638 3675 2398 3904 \nQ 2159 4134 1775 4134 \nQ 1369 4134 1125 3890 \nQ 881 3647 878 3216 \nL 300 3275 \nQ 359 3922 746 4261 \nQ 1134 4600 1788 4600 \nQ 2447 4600 2831 4234 \nQ 3216 3869 3216 3328 \nQ 3216 3053 3103 2787 \nQ 2991 2522 2730 2228 \nQ 2469 1934 1863 1422 \nQ 1356 997 1212 845 \nQ 1069 694 975 541 \nL 3222 541 \nz\n\" id=\"ArialMT-32\" transform=\"scale(0.015625)\"/>\n       </defs>\n       <use xlink:href=\"#ArialMT-32\"/>\n       <use x=\"55.615234\" xlink:href=\"#ArialMT-30\"/>\n       <use x=\"111.230469\" xlink:href=\"#ArialMT-30\"/>\n      </g>\n     </g>\n    </g>\n    <g id=\"text_5\">\n     <!-- x -->\n     <g style=\"fill:#262626;\" transform=\"translate(298.46875 538.3325)scale(0.1 -0.1)\">\n      <defs>\n       <path d=\"M 47 0 \nL 1259 1725 \nL 138 3319 \nL 841 3319 \nL 1350 2541 \nQ 1494 2319 1581 2169 \nQ 1719 2375 1834 2534 \nL 2394 3319 \nL 3066 3319 \nL 1919 1756 \nL 3153 0 \nL 2463 0 \nL 1781 1031 \nL 1600 1309 \nL 728 0 \nL 47 0 \nz\n\" id=\"ArialMT-78\" transform=\"scale(0.015625)\"/>\n      </defs>\n      <use xlink:href=\"#ArialMT-78\"/>\n     </g>\n    </g>\n   </g>\n   <g id=\"matplotlib.axis_2\">\n    <g id=\"ytick_1\">\n     <g id=\"line2d_5\">\n      <path clip-path=\"url(#p2f52b35c8f)\" d=\"M 49.86875 455.508953 \nL 552.06875 455.508953 \n\" style=\"fill:none;stroke:#ffffff;stroke-linecap:round;stroke-width:0.8;\"/>\n     </g>\n     <g id=\"text_6\">\n      <!-- −200 -->\n      <g style=\"fill:#262626;\" transform=\"translate(20.345313 459.087859)scale(0.1 -0.1)\">\n       <use xlink:href=\"#ArialMT-2212\"/>\n       <use x=\"58.398438\" xlink:href=\"#ArialMT-32\"/>\n       <use x=\"114.013672\" xlink:href=\"#ArialMT-30\"/>\n       <use x=\"169.628906\" xlink:href=\"#ArialMT-30\"/>\n      </g>\n     </g>\n    </g>\n    <g id=\"ytick_2\">\n     <g id=\"line2d_6\">\n      <path clip-path=\"url(#p2f52b35c8f)\" d=\"M 49.86875 351.012588 \nL 552.06875 351.012588 \n\" style=\"fill:none;stroke:#ffffff;stroke-linecap:round;stroke-width:0.8;\"/>\n     </g>\n     <g id=\"text_7\">\n      <!-- −100 -->\n      <g style=\"fill:#262626;\" transform=\"translate(20.345313 354.591495)scale(0.1 -0.1)\">\n       <use xlink:href=\"#ArialMT-2212\"/>\n       <use x=\"58.398438\" xlink:href=\"#ArialMT-31\"/>\n       <use x=\"114.013672\" xlink:href=\"#ArialMT-30\"/>\n       <use x=\"169.628906\" xlink:href=\"#ArialMT-30\"/>\n      </g>\n     </g>\n    </g>\n    <g id=\"ytick_3\">\n     <g id=\"line2d_7\">\n      <path clip-path=\"url(#p2f52b35c8f)\" d=\"M 49.86875 246.516224 \nL 552.06875 246.516224 \n\" style=\"fill:none;stroke:#ffffff;stroke-linecap:round;stroke-width:0.8;\"/>\n     </g>\n     <g id=\"text_8\">\n      <!-- 0 -->\n      <g style=\"fill:#262626;\" transform=\"translate(37.307813 250.09513)scale(0.1 -0.1)\">\n       <use xlink:href=\"#ArialMT-30\"/>\n      </g>\n     </g>\n    </g>\n    <g id=\"ytick_4\">\n     <g id=\"line2d_8\">\n      <path clip-path=\"url(#p2f52b35c8f)\" d=\"M 49.86875 142.01986 \nL 552.06875 142.01986 \n\" style=\"fill:none;stroke:#ffffff;stroke-linecap:round;stroke-width:0.8;\"/>\n     </g>\n     <g id=\"text_9\">\n      <!-- 100 -->\n      <g style=\"fill:#262626;\" transform=\"translate(26.185938 145.598766)scale(0.1 -0.1)\">\n       <use xlink:href=\"#ArialMT-31\"/>\n       <use x=\"55.615234\" xlink:href=\"#ArialMT-30\"/>\n       <use x=\"111.230469\" xlink:href=\"#ArialMT-30\"/>\n      </g>\n     </g>\n    </g>\n    <g id=\"ytick_5\">\n     <g id=\"line2d_9\">\n      <path clip-path=\"url(#p2f52b35c8f)\" d=\"M 49.86875 37.523495 \nL 552.06875 37.523495 \n\" style=\"fill:none;stroke:#ffffff;stroke-linecap:round;stroke-width:0.8;\"/>\n     </g>\n     <g id=\"text_10\">\n      <!-- 200 -->\n      <g style=\"fill:#262626;\" transform=\"translate(26.185938 41.102402)scale(0.1 -0.1)\">\n       <use xlink:href=\"#ArialMT-32\"/>\n       <use x=\"55.615234\" xlink:href=\"#ArialMT-30\"/>\n       <use x=\"111.230469\" xlink:href=\"#ArialMT-30\"/>\n      </g>\n     </g>\n    </g>\n    <g id=\"text_11\">\n     <!-- y -->\n     <g style=\"fill:#262626;\" transform=\"translate(14.240625 268.909375)rotate(-90)scale(0.1 -0.1)\">\n      <defs>\n       <path d=\"M 397 -1278 \nL 334 -750 \nQ 519 -800 656 -800 \nQ 844 -800 956 -737 \nQ 1069 -675 1141 -563 \nQ 1194 -478 1313 -144 \nQ 1328 -97 1363 -6 \nL 103 3319 \nL 709 3319 \nL 1400 1397 \nQ 1534 1031 1641 628 \nQ 1738 1016 1872 1384 \nL 2581 3319 \nL 3144 3319 \nL 1881 -56 \nQ 1678 -603 1566 -809 \nQ 1416 -1088 1222 -1217 \nQ 1028 -1347 759 -1347 \nQ 597 -1347 397 -1278 \nz\n\" id=\"ArialMT-79\" transform=\"scale(0.015625)\"/>\n      </defs>\n      <use xlink:href=\"#ArialMT-79\"/>\n     </g>\n    </g>\n   </g>\n   <g id=\"PathCollection_1\">\n    <defs>\n     <path d=\"M 0 3.162278 \nC 0.838646 3.162278 1.643056 2.82908 2.236068 2.236068 \nC 2.82908 1.643056 3.162278 0.838646 3.162278 -0 \nC 3.162278 -0.838646 2.82908 -1.643056 2.236068 -2.236068 \nC 1.643056 -2.82908 0.838646 -3.162278 0 -3.162278 \nC -0.838646 -3.162278 -1.643056 -2.82908 -2.236068 -2.236068 \nC -2.82908 -1.643056 -3.162278 -0.838646 -3.162278 0 \nC -3.162278 0.838646 -2.82908 1.643056 -2.236068 2.236068 \nC -1.643056 2.82908 -0.838646 3.162278 0 3.162278 \nz\n\" id=\"C0_0_d3ded8313f\"/>\n    </defs>\n    <g clip-path=\"url(#p2f52b35c8f)\">\n     <use style=\"fill:#ff0000;fill-opacity:0.8;stroke:#1f77b4;stroke-opacity:0.8;\" x=\"239.746406\" xlink:href=\"#C0_0_d3ded8313f\" y=\"458.781193\"/>\n    </g>\n    <g clip-path=\"url(#p2f52b35c8f)\">\n     <use style=\"fill:#0000ff;fill-opacity:0.8;stroke:#1f77b4;stroke-opacity:0.8;\" x=\"338.364492\" xlink:href=\"#C0_0_d3ded8313f\" y=\"304.008195\"/>\n    </g>\n    <g clip-path=\"url(#p2f52b35c8f)\">\n     <use style=\"fill:#0000ff;fill-opacity:0.8;stroke:#1f77b4;stroke-opacity:0.8;\" x=\"389.662698\" xlink:href=\"#C0_0_d3ded8313f\" y=\"220.057296\"/>\n    </g>\n    <g clip-path=\"url(#p2f52b35c8f)\">\n     <use style=\"fill:#0000ff;fill-opacity:0.8;stroke:#1f77b4;stroke-opacity:0.8;\" x=\"103.307651\" xlink:href=\"#C0_0_d3ded8313f\" y=\"240.518355\"/>\n    </g>\n    <g clip-path=\"url(#p2f52b35c8f)\">\n     <use style=\"fill:#0000ff;fill-opacity:0.8;stroke:#1f77b4;stroke-opacity:0.8;\" x=\"174.237502\" xlink:href=\"#C0_0_d3ded8313f\" y=\"140.432244\"/>\n    </g>\n    <g clip-path=\"url(#p2f52b35c8f)\">\n     <use style=\"fill:#0000ff;fill-opacity:0.8;stroke:#1f77b4;stroke-opacity:0.8;\" x=\"400.641841\" xlink:href=\"#C0_0_d3ded8313f\" y=\"107.411562\"/>\n    </g>\n    <g clip-path=\"url(#p2f52b35c8f)\">\n     <use style=\"fill:#0000ff;fill-opacity:0.8;stroke:#1f77b4;stroke-opacity:0.8;\" x=\"251.628599\" xlink:href=\"#C0_0_d3ded8313f\" y=\"352.519069\"/>\n    </g>\n    <g clip-path=\"url(#p2f52b35c8f)\">\n     <use style=\"fill:#0000ff;fill-opacity:0.8;stroke:#1f77b4;stroke-opacity:0.8;\" x=\"290.991582\" xlink:href=\"#C0_0_d3ded8313f\" y=\"186.145042\"/>\n    </g>\n    <g clip-path=\"url(#p2f52b35c8f)\">\n     <use style=\"fill:#0000ff;fill-opacity:0.8;stroke:#1f77b4;stroke-opacity:0.8;\" x=\"455.725985\" xlink:href=\"#C0_0_d3ded8313f\" y=\"334.859373\"/>\n    </g>\n    <g clip-path=\"url(#p2f52b35c8f)\">\n     <use style=\"fill:#0000ff;fill-opacity:0.8;stroke:#1f77b4;stroke-opacity:0.8;\" x=\"366.394825\" xlink:href=\"#C0_0_d3ded8313f\" y=\"420.05226\"/>\n    </g>\n    <g clip-path=\"url(#p2f52b35c8f)\">\n     <use style=\"fill:#0000ff;fill-opacity:0.8;stroke:#1f77b4;stroke-opacity:0.8;\" x=\"217.579168\" xlink:href=\"#C0_0_d3ded8313f\" y=\"255.798039\"/>\n    </g>\n    <g clip-path=\"url(#p2f52b35c8f)\">\n     <use style=\"fill:#008000;fill-opacity:0.8;stroke:#1f77b4;stroke-opacity:0.8;\" x=\"135.790432\" xlink:href=\"#C0_0_d3ded8313f\" y=\"360.807528\"/>\n    </g>\n    <g clip-path=\"url(#p2f52b35c8f)\">\n     <use style=\"fill:#008000;fill-opacity:0.8;stroke:#1f77b4;stroke-opacity:0.8;\" x=\"278.360938\" xlink:href=\"#C0_0_d3ded8313f\" y=\"74.037557\"/>\n    </g>\n    <g clip-path=\"url(#p2f52b35c8f)\">\n     <use style=\"fill:#008000;fill-opacity:0.8;stroke:#1f77b4;stroke-opacity:0.8;\" x=\"498.629849\" xlink:href=\"#C0_0_d3ded8313f\" y=\"212.310857\"/>\n    </g>\n   </g>\n   <g id=\"patch_3\">\n    <path d=\"M 49.86875 511.029375 \nL 49.86875 21.789375 \n\" style=\"fill:none;stroke:#ffffff;stroke-linecap:square;stroke-linejoin:miter;stroke-width:0.8;\"/>\n   </g>\n   <g id=\"patch_4\">\n    <path d=\"M 552.06875 511.029375 \nL 552.06875 21.789375 \n\" style=\"fill:none;stroke:#ffffff;stroke-linecap:square;stroke-linejoin:miter;stroke-width:0.8;\"/>\n   </g>\n   <g id=\"patch_5\">\n    <path d=\"M 49.86875 511.029375 \nL 552.06875 511.029375 \n\" style=\"fill:none;stroke:#ffffff;stroke-linecap:square;stroke-linejoin:miter;stroke-width:0.8;\"/>\n   </g>\n   <g id=\"patch_6\">\n    <path d=\"M 49.86875 21.789375 \nL 552.06875 21.789375 \n\" style=\"fill:none;stroke:#ffffff;stroke-linecap:square;stroke-linejoin:miter;stroke-width:0.8;\"/>\n   </g>\n   <g id=\"text_12\">\n    <!--   Eurodac -->\n    <g style=\"fill:#ff0000;\" transform=\"translate(239.746406 455.799943)scale(0.15 -0.15)\">\n     <defs>\n      <path id=\"ArialMT-20\" transform=\"scale(0.015625)\"/>\n      <path d=\"M 506 0 \nL 506 4581 \nL 3819 4581 \nL 3819 4041 \nL 1113 4041 \nL 1113 2638 \nL 3647 2638 \nL 3647 2100 \nL 1113 2100 \nL 1113 541 \nL 3925 541 \nL 3925 0 \nL 506 0 \nz\n\" id=\"ArialMT-45\" transform=\"scale(0.015625)\"/>\n      <path d=\"M 2597 0 \nL 2597 488 \nQ 2209 -75 1544 -75 \nQ 1250 -75 995 37 \nQ 741 150 617 320 \nQ 494 491 444 738 \nQ 409 903 409 1263 \nL 409 3319 \nL 972 3319 \nL 972 1478 \nQ 972 1038 1006 884 \nQ 1059 663 1231 536 \nQ 1403 409 1656 409 \nQ 1909 409 2131 539 \nQ 2353 669 2445 892 \nQ 2538 1116 2538 1541 \nL 2538 3319 \nL 3100 3319 \nL 3100 0 \nL 2597 0 \nz\n\" id=\"ArialMT-75\" transform=\"scale(0.015625)\"/>\n      <path d=\"M 416 0 \nL 416 3319 \nL 922 3319 \nL 922 2816 \nQ 1116 3169 1280 3281 \nQ 1444 3394 1641 3394 \nQ 1925 3394 2219 3213 \nL 2025 2691 \nQ 1819 2813 1613 2813 \nQ 1428 2813 1281 2702 \nQ 1134 2591 1072 2394 \nQ 978 2094 978 1738 \nL 978 0 \nL 416 0 \nz\n\" id=\"ArialMT-72\" transform=\"scale(0.015625)\"/>\n      <path d=\"M 213 1659 \nQ 213 2581 725 3025 \nQ 1153 3394 1769 3394 \nQ 2453 3394 2887 2945 \nQ 3322 2497 3322 1706 \nQ 3322 1066 3130 698 \nQ 2938 331 2570 128 \nQ 2203 -75 1769 -75 \nQ 1072 -75 642 372 \nQ 213 819 213 1659 \nz\nM 791 1659 \nQ 791 1022 1069 705 \nQ 1347 388 1769 388 \nQ 2188 388 2466 706 \nQ 2744 1025 2744 1678 \nQ 2744 2294 2464 2611 \nQ 2184 2928 1769 2928 \nQ 1347 2928 1069 2612 \nQ 791 2297 791 1659 \nz\n\" id=\"ArialMT-6f\" transform=\"scale(0.015625)\"/>\n      <path d=\"M 2575 0 \nL 2575 419 \nQ 2259 -75 1647 -75 \nQ 1250 -75 917 144 \nQ 584 363 401 755 \nQ 219 1147 219 1656 \nQ 219 2153 384 2558 \nQ 550 2963 881 3178 \nQ 1213 3394 1622 3394 \nQ 1922 3394 2156 3267 \nQ 2391 3141 2538 2938 \nL 2538 4581 \nL 3097 4581 \nL 3097 0 \nL 2575 0 \nz\nM 797 1656 \nQ 797 1019 1065 703 \nQ 1334 388 1700 388 \nQ 2069 388 2326 689 \nQ 2584 991 2584 1609 \nQ 2584 2291 2321 2609 \nQ 2059 2928 1675 2928 \nQ 1300 2928 1048 2622 \nQ 797 2316 797 1656 \nz\n\" id=\"ArialMT-64\" transform=\"scale(0.015625)\"/>\n      <path d=\"M 2588 409 \nQ 2275 144 1986 34 \nQ 1697 -75 1366 -75 \nQ 819 -75 525 192 \nQ 231 459 231 875 \nQ 231 1119 342 1320 \nQ 453 1522 633 1644 \nQ 813 1766 1038 1828 \nQ 1203 1872 1538 1913 \nQ 2219 1994 2541 2106 \nQ 2544 2222 2544 2253 \nQ 2544 2597 2384 2738 \nQ 2169 2928 1744 2928 \nQ 1347 2928 1158 2789 \nQ 969 2650 878 2297 \nL 328 2372 \nQ 403 2725 575 2942 \nQ 747 3159 1072 3276 \nQ 1397 3394 1825 3394 \nQ 2250 3394 2515 3294 \nQ 2781 3194 2906 3042 \nQ 3031 2891 3081 2659 \nQ 3109 2516 3109 2141 \nL 3109 1391 \nQ 3109 606 3145 398 \nQ 3181 191 3288 0 \nL 2700 0 \nQ 2613 175 2588 409 \nz\nM 2541 1666 \nQ 2234 1541 1622 1453 \nQ 1275 1403 1131 1340 \nQ 988 1278 909 1158 \nQ 831 1038 831 891 \nQ 831 666 1001 516 \nQ 1172 366 1500 366 \nQ 1825 366 2078 508 \nQ 2331 650 2450 897 \nQ 2541 1088 2541 1459 \nL 2541 1666 \nz\n\" id=\"ArialMT-61\" transform=\"scale(0.015625)\"/>\n      <path d=\"M 2588 1216 \nL 3141 1144 \nQ 3050 572 2676 248 \nQ 2303 -75 1759 -75 \nQ 1078 -75 664 370 \nQ 250 816 250 1647 \nQ 250 2184 428 2587 \nQ 606 2991 970 3192 \nQ 1334 3394 1763 3394 \nQ 2303 3394 2647 3120 \nQ 2991 2847 3088 2344 \nL 2541 2259 \nQ 2463 2594 2264 2762 \nQ 2066 2931 1784 2931 \nQ 1359 2931 1093 2626 \nQ 828 2322 828 1663 \nQ 828 994 1084 691 \nQ 1341 388 1753 388 \nQ 2084 388 2306 591 \nQ 2528 794 2588 1216 \nz\n\" id=\"ArialMT-63\" transform=\"scale(0.015625)\"/>\n     </defs>\n     <use xlink:href=\"#ArialMT-20\"/>\n     <use x=\"27.783203\" xlink:href=\"#ArialMT-20\"/>\n     <use x=\"55.566406\" xlink:href=\"#ArialMT-45\"/>\n     <use x=\"122.265625\" xlink:href=\"#ArialMT-75\"/>\n     <use x=\"177.880859\" xlink:href=\"#ArialMT-72\"/>\n     <use x=\"211.181641\" xlink:href=\"#ArialMT-6f\"/>\n     <use x=\"266.796875\" xlink:href=\"#ArialMT-64\"/>\n     <use x=\"322.412109\" xlink:href=\"#ArialMT-61\"/>\n     <use x=\"378.027344\" xlink:href=\"#ArialMT-63\"/>\n    </g>\n   </g>\n   <g id=\"text_13\">\n    <!--   Fingerprint -->\n    <g style=\"fill:#0000ff;\" transform=\"translate(338.364492 300.851164)scale(0.15 -0.15)\">\n     <defs>\n      <path d=\"M 525 0 \nL 525 4581 \nL 3616 4581 \nL 3616 4041 \nL 1131 4041 \nL 1131 2622 \nL 3281 2622 \nL 3281 2081 \nL 1131 2081 \nL 1131 0 \nL 525 0 \nz\n\" id=\"ArialMT-46\" transform=\"scale(0.015625)\"/>\n      <path d=\"M 425 3934 \nL 425 4581 \nL 988 4581 \nL 988 3934 \nL 425 3934 \nz\nM 425 0 \nL 425 3319 \nL 988 3319 \nL 988 0 \nL 425 0 \nz\n\" id=\"ArialMT-69\" transform=\"scale(0.015625)\"/>\n      <path d=\"M 422 0 \nL 422 3319 \nL 928 3319 \nL 928 2847 \nQ 1294 3394 1984 3394 \nQ 2284 3394 2536 3286 \nQ 2788 3178 2913 3003 \nQ 3038 2828 3088 2588 \nQ 3119 2431 3119 2041 \nL 3119 0 \nL 2556 0 \nL 2556 2019 \nQ 2556 2363 2490 2533 \nQ 2425 2703 2258 2804 \nQ 2091 2906 1866 2906 \nQ 1506 2906 1245 2678 \nQ 984 2450 984 1813 \nL 984 0 \nL 422 0 \nz\n\" id=\"ArialMT-6e\" transform=\"scale(0.015625)\"/>\n      <path d=\"M 319 -275 \nL 866 -356 \nQ 900 -609 1056 -725 \nQ 1266 -881 1628 -881 \nQ 2019 -881 2231 -725 \nQ 2444 -569 2519 -288 \nQ 2563 -116 2559 434 \nQ 2191 0 1641 0 \nQ 956 0 581 494 \nQ 206 988 206 1678 \nQ 206 2153 378 2554 \nQ 550 2956 876 3175 \nQ 1203 3394 1644 3394 \nQ 2231 3394 2613 2919 \nL 2613 3319 \nL 3131 3319 \nL 3131 450 \nQ 3131 -325 2973 -648 \nQ 2816 -972 2473 -1159 \nQ 2131 -1347 1631 -1347 \nQ 1038 -1347 672 -1080 \nQ 306 -813 319 -275 \nz\nM 784 1719 \nQ 784 1066 1043 766 \nQ 1303 466 1694 466 \nQ 2081 466 2343 764 \nQ 2606 1063 2606 1700 \nQ 2606 2309 2336 2618 \nQ 2066 2928 1684 2928 \nQ 1309 2928 1046 2623 \nQ 784 2319 784 1719 \nz\n\" id=\"ArialMT-67\" transform=\"scale(0.015625)\"/>\n      <path d=\"M 2694 1069 \nL 3275 997 \nQ 3138 488 2766 206 \nQ 2394 -75 1816 -75 \nQ 1088 -75 661 373 \nQ 234 822 234 1631 \nQ 234 2469 665 2931 \nQ 1097 3394 1784 3394 \nQ 2450 3394 2872 2941 \nQ 3294 2488 3294 1666 \nQ 3294 1616 3291 1516 \nL 816 1516 \nQ 847 969 1125 678 \nQ 1403 388 1819 388 \nQ 2128 388 2347 550 \nQ 2566 713 2694 1069 \nz\nM 847 1978 \nL 2700 1978 \nQ 2663 2397 2488 2606 \nQ 2219 2931 1791 2931 \nQ 1403 2931 1139 2672 \nQ 875 2413 847 1978 \nz\n\" id=\"ArialMT-65\" transform=\"scale(0.015625)\"/>\n      <path d=\"M 422 -1272 \nL 422 3319 \nL 934 3319 \nL 934 2888 \nQ 1116 3141 1344 3267 \nQ 1572 3394 1897 3394 \nQ 2322 3394 2647 3175 \nQ 2972 2956 3137 2557 \nQ 3303 2159 3303 1684 \nQ 3303 1175 3120 767 \nQ 2938 359 2589 142 \nQ 2241 -75 1856 -75 \nQ 1575 -75 1351 44 \nQ 1128 163 984 344 \nL 984 -1272 \nL 422 -1272 \nz\nM 931 1641 \nQ 931 1000 1190 694 \nQ 1450 388 1819 388 \nQ 2194 388 2461 705 \nQ 2728 1022 2728 1688 \nQ 2728 2322 2467 2637 \nQ 2206 2953 1844 2953 \nQ 1484 2953 1207 2617 \nQ 931 2281 931 1641 \nz\n\" id=\"ArialMT-70\" transform=\"scale(0.015625)\"/>\n      <path d=\"M 1650 503 \nL 1731 6 \nQ 1494 -44 1306 -44 \nQ 1000 -44 831 53 \nQ 663 150 594 308 \nQ 525 466 525 972 \nL 525 2881 \nL 113 2881 \nL 113 3319 \nL 525 3319 \nL 525 4141 \nL 1084 4478 \nL 1084 3319 \nL 1650 3319 \nL 1650 2881 \nL 1084 2881 \nL 1084 941 \nQ 1084 700 1114 631 \nQ 1144 563 1211 522 \nQ 1278 481 1403 481 \nQ 1497 481 1650 503 \nz\n\" id=\"ArialMT-74\" transform=\"scale(0.015625)\"/>\n     </defs>\n     <use xlink:href=\"#ArialMT-20\"/>\n     <use x=\"27.783203\" xlink:href=\"#ArialMT-20\"/>\n     <use x=\"55.566406\" xlink:href=\"#ArialMT-46\"/>\n     <use x=\"116.650391\" xlink:href=\"#ArialMT-69\"/>\n     <use x=\"138.867188\" xlink:href=\"#ArialMT-6e\"/>\n     <use x=\"194.482422\" xlink:href=\"#ArialMT-67\"/>\n     <use x=\"250.097656\" xlink:href=\"#ArialMT-65\"/>\n     <use x=\"305.712891\" xlink:href=\"#ArialMT-72\"/>\n     <use x=\"339.013672\" xlink:href=\"#ArialMT-70\"/>\n     <use x=\"394.628906\" xlink:href=\"#ArialMT-72\"/>\n     <use x=\"427.929688\" xlink:href=\"#ArialMT-69\"/>\n     <use x=\"450.146484\" xlink:href=\"#ArialMT-6e\"/>\n     <use x=\"505.761719\" xlink:href=\"#ArialMT-74\"/>\n    </g>\n   </g>\n   <g id=\"text_14\">\n    <!--   Gcid -->\n    <g style=\"fill:#0000ff;\" transform=\"translate(389.662698 217.076046)scale(0.15 -0.15)\">\n     <defs>\n      <path d=\"M 2638 1797 \nL 2638 2334 \nL 4578 2338 \nL 4578 638 \nQ 4131 281 3656 101 \nQ 3181 -78 2681 -78 \nQ 2006 -78 1454 211 \nQ 903 500 622 1047 \nQ 341 1594 341 2269 \nQ 341 2938 620 3517 \nQ 900 4097 1425 4378 \nQ 1950 4659 2634 4659 \nQ 3131 4659 3532 4498 \nQ 3934 4338 4162 4050 \nQ 4391 3763 4509 3300 \nL 3963 3150 \nQ 3859 3500 3706 3700 \nQ 3553 3900 3268 4020 \nQ 2984 4141 2638 4141 \nQ 2222 4141 1919 4014 \nQ 1616 3888 1430 3681 \nQ 1244 3475 1141 3228 \nQ 966 2803 966 2306 \nQ 966 1694 1177 1281 \nQ 1388 869 1791 669 \nQ 2194 469 2647 469 \nQ 3041 469 3416 620 \nQ 3791 772 3984 944 \nL 3984 1797 \nL 2638 1797 \nz\n\" id=\"ArialMT-47\" transform=\"scale(0.015625)\"/>\n     </defs>\n     <use xlink:href=\"#ArialMT-20\"/>\n     <use x=\"27.783203\" xlink:href=\"#ArialMT-20\"/>\n     <use x=\"55.566406\" xlink:href=\"#ArialMT-47\"/>\n     <use x=\"133.349609\" xlink:href=\"#ArialMT-63\"/>\n     <use x=\"183.349609\" xlink:href=\"#ArialMT-69\"/>\n     <use x=\"205.566406\" xlink:href=\"#ArialMT-64\"/>\n    </g>\n   </g>\n   <g id=\"text_15\">\n    <!--   Ifb -->\n    <g style=\"fill:#0000ff;\" transform=\"translate(103.307651 237.537105)scale(0.15 -0.15)\">\n     <defs>\n      <path d=\"M 597 0 \nL 597 4581 \nL 1203 4581 \nL 1203 0 \nL 597 0 \nz\n\" id=\"ArialMT-49\" transform=\"scale(0.015625)\"/>\n      <path d=\"M 556 0 \nL 556 2881 \nL 59 2881 \nL 59 3319 \nL 556 3319 \nL 556 3672 \nQ 556 4006 616 4169 \nQ 697 4388 901 4523 \nQ 1106 4659 1475 4659 \nQ 1713 4659 2000 4603 \nL 1916 4113 \nQ 1741 4144 1584 4144 \nQ 1328 4144 1222 4034 \nQ 1116 3925 1116 3625 \nL 1116 3319 \nL 1763 3319 \nL 1763 2881 \nL 1116 2881 \nL 1116 0 \nL 556 0 \nz\n\" id=\"ArialMT-66\" transform=\"scale(0.015625)\"/>\n      <path d=\"M 941 0 \nL 419 0 \nL 419 4581 \nL 981 4581 \nL 981 2947 \nQ 1338 3394 1891 3394 \nQ 2197 3394 2470 3270 \nQ 2744 3147 2920 2923 \nQ 3097 2700 3197 2384 \nQ 3297 2069 3297 1709 \nQ 3297 856 2875 390 \nQ 2453 -75 1863 -75 \nQ 1275 -75 941 416 \nL 941 0 \nz\nM 934 1684 \nQ 934 1088 1097 822 \nQ 1363 388 1816 388 \nQ 2184 388 2453 708 \nQ 2722 1028 2722 1663 \nQ 2722 2313 2464 2622 \nQ 2206 2931 1841 2931 \nQ 1472 2931 1203 2611 \nQ 934 2291 934 1684 \nz\n\" id=\"ArialMT-62\" transform=\"scale(0.015625)\"/>\n     </defs>\n     <use xlink:href=\"#ArialMT-20\"/>\n     <use x=\"27.783203\" xlink:href=\"#ArialMT-20\"/>\n     <use x=\"55.566406\" xlink:href=\"#ArialMT-49\"/>\n     <use x=\"83.349609\" xlink:href=\"#ArialMT-66\"/>\n     <use x=\"111.132812\" xlink:href=\"#ArialMT-62\"/>\n    </g>\n   </g>\n   <g id=\"text_16\">\n    <!--   Centime -->\n    <g style=\"fill:#0000ff;\" transform=\"translate(174.237502 137.450994)scale(0.15 -0.15)\">\n     <defs>\n      <path d=\"M 3763 1606 \nL 4369 1453 \nQ 4178 706 3683 314 \nQ 3188 -78 2472 -78 \nQ 1731 -78 1267 223 \nQ 803 525 561 1097 \nQ 319 1669 319 2325 \nQ 319 3041 592 3573 \nQ 866 4106 1370 4382 \nQ 1875 4659 2481 4659 \nQ 3169 4659 3637 4309 \nQ 4106 3959 4291 3325 \nL 3694 3184 \nQ 3534 3684 3231 3912 \nQ 2928 4141 2469 4141 \nQ 1941 4141 1586 3887 \nQ 1231 3634 1087 3207 \nQ 944 2781 944 2328 \nQ 944 1744 1114 1308 \nQ 1284 872 1643 656 \nQ 2003 441 2422 441 \nQ 2931 441 3284 734 \nQ 3638 1028 3763 1606 \nz\n\" id=\"ArialMT-43\" transform=\"scale(0.015625)\"/>\n      <path d=\"M 422 0 \nL 422 3319 \nL 925 3319 \nL 925 2853 \nQ 1081 3097 1340 3245 \nQ 1600 3394 1931 3394 \nQ 2300 3394 2536 3241 \nQ 2772 3088 2869 2813 \nQ 3263 3394 3894 3394 \nQ 4388 3394 4653 3120 \nQ 4919 2847 4919 2278 \nL 4919 0 \nL 4359 0 \nL 4359 2091 \nQ 4359 2428 4304 2576 \nQ 4250 2725 4106 2815 \nQ 3963 2906 3769 2906 \nQ 3419 2906 3187 2673 \nQ 2956 2441 2956 1928 \nL 2956 0 \nL 2394 0 \nL 2394 2156 \nQ 2394 2531 2256 2718 \nQ 2119 2906 1806 2906 \nQ 1569 2906 1367 2781 \nQ 1166 2656 1075 2415 \nQ 984 2175 984 1722 \nL 984 0 \nL 422 0 \nz\n\" id=\"ArialMT-6d\" transform=\"scale(0.015625)\"/>\n     </defs>\n     <use xlink:href=\"#ArialMT-20\"/>\n     <use x=\"27.783203\" xlink:href=\"#ArialMT-20\"/>\n     <use x=\"55.566406\" xlink:href=\"#ArialMT-43\"/>\n     <use x=\"127.783203\" xlink:href=\"#ArialMT-65\"/>\n     <use x=\"183.398438\" xlink:href=\"#ArialMT-6e\"/>\n     <use x=\"239.013672\" xlink:href=\"#ArialMT-74\"/>\n     <use x=\"266.796875\" xlink:href=\"#ArialMT-69\"/>\n     <use x=\"289.013672\" xlink:href=\"#ArialMT-6d\"/>\n     <use x=\"372.314453\" xlink:href=\"#ArialMT-65\"/>\n    </g>\n   </g>\n   <g id=\"text_17\">\n    <!--   Biodata -->\n    <g style=\"fill:#0000ff;\" transform=\"translate(400.641841 104.430312)scale(0.15 -0.15)\">\n     <defs>\n      <path d=\"M 469 0 \nL 469 4581 \nL 2188 4581 \nQ 2713 4581 3030 4442 \nQ 3347 4303 3526 4014 \nQ 3706 3725 3706 3409 \nQ 3706 3116 3547 2856 \nQ 3388 2597 3066 2438 \nQ 3481 2316 3704 2022 \nQ 3928 1728 3928 1328 \nQ 3928 1006 3792 729 \nQ 3656 453 3456 303 \nQ 3256 153 2954 76 \nQ 2653 0 2216 0 \nL 469 0 \nz\nM 1075 2656 \nL 2066 2656 \nQ 2469 2656 2644 2709 \nQ 2875 2778 2992 2937 \nQ 3109 3097 3109 3338 \nQ 3109 3566 3000 3739 \nQ 2891 3913 2687 3977 \nQ 2484 4041 1991 4041 \nL 1075 4041 \nL 1075 2656 \nz\nM 1075 541 \nL 2216 541 \nQ 2509 541 2628 563 \nQ 2838 600 2978 687 \nQ 3119 775 3209 942 \nQ 3300 1109 3300 1328 \nQ 3300 1584 3169 1773 \nQ 3038 1963 2805 2039 \nQ 2572 2116 2134 2116 \nL 1075 2116 \nL 1075 541 \nz\n\" id=\"ArialMT-42\" transform=\"scale(0.015625)\"/>\n     </defs>\n     <use xlink:href=\"#ArialMT-20\"/>\n     <use x=\"27.783203\" xlink:href=\"#ArialMT-20\"/>\n     <use x=\"55.566406\" xlink:href=\"#ArialMT-42\"/>\n     <use x=\"122.265625\" xlink:href=\"#ArialMT-69\"/>\n     <use x=\"144.482422\" xlink:href=\"#ArialMT-6f\"/>\n     <use x=\"200.097656\" xlink:href=\"#ArialMT-64\"/>\n     <use x=\"255.712891\" xlink:href=\"#ArialMT-61\"/>\n     <use x=\"311.328125\" xlink:href=\"#ArialMT-74\"/>\n     <use x=\"339.111328\" xlink:href=\"#ArialMT-61\"/>\n    </g>\n   </g>\n   <g id=\"text_18\">\n    <!--   Spreadsheet -->\n    <g style=\"fill:#0000ff;\" transform=\"translate(251.628599 349.537819)scale(0.15 -0.15)\">\n     <defs>\n      <path d=\"M 288 1472 \nL 859 1522 \nQ 900 1178 1048 958 \nQ 1197 738 1509 602 \nQ 1822 466 2213 466 \nQ 2559 466 2825 569 \nQ 3091 672 3220 851 \nQ 3350 1031 3350 1244 \nQ 3350 1459 3225 1620 \nQ 3100 1781 2813 1891 \nQ 2628 1963 1997 2114 \nQ 1366 2266 1113 2400 \nQ 784 2572 623 2826 \nQ 463 3081 463 3397 \nQ 463 3744 659 4045 \nQ 856 4347 1234 4503 \nQ 1613 4659 2075 4659 \nQ 2584 4659 2973 4495 \nQ 3363 4331 3572 4012 \nQ 3781 3694 3797 3291 \nL 3216 3247 \nQ 3169 3681 2898 3903 \nQ 2628 4125 2100 4125 \nQ 1550 4125 1298 3923 \nQ 1047 3722 1047 3438 \nQ 1047 3191 1225 3031 \nQ 1400 2872 2139 2705 \nQ 2878 2538 3153 2413 \nQ 3553 2228 3743 1945 \nQ 3934 1663 3934 1294 \nQ 3934 928 3725 604 \nQ 3516 281 3123 101 \nQ 2731 -78 2241 -78 \nQ 1619 -78 1198 103 \nQ 778 284 539 648 \nQ 300 1013 288 1472 \nz\n\" id=\"ArialMT-53\" transform=\"scale(0.015625)\"/>\n      <path d=\"M 197 991 \nL 753 1078 \nQ 800 744 1014 566 \nQ 1228 388 1613 388 \nQ 2000 388 2187 545 \nQ 2375 703 2375 916 \nQ 2375 1106 2209 1216 \nQ 2094 1291 1634 1406 \nQ 1016 1563 777 1677 \nQ 538 1791 414 1992 \nQ 291 2194 291 2438 \nQ 291 2659 392 2848 \nQ 494 3038 669 3163 \nQ 800 3259 1026 3326 \nQ 1253 3394 1513 3394 \nQ 1903 3394 2198 3281 \nQ 2494 3169 2634 2976 \nQ 2775 2784 2828 2463 \nL 2278 2388 \nQ 2241 2644 2061 2787 \nQ 1881 2931 1553 2931 \nQ 1166 2931 1000 2803 \nQ 834 2675 834 2503 \nQ 834 2394 903 2306 \nQ 972 2216 1119 2156 \nQ 1203 2125 1616 2013 \nQ 2213 1853 2448 1751 \nQ 2684 1650 2818 1456 \nQ 2953 1263 2953 975 \nQ 2953 694 2789 445 \nQ 2625 197 2315 61 \nQ 2006 -75 1616 -75 \nQ 969 -75 630 194 \nQ 291 463 197 991 \nz\n\" id=\"ArialMT-73\" transform=\"scale(0.015625)\"/>\n      <path d=\"M 422 0 \nL 422 4581 \nL 984 4581 \nL 984 2938 \nQ 1378 3394 1978 3394 \nQ 2347 3394 2619 3248 \nQ 2891 3103 3008 2847 \nQ 3125 2591 3125 2103 \nL 3125 0 \nL 2563 0 \nL 2563 2103 \nQ 2563 2525 2380 2717 \nQ 2197 2909 1863 2909 \nQ 1613 2909 1392 2779 \nQ 1172 2650 1078 2428 \nQ 984 2206 984 1816 \nL 984 0 \nL 422 0 \nz\n\" id=\"ArialMT-68\" transform=\"scale(0.015625)\"/>\n     </defs>\n     <use xlink:href=\"#ArialMT-20\"/>\n     <use x=\"27.783203\" xlink:href=\"#ArialMT-20\"/>\n     <use x=\"55.566406\" xlink:href=\"#ArialMT-53\"/>\n     <use x=\"122.265625\" xlink:href=\"#ArialMT-70\"/>\n     <use x=\"177.880859\" xlink:href=\"#ArialMT-72\"/>\n     <use x=\"211.181641\" xlink:href=\"#ArialMT-65\"/>\n     <use x=\"266.796875\" xlink:href=\"#ArialMT-61\"/>\n     <use x=\"322.412109\" xlink:href=\"#ArialMT-64\"/>\n     <use x=\"378.027344\" xlink:href=\"#ArialMT-73\"/>\n     <use x=\"428.027344\" xlink:href=\"#ArialMT-68\"/>\n     <use x=\"483.642578\" xlink:href=\"#ArialMT-65\"/>\n     <use x=\"539.257812\" xlink:href=\"#ArialMT-65\"/>\n     <use x=\"594.873047\" xlink:href=\"#ArialMT-74\"/>\n    </g>\n   </g>\n   <g id=\"text_19\">\n    <!--   Dvr -->\n    <g style=\"fill:#0000ff;\" transform=\"translate(290.991582 183.163792)scale(0.15 -0.15)\">\n     <defs>\n      <path d=\"M 494 0 \nL 494 4581 \nL 2072 4581 \nQ 2606 4581 2888 4516 \nQ 3281 4425 3559 4188 \nQ 3922 3881 4101 3404 \nQ 4281 2928 4281 2316 \nQ 4281 1794 4159 1391 \nQ 4038 988 3847 723 \nQ 3656 459 3429 307 \nQ 3203 156 2883 78 \nQ 2563 0 2147 0 \nL 494 0 \nz\nM 1100 541 \nL 2078 541 \nQ 2531 541 2789 625 \nQ 3047 709 3200 863 \nQ 3416 1078 3536 1442 \nQ 3656 1806 3656 2325 \nQ 3656 3044 3420 3430 \nQ 3184 3816 2847 3947 \nQ 2603 4041 2063 4041 \nL 1100 4041 \nL 1100 541 \nz\n\" id=\"ArialMT-44\" transform=\"scale(0.015625)\"/>\n      <path d=\"M 1344 0 \nL 81 3319 \nL 675 3319 \nL 1388 1331 \nQ 1503 1009 1600 663 \nQ 1675 925 1809 1294 \nL 2547 3319 \nL 3125 3319 \nL 1869 0 \nL 1344 0 \nz\n\" id=\"ArialMT-76\" transform=\"scale(0.015625)\"/>\n     </defs>\n     <use xlink:href=\"#ArialMT-20\"/>\n     <use x=\"27.783203\" xlink:href=\"#ArialMT-20\"/>\n     <use x=\"55.566406\" xlink:href=\"#ArialMT-44\"/>\n     <use x=\"127.783203\" xlink:href=\"#ArialMT-76\"/>\n     <use x=\"177.783203\" xlink:href=\"#ArialMT-72\"/>\n    </g>\n   </g>\n   <g id=\"text_20\">\n    <!--   Datum -->\n    <g style=\"fill:#0000ff;\" transform=\"translate(455.725985 331.878123)scale(0.15 -0.15)\">\n     <use xlink:href=\"#ArialMT-20\"/>\n     <use x=\"27.783203\" xlink:href=\"#ArialMT-20\"/>\n     <use x=\"55.566406\" xlink:href=\"#ArialMT-44\"/>\n     <use x=\"127.783203\" xlink:href=\"#ArialMT-61\"/>\n     <use x=\"183.398438\" xlink:href=\"#ArialMT-74\"/>\n     <use x=\"211.181641\" xlink:href=\"#ArialMT-75\"/>\n     <use x=\"266.796875\" xlink:href=\"#ArialMT-6d\"/>\n    </g>\n   </g>\n   <g id=\"text_21\">\n    <!--   Verification -->\n    <g style=\"fill:#0000ff;\" transform=\"translate(366.394825 417.07101)scale(0.15 -0.15)\">\n     <defs>\n      <path d=\"M 1803 0 \nL 28 4581 \nL 684 4581 \nL 1875 1253 \nQ 2019 853 2116 503 \nQ 2222 878 2363 1253 \nL 3600 4581 \nL 4219 4581 \nL 2425 0 \nL 1803 0 \nz\n\" id=\"ArialMT-56\" transform=\"scale(0.015625)\"/>\n     </defs>\n     <use xlink:href=\"#ArialMT-20\"/>\n     <use x=\"27.783203\" xlink:href=\"#ArialMT-20\"/>\n     <use x=\"55.566406\" xlink:href=\"#ArialMT-56\"/>\n     <use x=\"116.765625\" xlink:href=\"#ArialMT-65\"/>\n     <use x=\"172.380859\" xlink:href=\"#ArialMT-72\"/>\n     <use x=\"205.681641\" xlink:href=\"#ArialMT-69\"/>\n     <use x=\"227.898438\" xlink:href=\"#ArialMT-66\"/>\n     <use x=\"255.681641\" xlink:href=\"#ArialMT-69\"/>\n     <use x=\"277.898438\" xlink:href=\"#ArialMT-63\"/>\n     <use x=\"327.898438\" xlink:href=\"#ArialMT-61\"/>\n     <use x=\"383.513672\" xlink:href=\"#ArialMT-74\"/>\n     <use x=\"411.296875\" xlink:href=\"#ArialMT-69\"/>\n     <use x=\"433.513672\" xlink:href=\"#ArialMT-6f\"/>\n     <use x=\"489.128906\" xlink:href=\"#ArialMT-6e\"/>\n    </g>\n   </g>\n   <g id=\"text_22\">\n    <!--   Database -->\n    <g style=\"fill:#0000ff;\" transform=\"translate(217.579168 252.816789)scale(0.15 -0.15)\">\n     <use xlink:href=\"#ArialMT-20\"/>\n     <use x=\"27.783203\" xlink:href=\"#ArialMT-20\"/>\n     <use x=\"55.566406\" xlink:href=\"#ArialMT-44\"/>\n     <use x=\"127.783203\" xlink:href=\"#ArialMT-61\"/>\n     <use x=\"183.398438\" xlink:href=\"#ArialMT-74\"/>\n     <use x=\"211.181641\" xlink:href=\"#ArialMT-61\"/>\n     <use x=\"266.796875\" xlink:href=\"#ArialMT-62\"/>\n     <use x=\"322.412109\" xlink:href=\"#ArialMT-61\"/>\n     <use x=\"378.027344\" xlink:href=\"#ArialMT-73\"/>\n     <use x=\"428.027344\" xlink:href=\"#ArialMT-65\"/>\n    </g>\n   </g>\n   <g id=\"text_23\">\n    <!--   Dog -->\n    <g style=\"fill:#008000;\" transform=\"translate(135.790432 357.650497)scale(0.15 -0.15)\">\n     <use xlink:href=\"#ArialMT-20\"/>\n     <use x=\"27.783203\" xlink:href=\"#ArialMT-20\"/>\n     <use x=\"55.566406\" xlink:href=\"#ArialMT-44\"/>\n     <use x=\"127.783203\" xlink:href=\"#ArialMT-6f\"/>\n     <use x=\"183.398438\" xlink:href=\"#ArialMT-67\"/>\n    </g>\n   </g>\n   <g id=\"text_24\">\n    <!--   Car -->\n    <g style=\"fill:#008000;\" transform=\"translate(278.360938 71.056307)scale(0.15 -0.15)\">\n     <use xlink:href=\"#ArialMT-20\"/>\n     <use x=\"27.783203\" xlink:href=\"#ArialMT-20\"/>\n     <use x=\"55.566406\" xlink:href=\"#ArialMT-43\"/>\n     <use x=\"127.783203\" xlink:href=\"#ArialMT-61\"/>\n     <use x=\"183.398438\" xlink:href=\"#ArialMT-72\"/>\n    </g>\n   </g>\n   <g id=\"text_25\">\n    <!--   Plane -->\n    <g style=\"fill:#008000;\" transform=\"translate(498.629849 209.329607)scale(0.15 -0.15)\">\n     <defs>\n      <path d=\"M 494 0 \nL 494 4581 \nL 2222 4581 \nQ 2678 4581 2919 4538 \nQ 3256 4481 3484 4323 \nQ 3713 4166 3852 3881 \nQ 3991 3597 3991 3256 \nQ 3991 2672 3619 2267 \nQ 3247 1863 2275 1863 \nL 1100 1863 \nL 1100 0 \nL 494 0 \nz\nM 1100 2403 \nL 2284 2403 \nQ 2872 2403 3119 2622 \nQ 3366 2841 3366 3238 \nQ 3366 3525 3220 3729 \nQ 3075 3934 2838 4000 \nQ 2684 4041 2272 4041 \nL 1100 4041 \nL 1100 2403 \nz\n\" id=\"ArialMT-50\" transform=\"scale(0.015625)\"/>\n      <path d=\"M 409 0 \nL 409 4581 \nL 972 4581 \nL 972 0 \nL 409 0 \nz\n\" id=\"ArialMT-6c\" transform=\"scale(0.015625)\"/>\n     </defs>\n     <use xlink:href=\"#ArialMT-20\"/>\n     <use x=\"27.783203\" xlink:href=\"#ArialMT-20\"/>\n     <use x=\"55.566406\" xlink:href=\"#ArialMT-50\"/>\n     <use x=\"122.265625\" xlink:href=\"#ArialMT-6c\"/>\n     <use x=\"144.482422\" xlink:href=\"#ArialMT-61\"/>\n     <use x=\"200.097656\" xlink:href=\"#ArialMT-6e\"/>\n     <use x=\"255.712891\" xlink:href=\"#ArialMT-65\"/>\n    </g>\n   </g>\n   <g id=\"text_26\">\n    <!-- t-SNE visualization for Eurodac -->\n    <g style=\"fill:#262626;\" transform=\"translate(217.93625 15.789375)scale(0.12 -0.12)\">\n     <defs>\n      <path d=\"M 203 1375 \nL 203 1941 \nL 1931 1941 \nL 1931 1375 \nL 203 1375 \nz\n\" id=\"ArialMT-2d\" transform=\"scale(0.015625)\"/>\n      <path d=\"M 488 0 \nL 488 4581 \nL 1109 4581 \nL 3516 984 \nL 3516 4581 \nL 4097 4581 \nL 4097 0 \nL 3475 0 \nL 1069 3600 \nL 1069 0 \nL 488 0 \nz\n\" id=\"ArialMT-4e\" transform=\"scale(0.015625)\"/>\n      <path d=\"M 125 0 \nL 125 456 \nL 2238 2881 \nQ 1878 2863 1603 2863 \nL 250 2863 \nL 250 3319 \nL 2963 3319 \nL 2963 2947 \nL 1166 841 \nL 819 456 \nQ 1197 484 1528 484 \nL 3063 484 \nL 3063 0 \nL 125 0 \nz\n\" id=\"ArialMT-7a\" transform=\"scale(0.015625)\"/>\n     </defs>\n     <use xlink:href=\"#ArialMT-74\"/>\n     <use x=\"27.783203\" xlink:href=\"#ArialMT-2d\"/>\n     <use x=\"61.083984\" xlink:href=\"#ArialMT-53\"/>\n     <use x=\"127.783203\" xlink:href=\"#ArialMT-4e\"/>\n     <use x=\"200\" xlink:href=\"#ArialMT-45\"/>\n     <use x=\"266.699219\" xlink:href=\"#ArialMT-20\"/>\n     <use x=\"294.482422\" xlink:href=\"#ArialMT-76\"/>\n     <use x=\"344.482422\" xlink:href=\"#ArialMT-69\"/>\n     <use x=\"366.699219\" xlink:href=\"#ArialMT-73\"/>\n     <use x=\"416.699219\" xlink:href=\"#ArialMT-75\"/>\n     <use x=\"472.314453\" xlink:href=\"#ArialMT-61\"/>\n     <use x=\"527.929688\" xlink:href=\"#ArialMT-6c\"/>\n     <use x=\"550.146484\" xlink:href=\"#ArialMT-69\"/>\n     <use x=\"572.363281\" xlink:href=\"#ArialMT-7a\"/>\n     <use x=\"622.363281\" xlink:href=\"#ArialMT-61\"/>\n     <use x=\"677.978516\" xlink:href=\"#ArialMT-74\"/>\n     <use x=\"705.761719\" xlink:href=\"#ArialMT-69\"/>\n     <use x=\"727.978516\" xlink:href=\"#ArialMT-6f\"/>\n     <use x=\"783.59375\" xlink:href=\"#ArialMT-6e\"/>\n     <use x=\"839.208984\" xlink:href=\"#ArialMT-20\"/>\n     <use x=\"866.992188\" xlink:href=\"#ArialMT-66\"/>\n     <use x=\"894.775391\" xlink:href=\"#ArialMT-6f\"/>\n     <use x=\"950.390625\" xlink:href=\"#ArialMT-72\"/>\n     <use x=\"983.691406\" xlink:href=\"#ArialMT-20\"/>\n     <use x=\"1011.474609\" xlink:href=\"#ArialMT-45\"/>\n     <use x=\"1078.173828\" xlink:href=\"#ArialMT-75\"/>\n     <use x=\"1133.789062\" xlink:href=\"#ArialMT-72\"/>\n     <use x=\"1167.089844\" xlink:href=\"#ArialMT-6f\"/>\n     <use x=\"1222.705078\" xlink:href=\"#ArialMT-64\"/>\n     <use x=\"1278.320312\" xlink:href=\"#ArialMT-61\"/>\n     <use x=\"1333.935547\" xlink:href=\"#ArialMT-63\"/>\n    </g>\n   </g>\n  </g>\n </g>\n <defs>\n  <clipPath id=\"p2f52b35c8f\">\n   <rect height=\"489.24\" width=\"502.2\" x=\"49.86875\" y=\"21.789375\"/>\n  </clipPath>\n </defs>\n</svg>\n",
      "text/plain": [
       "<Figure size 648x648 with 1 Axes>"
      ]
     },
     "metadata": {
      "needs_background": "light"
     },
     "output_type": "display_data"
    }
   ],
   "source": [
    "# Visualze the 10 most similar words to asylum and 3 random words\n",
    "tsnescatterplot(model, 'eurodac', ['dog', 'car', 'plane'])"
   ]
  },
  {
   "cell_type": "code",
   "execution_count": 17,
   "metadata": {},
   "outputs": [
    {
     "data": {
      "text/plain": [
       "0.20389451"
      ]
     },
     "execution_count": 17,
     "metadata": {},
     "output_type": "execute_result"
    }
   ],
   "source": [
    "model.wv.similarity('refugee', 'immigrant')"
   ]
  },
  {
   "cell_type": "code",
   "execution_count": 18,
   "metadata": {},
   "outputs": [
    {
     "data": {
      "text/plain": [
       "[('humanitarian', 0.4022519588470459),\n",
       " ('protection', 0.3844420611858368),\n",
       " ('subsidiary', 0.33439725637435913)]"
      ]
     },
     "execution_count": 18,
     "metadata": {},
     "output_type": "execute_result"
    }
   ],
   "source": [
    "model.wv.most_similar(positive=[\"refugee\", \"economic\"], negative=[\"immigrant\"], topn=3)"
   ]
  },
  {
   "cell_type": "markdown",
   "metadata": {},
   "source": [
    "Testing the model"
   ]
  },
  {
   "cell_type": "code",
   "execution_count": null,
   "metadata": {},
   "outputs": [
    {
     "data": {
      "text/plain": [
       "[('humanitarian', 0.6284059286117554),\n",
       " ('protection', 0.6199313402175903),\n",
       " ('human', 0.5771173238754272),\n",
       " ('immigration', 0.5346864461898804),\n",
       " ('echr', 0.48797693848609924),\n",
       " ('convention', 0.48421889543533325),\n",
       " ('chamber', 0.47878721356391907),\n",
       " ('vary', 0.4569811522960663),\n",
       " ('refugee', 0.4556272625923157),\n",
       " ('international', 0.44934290647506714)]"
      ]
     },
     "metadata": {},
     "output_type": "display_data"
    }
   ],
   "source": [
    "# Simiar words to 'asylum'\n",
    "model.wv.most_similar(positive=['asylum'])"
   ]
  },
  {
   "cell_type": "code",
   "execution_count": 12,
   "metadata": {},
   "outputs": [
    {
     "data": {
      "text/plain": [
       "[('fingerprint', 0.5056466460227966),\n",
       " ('gcid', 0.37874412536621094),\n",
       " ('ifb', 0.37191933393478394),\n",
       " ('centime', 0.3718107342720032),\n",
       " ('biodata', 0.3653264045715332),\n",
       " ('spreadsheet', 0.35866236686706543),\n",
       " ('dvr', 0.3461669981479645),\n",
       " ('datum', 0.3431914448738098),\n",
       " ('verification', 0.3407800495624542),\n",
       " ('database', 0.33891963958740234)]"
      ]
     },
     "execution_count": 12,
     "metadata": {},
     "output_type": "execute_result"
    }
   ],
   "source": [
    "# Simiar words to 'eurodac'\n",
    "model.wv.most_similar(positive=['eurodac'])\n"
   ]
  },
  {
   "cell_type": "markdown",
   "metadata": {},
   "source": [
    "# 3 Implementation of Word2Vec model on judgements"
   ]
  },
  {
   "cell_type": "markdown",
   "metadata": {},
   "source": [
    "This section trains a Word2Vec model using only the text in the judgement fragment of the judicial decision.\n",
    "\n",
    "The model trained is saved as './output/gensim-model-corpus_judgements'"
   ]
  },
  {
   "cell_type": "code",
   "execution_count": 51,
   "metadata": {},
   "outputs": [],
   "source": [
    "# Open jsonData file as data\n",
    "with open('./data/jsonDataFinal.json') as json_file:\n",
    "    data = json.load(json_file)\n",
    "\n",
    "# Create dataframe\n",
    "df = pd.DataFrame(data)\n",
    "\n",
    "# Select the needed columns\n",
    "df = df[['Decision:', 'Decision label:']]\n"
   ]
  },
  {
   "cell_type": "code",
   "execution_count": 52,
   "metadata": {},
   "outputs": [
    {
     "data": {
      "text/plain": [
       "Decision:          5220\n",
       "Decision label:    5220\n",
       "dtype: int64"
      ]
     },
     "execution_count": 52,
     "metadata": {},
     "output_type": "execute_result"
    }
   ],
   "source": [
    "df.isnull().sum()"
   ]
  },
  {
   "cell_type": "code",
   "execution_count": 53,
   "metadata": {},
   "outputs": [
    {
     "data": {
      "text/plain": [
       "Decision:          0\n",
       "Decision label:    0\n",
       "dtype: int64"
      ]
     },
     "execution_count": 53,
     "metadata": {},
     "output_type": "execute_result"
    }
   ],
   "source": [
    "# Removing the missing value\n",
    "df = df.dropna().reset_index(drop = True)\n",
    "df.isnull().sum()"
   ]
  },
  {
   "cell_type": "code",
   "execution_count": 54,
   "metadata": {},
   "outputs": [
    {
     "data": {
      "text/plain": [
       "<bound method NDFrame.head of                                                Decision: Decision label:\n",
       "0      [notice, of, decision, directions, the, decisi...        Accepted\n",
       "1      [in, light, of, my, conclusions, on, that, poi...        Rejected\n",
       "2      [notice, of, decision, the, decision, of, the,...        Rejected\n",
       "3      [notice, of, decision, the, decision, of, the,...        Accepted\n",
       "4      [decision, the, decision, of, tribunal, judge,...        Accepted\n",
       "...                                                  ...             ...\n",
       "30080  [for, the, reasons, we, have, given, in, parag...        Accepted\n",
       "30081  [conclusions, a, northern, cyprus, is, not, ca...        Accepted\n",
       "30082  [for, the, reasons, we, have, given, we, dismi...        Rejected\n",
       "30083  [our, conclusions, on, the, general, issues, r...        Rejected\n",
       "30084  [conclusions, for, each, of, the, main, reason...        Accepted\n",
       "\n",
       "[30085 rows x 2 columns]>"
      ]
     },
     "execution_count": 54,
     "metadata": {},
     "output_type": "execute_result"
    }
   ],
   "source": [
    "# Dataframe used\n",
    "df.head"
   ]
  },
  {
   "cell_type": "markdown",
   "metadata": {},
   "source": [
    "Cleaning the data by lemmatizing and removing the stopwords and non-alphabetic characters for each line."
   ]
  },
  {
   "cell_type": "code",
   "execution_count": 55,
   "metadata": {},
   "outputs": [
    {
     "data": {
      "text/plain": [
       "(23528, 1)"
      ]
     },
     "execution_count": 55,
     "metadata": {},
     "output_type": "execute_result"
    }
   ],
   "source": [
    "# disabling Named Entity Recognition for speed\n",
    "nlp = spacy.load('en_core_web_sm', disable=['parser', 'ner'])\n",
    "\n",
    "# Remove non-alphabetic characters\n",
    "brief_cleaning = (re.sub(\"[^A-Za-z']+\", ' ', str(row)).lower() for row in df['Decision:'])\n",
    "\n",
    "# spacy .pipe() attribute to speed-up the cleaning process\n",
    "txt = [cleaning(doc) for doc in nlp.pipe(brief_cleaning, batch_size = 5000)]\n",
    "\n",
    "# Results in a dataFrame to remove missing values and duplicates\n",
    "df_clean = pd.DataFrame({'clean': txt})\n",
    "df_clean = df_clean.dropna().drop_duplicates()\n",
    "df_clean.shape\n"
   ]
  },
  {
   "cell_type": "markdown",
   "metadata": {},
   "source": [
    "Find bigrams. Using Gensim Phrases package to automatically detect common phrases (bigrams) from a list of sentences. See https://radimrehurek.com/gensim/models/phrases.html"
   ]
  },
  {
   "cell_type": "code",
   "execution_count": 56,
   "metadata": {},
   "outputs": [],
   "source": [
    "# Phrases() takes a list of list of words as input\n",
    "sent = [row.split() for row in df_clean['clean']]\n",
    "\n",
    "# Create the relevant phrases from the list of sentences\n",
    "phrases = Phrases(sent, min_count = 30, progress_per = 10000)\n",
    "\n",
    "# The goal of Phraser() is to cut down memory consumption of Phrases(), by discarding model state not strictly needed for the bigram detection task\n",
    "bigram = Phraser(phrases)\n",
    "\n",
    "# Transform the corpus based on the bigrams detected\n",
    "sentences = bigram[sent]"
   ]
  },
  {
   "cell_type": "markdown",
   "metadata": {},
   "source": [
    "Most frequent words"
   ]
  },
  {
   "cell_type": "code",
   "execution_count": 57,
   "metadata": {},
   "outputs": [
    {
     "name": "stdout",
     "output_type": "stream",
     "text": [
      "Word frequency: 8436\n",
      "Most common words: [\"'\", 'decision', 'tribunal', 'appeal', 'judge', 'law', 'set', 'error', 'appellant', 'aside', 'rule', 'upper', 'dismiss', 'make', 'notice', 'allow', 'anonymity', 'direction', 'remit', 'hear']\n"
     ]
    }
   ],
   "source": [
    "# Check of the effectiveness of the lemmatization, removal of stopwords, and addition of bigrams\n",
    "word_freq = defaultdict(int)\n",
    "for sent in sentences:\n",
    "    for i in sent:\n",
    "        word_freq[i] += 1\n",
    "\n",
    "print(f'Word frequency: {len(word_freq)}')\n",
    "\n",
    "print(f'Most common words: {sorted(word_freq, key = word_freq.get, reverse = True)[:20]}')"
   ]
  },
  {
   "cell_type": "markdown",
   "metadata": {},
   "source": [
    "Training of the Word2Vec model"
   ]
  },
  {
   "cell_type": "code",
   "execution_count": 58,
   "metadata": {},
   "outputs": [
    {
     "name": "stderr",
     "output_type": "stream",
     "text": [
      "/var/folders/_7/fl0v9rpx6zg6s4j03vcw0fc40000gn/T/ipykernel_59003/81840110.py:21: DeprecationWarning: Call to deprecated `init_sims` (Gensim 4.0.0 implemented internal optimizations that make calls to init_sims() unnecessary. init_sims() is now obsoleted and will be completely removed in future versions. See https://github.com/RaRe-Technologies/gensim/wiki/Migrating-from-Gensim-3.x-to-4).\n",
      "  w2v_model_judgements.init_sims(replace = True)\n",
      "/Users/albertamurgopacheco/anaconda3/envs/tfm/lib/python3.8/site-packages/gensim/models/word2vec.py:909: DeprecationWarning: Call to deprecated `init_sims` (Use fill_norms() instead. See https://github.com/RaRe-Technologies/gensim/wiki/Migrating-from-Gensim-3.x-to-4).\n",
      "  self.wv.init_sims(replace=replace)\n"
     ]
    }
   ],
   "source": [
    "# Number of available cores\n",
    "cores = multiprocessing.cpu_count()\n",
    "\n",
    "# Set up the parameters of the model one-by-one. The model uninitialized\n",
    "w2v_model_judgements = Word2Vec(min_count = 20,\n",
    "                     window = 3,\n",
    "                     vector_size = 300,\n",
    "                     sample = 1e-5, \n",
    "                     alpha = 0.03, \n",
    "                     min_alpha = 0.0007, \n",
    "                     negative = 20,\n",
    "                     workers = cores-1)\n",
    "\n",
    "# Builds the vocabulary from a sequence of sentences. The model is initialized\n",
    "w2v_model_judgements.build_vocab(sentences, progress_per = 10000)\n",
    "\n",
    "# Training the model\n",
    "w2v_model_judgements.train(sentences, total_examples = w2v_model.corpus_count, epochs = 30, report_delay = 1)\n",
    "\n",
    "# Not plan to train the model any further. Calling init_sims(), which will make the model much more memory-efficient\n",
    "w2v_model_judgements.init_sims(replace = True)\n",
    "\n",
    "# Saving the model for later use\n",
    "w2v_model_judgements.save('./output/gensim-model-corpus_judgements')\n"
   ]
  },
  {
   "cell_type": "markdown",
   "metadata": {},
   "source": [
    "Visualization"
   ]
  },
  {
   "cell_type": "code",
   "execution_count": 35,
   "metadata": {},
   "outputs": [],
   "source": [
    "def tsnescatterplot(model, word, list_names):\n",
    "    \"\"\" Plot in seaborn the results from the t-SNE dimensionality reduction algorithm of the vectors of a query word,\n",
    "    its list of most similar words, and a list of words.\n",
    "    \"\"\"\n",
    "    arrays = np.empty((0, 300), dtype='f')\n",
    "    word_labels = [word]\n",
    "    color_list  = ['red']\n",
    "\n",
    "    # adds the vector of the query word\n",
    "    arrays = np.append(arrays, model.wv.__getitem__([word]), axis=0)\n",
    "    \n",
    "    # gets list of most similar words\n",
    "    close_words = model.wv.most_similar([word])\n",
    "    \n",
    "    # adds the vector for each of the closest words to the array\n",
    "    for wrd_score in close_words:\n",
    "        wrd_vector = model.wv.__getitem__([wrd_score[0]])\n",
    "        word_labels.append(wrd_score[0])\n",
    "        color_list.append('blue')\n",
    "        arrays = np.append(arrays, wrd_vector, axis=0)\n",
    "    \n",
    "    # adds the vector for each of the words from list_names to the array\n",
    "    for wrd in list_names:\n",
    "        wrd_vector = model.wv.__getitem__([wrd])\n",
    "        word_labels.append(wrd)\n",
    "        color_list.append('green')\n",
    "        arrays = np.append(arrays, wrd_vector, axis=0)\n",
    "        \n",
    "    # Reduces the dimensionality from 300 to 50 dimensions with PCA\n",
    "    reduc = PCA(n_components = 13).fit_transform(arrays)\n",
    "    \n",
    "    # Finds t-SNE coordinates for 2 dimensions\n",
    "    np.set_printoptions(suppress = True)\n",
    "    \n",
    "    Y = TSNE(n_components = 2, random_state = 0, perplexity = 15).fit_transform(reduc)\n",
    "    \n",
    "    # Sets everything up to plot\n",
    "    df = pd.DataFrame({'x': [x for x in Y[:, 0]],\n",
    "                       'y': [y for y in Y[:, 1]],\n",
    "                       'words': word_labels,\n",
    "                       'color': color_list})\n",
    "    \n",
    "    fig, _ = plt.subplots()\n",
    "    fig.set_size_inches(9, 9)\n",
    "    \n",
    "    # Basic plot\n",
    "    p1 = sns.regplot(data=df,\n",
    "                     x=\"x\",\n",
    "                     y=\"y\",\n",
    "                     fit_reg=False,\n",
    "                     marker=\"o\",\n",
    "                     scatter_kws={'s': 40,\n",
    "                                  'facecolors': df['color']\n",
    "                                 }\n",
    "                    )\n",
    "    \n",
    "    # Adds annotations one by one with a loop\n",
    "    for line in range(0, df.shape[0]):\n",
    "         p1.text(df[\"x\"][line],\n",
    "                 df['y'][line],\n",
    "                 '  ' + df[\"words\"][line].title(),\n",
    "                 horizontalalignment='left',\n",
    "                 verticalalignment='bottom', size='medium',\n",
    "                 color=df['color'][line],\n",
    "                 weight='normal'\n",
    "                ).set_size(15)\n",
    "\n",
    "    \n",
    "    plt.xlim(Y[:, 0].min()-50, Y[:, 0].max()+50)\n",
    "    plt.ylim(Y[:, 1].min()-50, Y[:, 1].max()+50)\n",
    "            \n",
    "    plt.title('t-SNE visualization for {}'.format(word.title()))"
   ]
  },
  {
   "cell_type": "code",
   "execution_count": 64,
   "metadata": {},
   "outputs": [
    {
     "name": "stderr",
     "output_type": "stream",
     "text": [
      "/Users/albertamurgopacheco/anaconda3/envs/tfm/lib/python3.8/site-packages/sklearn/manifold/_t_sne.py:780: FutureWarning: The default initialization in TSNE will change from 'random' to 'pca' in 1.2.\n",
      "  warnings.warn(\n",
      "/Users/albertamurgopacheco/anaconda3/envs/tfm/lib/python3.8/site-packages/sklearn/manifold/_t_sne.py:790: FutureWarning: The default learning rate in TSNE will change from 200.0 to 'auto' in 1.2.\n",
      "  warnings.warn(\n"
     ]
    },
    {
     "data": {
      "image/png": "[encoded data removed]",
      "text/plain": [
       "<Figure size 648x648 with 1 Axes>"
      ]
     },
     "metadata": {},
     "output_type": "display_data"
    }
   ],
   "source": [
    "# Load model trained with judgements\n",
    "model_judgements = Word2Vec.load('./output/gensim-model-corpus_judgements')\n",
    "\n",
    "# Visualze the 10 most similar words to asylum and 3 random words\n",
    "tsnescatterplot(model_judgements, 'asylum', ['uk', 'tribunal', 'woman'])\n"
   ]
  },
  {
   "cell_type": "markdown",
   "metadata": {},
   "source": [
    "Testing the model"
   ]
  },
  {
   "cell_type": "code",
   "execution_count": 63,
   "metadata": {},
   "outputs": [
    {
     "data": {
      "text/plain": [
       "[('humanitarian', 0.6284059286117554),\n",
       " ('protection', 0.6199313402175903),\n",
       " ('human', 0.5771173238754272),\n",
       " ('immigration', 0.5346864461898804),\n",
       " ('echr', 0.48797693848609924),\n",
       " ('convention', 0.48421889543533325),\n",
       " ('chamber', 0.47878721356391907),\n",
       " ('vary', 0.4569811522960663),\n",
       " ('refugee', 0.4556272625923157),\n",
       " ('international', 0.44934290647506714)]"
      ]
     },
     "execution_count": 63,
     "metadata": {},
     "output_type": "execute_result"
    }
   ],
   "source": [
    "model_judgements.wv.most_similar(positive=['asylum'])\n"
   ]
  },
  {
   "cell_type": "markdown",
   "metadata": {},
   "source": [
    "# 4. Topic model with Latent Dirichlet Allocation (LDA) and Latent Semantic Indexing (LSI)"
   ]
  },
  {
   "cell_type": "markdown",
   "metadata": {},
   "source": [
    "The objective of topic models is to extract the underlying topics from a collection of text documents. Each document in the text is considered as a combination of topics and each topic is considered as a combination of related words.\n",
    "\n",
    "Topic modeling can be done by algorithms like Latent Dirichlet Allocation (LDA) and Latent Semantic Indexing (LSI)."
   ]
  },
  {
   "cell_type": "markdown",
   "metadata": {},
   "source": [
    "## 4.1. Latent Dirichlet Allocation (LDA)\n",
    "Each document can be described by a distribution of topics and each topic can be described by a distribution of words. https://towardsdatascience.com/light-on-math-machine-learning-intuitive-guide-to-latent-dirichlet-allocation-437c81220158"
   ]
  },
  {
   "cell_type": "code",
   "execution_count": null,
   "metadata": {},
   "outputs": [],
   "source": [
    "# Starting from corpus_clean\n",
    "\n",
    "# Build the bigram and trigram models\n",
    "bigram = gensim.models.Phrases(corpus_clean, min_count=5, threshold=100) # higher threshold fewer phrases.\n",
    "trigram = gensim.models.Phrases(bigram[corpus_clean], threshold=100)  \n",
    "\n",
    "# Faster way to get a sentence clubbed as a trigram/bigram\n",
    "bigram_mod = gensim.models.phrases.Phraser(bigram)\n",
    "trigram_mod = gensim.models.phrases.Phraser(trigram)\n",
    "\n"
   ]
  },
  {
   "cell_type": "code",
   "execution_count": null,
   "metadata": {},
   "outputs": [],
   "source": [
    "# See trigram example\n",
    "#print(trigram_mod[bigram_mod[corpus_clean[0]]])"
   ]
  },
  {
   "cell_type": "code",
   "execution_count": null,
   "metadata": {},
   "outputs": [],
   "source": [
    "# Define functions for stopwords, bigrams, trigrams and lemmatization\n",
    "def remove_stopwords(texts):\n",
    "    return [[word for word in simple_preprocess(str(doc)) if word not in stop_words] for doc in texts]\n",
    "\n",
    "def make_bigrams(texts):\n",
    "    return [bigram_mod[doc] for doc in texts]\n",
    "\n",
    "def make_trigrams(texts):\n",
    "    return [trigram_mod[bigram_mod[doc]] for doc in texts]\n",
    "\n",
    "def lemmatization(texts, allowed_postags=['NOUN', 'ADJ', 'VERB', 'ADV']):\n",
    "    \"\"\"https://spacy.io/api/annotation\"\"\"\n",
    "    texts_out = []\n",
    "    for sent in texts:\n",
    "        doc = nlp(\" \".join(sent)) \n",
    "        texts_out.append([token.lemma_ for token in doc if token.pos_ in allowed_postags])\n",
    "    return texts_out"
   ]
  },
  {
   "cell_type": "code",
   "execution_count": null,
   "metadata": {},
   "outputs": [],
   "source": [
    "# NLTK Stop words\n",
    "from nltk.corpus import stopwords\n",
    "stop_words = stopwords.words('english')\n",
    "\n",
    "# Remove Stop Words\n",
    "data_words_nostops = remove_stopwords(corpus_clean)\n",
    "\n",
    "# Form Bigrams\n",
    "data_words_bigrams = make_bigrams(data_words_nostops)\n",
    "\n",
    "# Initialize spacy 'en_core_web_sm' model, keeping only tagger component (for efficiency)\n",
    "# python3 -m spacy download en\n",
    "nlp = spacy.load('en_core_web_sm', disable=['parser', 'ner'])\n",
    "\n",
    "# Do lemmatization keeping only noun, adj, vb, adv\n",
    "data_lemmatized = lemmatization(data_words_bigrams, allowed_postags=['NOUN', 'ADJ', 'VERB', 'ADV'])\n",
    "\n",
    "print(data_lemmatized[:1])\n",
    "\n"
   ]
  },
  {
   "cell_type": "code",
   "execution_count": null,
   "metadata": {},
   "outputs": [],
   "source": [
    "# Create Dictionary\n",
    "id2word = corpora.Dictionary(data_lemmatized)\n",
    "\n",
    "# Create Corpus\n",
    "texts = data_lemmatized\n",
    "\n",
    "# Term Document Frequency\n",
    "corp = [id2word.doc2bow(text) for text in texts]\n",
    "\n",
    "# View\n",
    "print(corp[:1])"
   ]
  },
  {
   "cell_type": "code",
   "execution_count": null,
   "metadata": {},
   "outputs": [],
   "source": [
    "id2word[0]"
   ]
  },
  {
   "cell_type": "code",
   "execution_count": null,
   "metadata": {},
   "outputs": [],
   "source": [
    "# Human readable format of corpus (term-frequency)\n",
    "[[(id2word[id], freq) for id, freq in cp] for cp in corp[:1]]"
   ]
  },
  {
   "cell_type": "code",
   "execution_count": null,
   "metadata": {},
   "outputs": [],
   "source": [
    "# Build LDA model\n",
    "lda_model = gensim.models.ldamodel.LdaModel(corpus = corp,\n",
    "                                           id2word = id2word,\n",
    "                                           num_topics = 5, \n",
    "                                           random_state = 100,\n",
    "                                           update_every = 1,\n",
    "                                           chunksize = 100,\n",
    "                                           passes = 10,\n",
    "                                           alpha = 'auto',\n",
    "                                           per_word_topics = True)"
   ]
  },
  {
   "cell_type": "code",
   "execution_count": null,
   "metadata": {},
   "outputs": [],
   "source": [
    "\n",
    "\n",
    "# Print the Keyword in the 10 topics\n",
    "print(lda_model.print_topics())\n",
    "doc_lda = lda_model[corp]"
   ]
  },
  {
   "cell_type": "code",
   "execution_count": null,
   "metadata": {},
   "outputs": [],
   "source": [
    "from gensim.models import CoherenceModel\n",
    "\n",
    "# spacy for lemmatization\n",
    "import spacy\n",
    "\n",
    "# Plotting tools\n",
    "import pyLDAvis\n",
    "#import pyLDAvis.gensim  # don't skip this\n",
    "import pyLDAvis.gensim_models as gensimvis\n",
    "import matplotlib.pyplot as plt\n",
    "%matplotlib inline"
   ]
  },
  {
   "cell_type": "code",
   "execution_count": null,
   "metadata": {},
   "outputs": [],
   "source": [
    "# Compute Perplexity\n",
    "print('\\nPerplexity: ', lda_model.log_perplexity(corp))  # a measure of how good the model is. lower the better.\n",
    "\n",
    "# Compute Coherence Score\n",
    "coherence_model_lda = CoherenceModel(model = lda_model, texts = data_lemmatized, dictionary = id2word, coherence = 'c_v')\n",
    "coherence_lda = coherence_model_lda.get_coherence()\n",
    "print('\\nCoherence Score: ', coherence_lda)"
   ]
  },
  {
   "cell_type": "code",
   "execution_count": null,
   "metadata": {},
   "outputs": [],
   "source": [
    "# Visualize the topics\n",
    "pyLDAvis.enable_notebook()\n",
    "vis = pyLDAvis.gensim_models.prepare(lda_model, corp, id2word)\n",
    "vis"
   ]
  },
  {
   "cell_type": "markdown",
   "metadata": {},
   "source": [
    "Building LDA Mallet Model"
   ]
  },
  {
   "cell_type": "code",
   "execution_count": null,
   "metadata": {},
   "outputs": [],
   "source": [
    "# Building LDA Mallet Model\n",
    "from gensim.models.wrappers import LdaMallet\n",
    "\n",
    "# Download File: http://mallet.cs.umass.edu/dist/mallet-2.0.8.zip\n",
    "mallet_path = './data/mallet-2.0.8/bin/mallet' # update this path\n",
    "ldamallet = gensim.models.wrappers.LdaMallet(mallet_path, corpus = corp, num_topics = 5, id2word = id2word)"
   ]
  },
  {
   "cell_type": "code",
   "execution_count": null,
   "metadata": {},
   "outputs": [],
   "source": [
    "# Show Topics\n",
    "pprint(ldamallet.show_topics(formatted=False))\n",
    "\n",
    "# Compute Coherence Score\n",
    "coherence_model_ldamallet = CoherenceModel(model=ldamallet, texts=data_lemmatized, dictionary=id2word, coherence='c_v')\n",
    "coherence_ldamallet = coherence_model_ldamallet.get_coherence()\n",
    "print('\\nCoherence Score: ', coherence_ldamallet)"
   ]
  },
  {
   "cell_type": "markdown",
   "metadata": {},
   "source": [
    "Optimal number of topics"
   ]
  },
  {
   "cell_type": "code",
   "execution_count": null,
   "metadata": {},
   "outputs": [],
   "source": [
    "def compute_coherence_values(dictionary, corpus, texts, limit, start=2, step=3):\n",
    "    \"\"\"\n",
    "    Compute c_v coherence for various number of topics\n",
    "\n",
    "    Parameters:\n",
    "    ----------\n",
    "    dictionary : Gensim dictionary\n",
    "    corpus : Gensim corpus\n",
    "    texts : List of input texts\n",
    "    limit : Max num of topics\n",
    "\n",
    "    Returns:\n",
    "    -------\n",
    "    model_list : List of LDA topic models\n",
    "    coherence_values : Coherence values corresponding to the LDA model with respective number of topics\n",
    "    \"\"\"\n",
    "    coherence_values = []\n",
    "    model_list = []\n",
    "    for num_topics in range(start, limit, step):\n",
    "        model = gensim.models.wrappers.LdaMallet(mallet_path, corpus=corpus, num_topics=num_topics, id2word=id2word)\n",
    "        model_list.append(model)\n",
    "        coherencemodel = CoherenceModel(model=model, texts=texts, dictionary=dictionary, coherence='c_v')\n",
    "        coherence_values.append(coherencemodel.get_coherence())\n",
    "\n",
    "    return model_list, coherence_values"
   ]
  },
  {
   "cell_type": "code",
   "execution_count": null,
   "metadata": {},
   "outputs": [],
   "source": [
    "# Can take a long time to run.\n",
    "model_list, coherence_values = compute_coherence_values(dictionary=id2word, corpus=corpus, texts=data_lemmatized, start=2, limit=40, step=6)"
   ]
  },
  {
   "cell_type": "code",
   "execution_count": null,
   "metadata": {},
   "outputs": [],
   "source": [
    "# Show graph\n",
    "limit=40; start=2; step=6;\n",
    "x = range(start, limit, step)\n",
    "plt.plot(x, coherence_values)\n",
    "plt.xlabel(\"Num Topics\")\n",
    "plt.ylabel(\"Coherence score\")\n",
    "plt.legend((\"coherence_values\"), loc='best')\n",
    "plt.show()"
   ]
  },
  {
   "cell_type": "code",
   "execution_count": null,
   "metadata": {},
   "outputs": [],
   "source": [
    "# Print the coherence scores\n",
    "for m, cv in zip(x, coherence_values):\n",
    "    print(\"Num Topics =\", m, \" has Coherence Value of\", round(cv, 4))"
   ]
  },
  {
   "cell_type": "code",
   "execution_count": null,
   "metadata": {},
   "outputs": [],
   "source": [
    "# Select the model and print the topics\n",
    "optimal_model = model_list[3]\n",
    "model_topics = optimal_model.show_topics(formatted=False)\n",
    "pprint(optimal_model.print_topics(num_words=10))"
   ]
  },
  {
   "cell_type": "markdown",
   "metadata": {},
   "source": [
    "What topic each document?"
   ]
  },
  {
   "cell_type": "code",
   "execution_count": null,
   "metadata": {},
   "outputs": [],
   "source": [
    "def format_topics_sentences(ldamodel=lda_model, corpus=corp, texts=data):\n",
    "    # Init output\n",
    "    sent_topics_df = pd.DataFrame()\n",
    "\n",
    "    # Get main topic in each document\n",
    "    for i, row in enumerate(ldamodel[corpus]):\n",
    "        row = sorted(row, key=lambda x: (x[1]), reverse=True)\n",
    "        # Get the Dominant topic, Perc Contribution and Keywords for each document\n",
    "        for j, (topic_num, prop_topic) in enumerate(row):\n",
    "            if j == 0:  # => dominant topic\n",
    "                wp = ldamodel.show_topic(topic_num)\n",
    "                topic_keywords = \", \".join([word for word, prop in wp])\n",
    "                sent_topics_df = sent_topics_df.append(pd.Series([int(topic_num), round(prop_topic,4), topic_keywords]), ignore_index=True)\n",
    "            else:\n",
    "                break\n",
    "    sent_topics_df.columns = ['Dominant_Topic', 'Perc_Contribution', 'Topic_Keywords']\n",
    "\n",
    "    # Add original text to the end of the output\n",
    "    contents = pd.Series(texts)\n",
    "    sent_topics_df = pd.concat([sent_topics_df, contents], axis=1)\n",
    "    return(sent_topics_df)\n",
    "\n",
    "\n",
    "df_topic_sents_keywords = format_topics_sentences(ldamodel=optimal_model, corpus=corpus, texts=data)\n",
    "\n",
    "# Format\n",
    "df_dominant_topic = df_topic_sents_keywords.reset_index()\n",
    "df_dominant_topic.columns = ['Document_No', 'Dominant_Topic', 'Topic_Perc_Contrib', 'Keywords', 'Text']\n",
    "\n",
    "# Show\n",
    "df_dominant_topic.head(10)"
   ]
  },
  {
   "cell_type": "markdown",
   "metadata": {},
   "source": [
    "Most representative document for each topic"
   ]
  },
  {
   "cell_type": "code",
   "execution_count": null,
   "metadata": {},
   "outputs": [],
   "source": [
    "# Number of Documents for Each Topic\n",
    "topic_counts = df_topic_sents_keywords['Dominant_Topic'].value_counts()\n",
    "\n",
    "# Percentage of Documents for Each Topic\n",
    "topic_contribution = round(topic_counts/topic_counts.sum(), 4)\n",
    "\n",
    "# Topic Number and Keywords\n",
    "topic_num_keywords = df_topic_sents_keywords[['Dominant_Topic', 'Topic_Keywords']]\n",
    "\n",
    "# Concatenate Column wise\n",
    "df_dominant_topics = pd.concat([topic_num_keywords, topic_counts, topic_contribution], axis=1)\n",
    "\n",
    "# Change Column names\n",
    "df_dominant_topics.columns = ['Dominant_Topic', 'Topic_Keywords', 'Num_Documents', 'Perc_Documents']\n",
    "\n",
    "# Show\n",
    "df_dominant_topics"
   ]
  }
 ],
 "metadata": {
  "interpreter": {
   "hash": "0da6e46dab1e0b3d9fa32aec1170dd2df7038a4f7be3a54c97a348d8ad782954"
  },
  "kernelspec": {
   "display_name": "Python 3.8.11 64-bit ('tfm': conda)",
   "name": "python3"
  },
  "language_info": {
   "codemirror_mode": {
    "name": "ipython",
    "version": 3
   },
   "file_extension": ".py",
   "mimetype": "text/x-python",
   "name": "python",
   "nbconvert_exporter": "python",
   "pygments_lexer": "ipython3",
   "version": "3.8.11"
  }
 },
 "nbformat": 4,
 "nbformat_minor": 1
}
