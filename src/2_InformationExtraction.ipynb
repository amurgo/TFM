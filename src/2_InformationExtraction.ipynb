{
 "cells": [
  {
   "cell_type": "markdown",
   "metadata": {},
   "source": [
    "# Information extraction (28th October 2021)"
   ]
  },
  {
   "cell_type": "markdown",
   "metadata": {},
   "source": [
    "This notebook extracts additional information from the text of the tribunal decisions and stores it in the relevant dictionary.\n",
    "\n",
    "In particular, the notebook performs information extraction on:\n",
    "\n",
    "1. The label included in the name of the file.\n",
    "\n",
    "2. The court where the case was heard (\"Heard at\").\n",
    "\n",
    "3. The judges.\n",
    "\n",
    "4. The legal representation for the appellant and the respondent.\n",
    "\n",
    "5. The decision/ruling by the judge.\n",
    "\n",
    "Each of these fields is added to the dictionary of each judicial decision.\n",
    "\n",
    "The resulting data set - a list of updated dictionaries -  is serialised as a json object (jsonDataFinal.json).\n",
    "\n",
    "This notebook should run in the tfm environment, which can be created with the environment.yml file."
   ]
  },
  {
   "cell_type": "code",
   "execution_count": 38,
   "metadata": {},
   "outputs": [
    {
     "name": "stdout",
     "output_type": "stream",
     "text": [
      "Current environment: /Users/albertamurgopacheco/anaconda3/envs/tfm/bin/python\n",
      "Current working directory: /Users/albertamurgopacheco/Documents/GitHub/TFM\n"
     ]
    }
   ],
   "source": [
    "from os import listdir\n",
    "from os.path import isfile, join, getsize\n",
    "import numpy as np\n",
    "import re\n",
    "import json\n",
    "import pickle\n",
    "import pandas as pd\n",
    "import whois\n",
    "import sys\n",
    "import datetime\n",
    "from tqdm import tqdm\n",
    "import textract\n",
    "import re\n",
    "from pprint import pprint\n",
    "\n",
    "from nltk.tokenize import sent_tokenize, word_tokenize\n",
    "import stanza\n",
    "\n",
    "import sys\n",
    "IN_COLAB = 'google.colab' in sys.modules\n",
    "\n",
    "\n",
    "# What environment am I using?\n",
    "print(f'Current environment: {sys.executable}')\n",
    "\n",
    "# Change the current working directory\n",
    "os.chdir('/Users/albertamurgopacheco/Documents/GitHub/TFM')\n",
    "# What's my working directory?\n",
    "print(f'Current working directory: {os.getcwd()}')\n"
   ]
  },
  {
   "cell_type": "code",
   "execution_count": 39,
   "metadata": {},
   "outputs": [],
   "source": [
    "# Define working directories in colab and local execution\n",
    "\n",
    "if IN_COLAB:\n",
    "    from google.colab import drive\n",
    "    drive.mount('/content/gdrive')\n",
    "    docs_path = '/content/gdrive/MyDrive/TFM/data/raw'\n",
    "    input_path = '/content/gdrive/MyDrive/TFM'\n",
    "    output_path = '/content/gdrive/MyDrive/TFM/output'\n",
    "\n",
    "else:\n",
    "    docs_path = './data/raw'\n",
    "    input_path = '.'\n",
    "    output_path = './output'"
   ]
  },
  {
   "cell_type": "markdown",
   "metadata": {},
   "source": [
    "# INFORMATION EXTRACTION"
   ]
  },
  {
   "cell_type": "markdown",
   "metadata": {},
   "source": [
    "# 1. The label included in the name of the file"
   ]
  },
  {
   "cell_type": "markdown",
   "metadata": {},
   "source": [
    "There are two categories of cases: the reported and the unreported ones. The reported cases include richer data while the unreported ones (the vast majority of cases) miss several data fields due to a request for annonimity from any of the parties involved in the legal dispute.\n",
    "\n",
    "The first two letters in the file name seem to follow some logic. Inspecting the documents reveals the following meanings:"
   ]
  },
  {
   "cell_type": "code",
   "execution_count": 40,
   "metadata": {},
   "outputs": [
    {
     "name": "stderr",
     "output_type": "stream",
     "text": [
      "100%|██████████| 35305/35305 [00:00<00:00, 1588874.25it/s]\n"
     ]
    }
   ],
   "source": [
    "# Open jsonData file as data\n",
    "with open('./data/jsonDataFinal.json') as json_file:\n",
    "    data = json.load(json_file)\n",
    "\n",
    "# Loop over each decision and extract first two characters of the file's name\n",
    "for decision in tqdm(data):\n",
    "    # Only 'unteported' decisions include this 2-letter code\n",
    "    if decision.get('Status of case:') == 'Unreported':\n",
    "        string_code = decision.get('File')[:2]\n",
    "    else:\n",
    "        string_code = 'NA'\n",
    "    \n",
    "    # Add dictionary key 'Code label' with value string to the dictionary\n",
    "    decision.update({'Code label:': string_code})\n",
    "\n",
    "# Save data as a json file jsonDataFinal in data directory\n",
    "with open('./data/jsonDataFinal.json', 'w') as fout:\n",
    "    json.dump(data, fout)"
   ]
  },
  {
   "cell_type": "markdown",
   "metadata": {},
   "source": [
    "# 2. The court where the case was heard"
   ]
  },
  {
   "cell_type": "markdown",
   "metadata": {},
   "source": [
    "An inspection of a sample of judicial decisions reveals that the name of the court is located in the first part of the document and it usually follows the expression \"Heard at\".\n",
    "\n",
    "The strategy to capture this field will consist of a search using regular expressions. "
   ]
  },
  {
   "cell_type": "code",
   "execution_count": 41,
   "metadata": {},
   "outputs": [
    {
     "name": "stderr",
     "output_type": "stream",
     "text": [
      "100%|██████████| 35305/35305 [00:01<00:00, 27089.94it/s]\n"
     ]
    }
   ],
   "source": [
    "# Open jsonData file as data\n",
    "with open('./data/jsonDataFinal.json') as json_file:\n",
    "    data = json.load(json_file)\n",
    "\n",
    "# Loop over each text file and extract Court information\n",
    "for decision in tqdm(data):\n",
    "    # Obtain the text of the court decision\n",
    "    decision_string = decision.get('String')\n",
    "    # Deal with empty/corrupt files that didn't upload a sentence string\n",
    "    if decision_string:\n",
    "        # Regex expression: What comes after \"Heard at\" until hitting 3 balnks or new line\n",
    "        #regex = '(?<=Heard at).*[^\\S\\r\\n]{3,}'\n",
    "        regex = 'Heard at(.*)[\\S\\r\\n]| (?<=Heard at).*[^\\S\\r\\n]{3,}'\n",
    "        catch = re.search(regex, decision_string)\n",
    "\n",
    "        # If the catch is successful\n",
    "        if catch :\n",
    "            string = catch.group(0)\n",
    "            # Remove ':' if included in the catch\n",
    "            string = string.replace(':','')\n",
    "            # Remove leading and trailing spaces\n",
    "            string = string.strip()\n",
    "            # Avoids picking up parts of tables and '|'\n",
    "            string = string.split('   ')\n",
    "            string = string[0]\n",
    "            # Remove 'Heard at' if included in the catch\n",
    "            string = string.replace('Heard at ','')\n",
    "            # Remove 'manually' some strings often included in the catch\n",
    "            string = string.replace('|Decision & Reasons Promulgated','')\n",
    "            string = string.replace('|Decision and Reasons Promulgated','')\n",
    "            string = string.replace('| Decision & Reasons Promulgated','')\n",
    "            string = string.replace('Decision Promulgated','')\n",
    "            string = string.replace('|Decision & Reasons promulgated','')\n",
    "            string = string.replace('|Determination Promulgated','')\n",
    "            string = string.replace('Decision and Reasons Promulgated','')\n",
    "            string = string.replace('|Decision & Reasons  Promulgated','')\n",
    "            string = string.replace(' on 4 July 2003','')\n",
    "            string = string.replace('Determination Promulgated','')\n",
    "            string = string.replace('Decision & Reasons Promulgated','')\n",
    "            string = string.replace('|Decisions and Reasons Promulgated','')\n",
    "            string = string.replace('|Decision and Reasons','')\n",
    "            string = string.replace('UT(IAC)','')\n",
    "            string = string.replace('UT (IAC) ','')\n",
    "            string = string.replace('Date of Hearing  9 December 2005','')\n",
    "            string = string.replace(' | |SS (Risk-Manastry) Iran CG [2003] UKIAT 00035 |','')\n",
    "            # Strip of often found trailing characters\n",
    "            string = string.rstrip(',')\n",
    "            string = string.rstrip('|')\n",
    "            # Remove leading and trailing spaces (again)\n",
    "            string = string.strip()\n",
    "            \n",
    "        else:\n",
    "            string = 'NA'\n",
    "        \n",
    "        #print(string)\n",
    "        # Add dictionary key 'Heard at' with value string to the dictionary\n",
    "        decision.update({'Heard at:': string})\n",
    "    else:\n",
    "        continue\n",
    "# Save data as a json file jsonDataFinal in data directory\n",
    "with open('./data/jsonDataFinal.json', 'w') as fout:\n",
    "    json.dump(data, fout)"
   ]
  },
  {
   "cell_type": "markdown",
   "metadata": {},
   "source": [
    "# 3. The judges\n",
    "\n"
   ]
  },
  {
   "cell_type": "code",
   "execution_count": 42,
   "metadata": {},
   "outputs": [
    {
     "name": "stderr",
     "output_type": "stream",
     "text": [
      "100%|██████████| 35305/35305 [00:01<00:00, 24965.24it/s]\n"
     ]
    }
   ],
   "source": [
    "# Open jsonData file as data\n",
    "with open('./data/jsonDataFinal.json') as json_file:\n",
    "    data = json.load(json_file)\n",
    "\n",
    "# Loop over each text file and extract Court information\n",
    "for decision in tqdm(data):\n",
    "    # Obtain the text of the court decision\n",
    "    decision_string = decision.get('String')\n",
    "    # Deal with empty/corrupt files that didn't upload a sentence string\n",
    "    if decision_string:\n",
    "        # Regex expression: What comes in between 'Before' and 'Between'\n",
    "        regex = '(?<=Before)([\\s\\S]*?)(?=Between)'\n",
    "        catch = re.search(regex, decision_string)\n",
    "        #If the catch is successful\n",
    "        if catch :\n",
    "            string = catch.group(0)\n",
    "\n",
    "            # Get rid of some table delimiters\n",
    "            string = string.replace('|','')\n",
    "            string = string.replace('?','')\n",
    "            string = string.replace(',','')\n",
    "\n",
    "            # Remove leading and trailing spaces\n",
    "            string = string.strip()\n",
    "            \n",
    "            # Split strings (spaces > 3 usually indicates two \"joint\" names)\n",
    "            # Alternative approach tried and discarded base on sentence tokenization \n",
    "            # from nltk.tokenize import sent_tokenize\n",
    "            listNames = string.split(\"   \")\n",
    "            # Make list of names with strings containijng names\n",
    "            # Capitalize the first letter of each word & delete \n",
    "            listNames = [name.strip().title() for name in listNames if name.strip()]\n",
    "\n",
    "            # Discard content in brackets as it's mostly titles and clutter\n",
    "            listNames = [re.sub('[\\(\\[].*?[\\)\\]]', '', x).strip() for x in listNames]\n",
    "\n",
    "\n",
    "            # Finally, delete titles, positions held and other clutter around the name\n",
    "            clutter = ['Judge', 'Tribunal', 'Court', 'Upper', 'Deputy', 'Senior', 'Of', 'The', 'Mr', 'Dr', 'Vice', 'President',\n",
    "            ':', 'Honourable', 'Hon.', '', '- - - - - - - - - - - - - - - - - - - -', 'Ut', 'Trinbunal', '-And-', 'Mrs', 'President,',\n",
    "            'Tribnunal', '-', 'Hon', 'And', 'Chairman', 'Vice-President', 'Immigration', 'Asylum Chamber', '-Vice', '(Senior',\n",
    "            '...............', 'Designated', 'His Honour', 'Respondent Representation: For Appellant', 'Secretary State For Home Department',\n",
    "            'Appellant', 'Lord', 'Sir', 'In Matter An Application For Judicial Review', 'I) Eu Regulation Number 604/2013 Human',\n",
    "            'Miss', 'Ms.', ':-']\n",
    "\n",
    "            # \n",
    "            listNames = [' '.join(filter(lambda x: x not in clutter,  name.split())) for name in listNames]\n",
    "            # Remove remaining 'issues' with empty strings ''\n",
    "            listNames = list(filter(None, listNames))\n",
    "            # Add a . following individual letters\n",
    "\n",
    "            #print(listNames)\n",
    "            \n",
    "        else:\n",
    "            listNames = ['NA']\n",
    "        \n",
    "        #print(decision.get('File'))\n",
    "        #print(listNames)\n",
    "        # Add dictionary key 'Judges:' with value list of strings to the dictionary\n",
    "        decision.update({'Judges:': listNames})\n",
    "    else:\n",
    "        continue\n",
    "\n",
    "# Save data as a json file jsonDataFinal in data directory\n",
    "with open('./data/jsonDataFinal.json', 'w') as fout:\n",
    "    json.dump(data, fout)\n"
   ]
  },
  {
   "cell_type": "code",
   "execution_count": 43,
   "metadata": {},
   "outputs": [
    {
     "name": "stderr",
     "output_type": "stream",
     "text": [
      "100%|██████████| 35305/35305 [00:00<00:00, 2771630.50it/s]\n"
     ]
    }
   ],
   "source": [
    "\n",
    "# 'Manually' fix some mistakes\n",
    "        \n",
    "# Open jsonData file as data\n",
    "with open('./data/jsonDataFinal.json') as json_file:\n",
    "    data = json.load(json_file)\n",
    "\n",
    "# Loop over each text file and extract Court information\n",
    "for decision in tqdm(data):\n",
    "\n",
    "    if decision.get('File') == '00046_ukut_iac_2020_ps_iran_cg':\n",
    "        listNames = ['J Barnes', 'A R Mackey', 'S L Batiste']\n",
    "        decision.update({'Judges:': listNames})\n",
    "    else:\n",
    "        continue\n",
    "    if decision.get('File') == '00393_ukut_iac_2019__jw_ors_ijr':\n",
    "        listNames = ['Rimington Jackson']\n",
    "        decision.update({'Judges:': listNames})\n",
    "    else:\n",
    "        continue\n",
    "    if decision.get('File') == '2004_ukiat_00248_gh_iraq_cg':\n",
    "        listNames = ['Rintoul', 'Bruce']\n",
    "        decision.update({'Judges:': listNames})\n",
    "    else:\n",
    "        continue\n",
    "    if decision.get('File') == '00270_ukut_iac_2015_mmw_ijr':\n",
    "        listNames = ['Justice Mccloskey']\n",
    "        decision.update({'Judges:': listNames})\n",
    "    else:\n",
    "        continue\n",
    "    if decision.get('File') == '00271_ukut_iac_2015_bh_ijr':\n",
    "        listNames = ['Justice Mccloskey', \"O'Connor\"]\n",
    "        decision.update({'Judges:': listNames})\n",
    "    else:\n",
    "        continue\n",
    "    if decision.get('File') == 'AA082212015':\n",
    "        listNames = ['Alis', 'I K']\n",
    "        decision.update({'Judges:': listNames})\n",
    "    else:\n",
    "        continue\n",
    "\n",
    "# Save data as a json file jsonDataFinal in data directory\n",
    "with open('./data/jsonDataFinal.json', 'w') as fout:\n",
    "    json.dump(data, fout)\n"
   ]
  },
  {
   "cell_type": "markdown",
   "metadata": {},
   "source": [
    "# 4. The legal representation for the appellant and the respondent"
   ]
  },
  {
   "cell_type": "markdown",
   "metadata": {},
   "source": [
    "The legal team consists of the representation for the appellant and the respondent."
   ]
  },
  {
   "cell_type": "markdown",
   "metadata": {},
   "source": []
  },
  {
   "cell_type": "code",
   "execution_count": null,
   "metadata": {},
   "outputs": [],
   "source": [
    "# Path to the txt documents\n",
    "txt_path = './data/processed/txt_files_test/'\n",
    "print(os.listdir(txt_path))\n",
    "# Loop over each text file and extract Court information\n",
    "for text in os.listdir(txt_path):\n",
    "    print(text)\n",
    "\n",
    "    with open(txt_path + text, 'r') as file:\n",
    "        decision_string = file.read()\n",
    "        # Regex expression: What comes after \"Heard at\" until hitting 3 balnks or new line\n",
    "        #regex = '(?<=Heard at).*[^\\S\\r\\n]{3,}'\n",
    "        #regex = 'Before([\\S\\s]*)Between'\n",
    "        regex = '(?<=Before)([\\s\\S]*?)(?=Between)'\n",
    "\n",
    "        catch = re.search(regex, decision_string)\n",
    "        #If the catch is successful\n",
    "        if catch :\n",
    "            string = catch.group(0)\n",
    "\n",
    "            # Keep only alpha numeric\n",
    "            string = string.replace('|','')\n",
    "            #string = re.sub(r'[^A-Za-z0-9 ]+', '', string)\n",
    "            # Remove leading and trailing spaces\n",
    "            string = string.strip()\n",
    "            print(string)\n",
    "        else:\n",
    "            continue\n",
    "\n",
    "\n",
    "\n",
    "\n",
    "# Use regex on sample list\n",
    "l =['00010_ukait_2009_gs_afghanistan_cg.txt', '00003_ukait_2008_aa_others_pakistan.txt', \n",
    "'IA411142014.txt', 'IA417362014___Others.txt', 'PA047742016.txt', 'PA053522017.txt',\n",
    "'IA124652014.txt', 'IA125982015.txt', 'PA085102018.txt']\n",
    "\n",
    "# Use regex on entire list\n",
    "ll = os.listdir(txt_path)\n",
    "print(len(ll))\n",
    "\n",
    "\n",
    "\n",
    "\n",
    "    # Loading string with court decision to data\n",
    "for txt_file in  tqdm(os.listdir(txt_path)):\n",
    "    \n",
    "    # Open file and obtain string and file_name\n",
    "    with open(txt_path + txt_file, 'r') as file:\n",
    "        string = file.read()\n",
    "        f_name, f_ext = os.path.splitext(file.name)\n",
    "        head, file_name = os.path.split(f_name)\n",
    "    # Search data list of dictionaries for dict where {\"File\":} = file_name\n",
    "    for d in data:\n",
    "        if d.get('File') == file_name:\n",
    "            # Add dictionary key 'String' with value string\n",
    "            d.update({'String': string})"
   ]
  },
  {
   "cell_type": "code",
   "execution_count": null,
   "metadata": {},
   "outputs": [],
   "source": [
    "# Regex for the Appellant\n",
    "For the Appellant: ([\\S\\s]*)For the Respondent\n",
    "\n",
    "# Regex for the Respondent\n",
    "For the Respondent: (.*)\\n\\n \n",
    "# OR\n",
    "For the Respondent: (.*)"
   ]
  },
  {
   "cell_type": "code",
   "execution_count": null,
   "metadata": {},
   "outputs": [],
   "source": [
    "import spacy\n",
    "nlp = spacy.load('en_core_web_sm')                                                                                                                  \n",
    "sents = nlp('Dr H H Storey  (Senior Immigration Judge)') \n",
    "type(sents)\n",
    "\n",
    "for ent in sents.ents:\n",
    "    print(ent.text, ent.label_)\n",
    "\n",
    "# Install package\n",
    "#python3.8 -m pip install stanza \n",
    "import stanza\n",
    "\n",
    "#stanza.download('en') # download English model\n",
    "nlp = stanza.Pipeline('en') # initialize English neural pipeline\n",
    "doc = nlp(\"DEPUTY UPPER TRIBUNAL JUDGE M A. HALL\") # run annotation over a sentence\n",
    "\n",
    "print(doc)\n",
    "print(doc.entities)\n",
    "\n",
    "import blackstone\n",
    "\n",
    "\n",
    "\n",
    "#string= 'Dr H H Storey  (Senior Immigration Judge)                         Mr I F Macdonald (Immigration Judge) '\n",
    "#string = 'UPPER TRIBUNAL JUDGE GRUBB (bullshit)'\n",
    "\n",
    "string = '                       Dr H H Storey (Vice President)                                 Mr P Bompas                                Mr S S Percy'\n",
    "\n",
    "\n",
    "# Split strings (spaces > 3 usually indicates two \"joint\" names)\n",
    "# Alternative approach tried and discarded base on sentence tokenization \n",
    "# from nltk.tokenize import sent_tokenize\n",
    "listNames = string.split(\"   \")\n",
    "# Make list of names with strings containijng names\n",
    "# Capitalize the first letter of each word & delete \n",
    "listNames = [name.strip().title() for name in listNames if name.strip()]\n",
    "\n",
    "# Discard content in brackets as it's mostly titles and clutter\n",
    "listNames = [re.sub('[\\(\\[].*?[\\)\\]]', '', x).strip() for x in listNames]\n",
    "\n",
    "\n",
    "# Finally, delete titles, positions held and other clutter around the name\n",
    "clutter = ['Judge', 'Tribunal', 'Court', 'Upper', 'Deputy', 'Senior', 'Of', 'The', 'Mr', 'Dr', 'Vice', 'President']\n",
    "\n",
    "# \n",
    "listNames = [' '.join(filter(lambda x: x not in clutter,  name.split())) for name in listNames]\n",
    "\n",
    "# Add a . following individual letters\n",
    "\n",
    "print(listNames)"
   ]
  },
  {
   "cell_type": "markdown",
   "metadata": {},
   "source": [
    "# 5. The decision of the judge"
   ]
  },
  {
   "cell_type": "markdown",
   "metadata": {},
   "source": [
    "The decision of the judge is the most challenging piece of information to extract from the documents. # First isolate the part of the document most likely to include the decission the second half of the document. Second, get rid of annexes and appendixes. third, # classifying judgments is not the same as classifying cases.\n"
   ]
  },
  {
   "cell_type": "code",
   "execution_count": 60,
   "metadata": {},
   "outputs": [
    {
     "name": "stderr",
     "output_type": "stream",
     "text": [
      "2021-11-13 20:28:12 INFO: Loading these models for language: en (English):\n",
      "========================\n",
      "| Processor | Package  |\n",
      "------------------------\n",
      "| tokenize  | combined |\n",
      "========================\n",
      "\n",
      "2021-11-13 20:28:12 INFO: Use device: cpu\n",
      "2021-11-13 20:28:12 INFO: Loading: tokenize\n",
      "2021-11-13 20:28:12 INFO: Done loading processors!\n",
      "100%|██████████| 35305/35305 [2:00:38<00:00,  4.88it/s]\n"
     ]
    }
   ],
   "source": [
    "# Function to capture if all elements exist in a list\n",
    "def all_exist(avalue, bvalue):\n",
    "    \"\"\"\n",
    "    Given a list of sentences/lists all_exist checks whether avalue list exists in bvalue\n",
    "\n",
    "    :avalue: list to search\n",
    "    :bvalue: list to be searched\n",
    "    :return: the list with the match\n",
    "    \"\"\"\n",
    "    return all(any(x in y for y in bvalue) for x in avalue)\n",
    "\n",
    "# nlp sentence tokenizer with Stanford\n",
    "nlp = stanza.Pipeline(lang = 'en', processors = 'tokenize', tokenize_no_ssplit = True)\n",
    "\n",
    "# Store decisions in a list to make a df\n",
    "decisions = []\n",
    "files = []\n",
    "\n",
    "# Open jsonData file as data\n",
    "with open('./data/jsonDataFinal.json') as json_file:\n",
    "    data = json.load(json_file)\n",
    "\n",
    "# Loop over each text file and extract Court information\n",
    "for decision in tqdm(data):\n",
    "    # Obtain the full text of the court decision\n",
    "    string = decision.get('String')\n",
    "    file_name = decision.get('File')\n",
    "    files.append(file_name)\n",
    "\n",
    "    # Use only second half of text (skip references to annxes and appendixes)\n",
    "    string = string[len(string)//2:]\n",
    "\n",
    "    # Discard text following appendix and annexes\n",
    "    string = string.rsplit(\"appendix\", 1)\n",
    "    string = string[0]\n",
    "    string = string.rsplit(\"annex\", 1)\n",
    "    string = string[0]\n",
    "\n",
    "    # Narrow down the search from the end\n",
    "    # Split on last occurrence of \"Signed\"\n",
    "    string = string.rsplit(\"Signed\", 1)\n",
    "    string = string[0].lower()\n",
    "\n",
    "\n",
    "    # Keep a max of 2000 characters\n",
    "    string = string[ min(-2000, len(string)):]\n",
    "\n",
    "    # Get rid of text after the last occurrence of 'anonymity'\n",
    "    string = string.rsplit(\"anonymity\", 1)\n",
    "    string = string[0]\n",
    "\n",
    "    # Apply stanford nlp\n",
    "    doc = nlp(string)\n",
    "\n",
    "    # List to store the ruling sentences\n",
    "    catch = []\n",
    "    # Flag = 1 when decision found\n",
    "    flag = 0\n",
    "        \n",
    "    # Make sentences\n",
    "    for i, sentence in enumerate(doc.sentences):\n",
    "        sente = [token.text for token in sentence.tokens]\n",
    "        # Keep only the alpha tokens\n",
    "        sente = [e for e in sente if e.isalpha()]\n",
    "        #print(type(sente))\n",
    "        catch.append(sente)\n",
    "        \n",
    "    # Identify decision leads in sentences\n",
    "    decision_leads = [['notice', 'of', 'decision'], ['decision'], ['decisions'], ['conclusions'], ['conclusion']]\n",
    "        \n",
    "    # When decision lead found, trim catch and update flag value \n",
    "    for lead in decision_leads:\n",
    "        try:\n",
    "            # Find index of decision lead in ruling\n",
    "            index = catch.index(lead)\n",
    "            # Remove sentences before the decision lead sentence\n",
    "            del catch[0:index]\n",
    "            # Flatten the list of lists/sentences\n",
    "            flat_catch = [item for sublist in catch for item in sublist]\n",
    "            # Decision found\n",
    "            flag = 1\n",
    "            # Store decision in decisions list\n",
    "            decisions.append(flat_catch)\n",
    "            decision.update({'Decision:': flat_catch})\n",
    "            #print('Found decision 1')\n",
    "            #print(flat_catch)\n",
    "            break\n",
    "        except ValueError:\n",
    "            continue\n",
    "    \n",
    "    # If a decision has not been found yet (flag = 0)\n",
    "    if flag == 0:\n",
    "    # Look for partial hits in text \n",
    "        decision_leads_part = [['for', 'the', 'above', 'reasons'], ['for', 'the', 'reasons', 'i', 'have', 'given'], ['general', 'conclusions'],\n",
    "        ['for', 'the', 'reasons', 'set', 'out', 'above'], ['for', 'all', 'of', 'these', 'reasons'], ['decision', 'and', 'directions'], ['conclusions'],\n",
    "        ['notice', 'of', 'decision'], ['decision','the', 'application', 'for', 'judicial', 'review', 'is'], ['there', 'is', 'no', 'material', 'error', 'of', 'law', 'in'],\n",
    "        ['decision', 'the', 'decision', 'of', 'tribunal', 'judge', 'dean', 'promulgated'], ['the', 'decision', 'of', 'the', 'ftt', 'is', 'set', 'aside'],\n",
    "        ['i', 'grant', 'permission', 'to', 'appeal', 'i', 'set', 'aside', 'the', 'decision', 'of', 'the', 'tribunal'], ['i', 'set', 'aside', 'that', 'decision'],\n",
    "        ['the', 'appellant', 'appeal', 'as', 'originally', 'brought', 'to', 'the', 'ftt', 'is', 'dismissed'], ['i', 'do', 'not', 'set', 'aside', 'the', 'decision']]\n",
    "            \n",
    "        for element in catch:\n",
    "            for part in decision_leads_part:\n",
    "                idx_part = decision_leads_part.index(part)\n",
    "                if all_exist(decision_leads_part[idx_part], element):\n",
    "                    index = catch.index(element)\n",
    "                    # Decision found in catch\n",
    "                    flag = 1\n",
    "                    # Remove sentences before the decision lead sentence\n",
    "                    del catch[0:index]\n",
    "                    # Flatten the list of lists/sentences\n",
    "                    flat_catch = [item for sublist in catch for item in sublist]\n",
    "                    #print('Found decision 2')\n",
    "                    #print(flat_catch)\n",
    "                    break\n",
    "                \n",
    "                else:\n",
    "                    continue\n",
    "                \n",
    "        # If a decision has still not been found (flag = 0)\n",
    "        if flag == 0:\n",
    "            decisions.append(np.nan)\n",
    "            decision.update({'Decision:': np.nan})\n",
    "            #print('Did not find a decision')\n",
    "            #print(catch)\n",
    "        else:\n",
    "            # Store decision in decisions list\n",
    "            decisions.append(flat_catch)\n",
    "            decision.update({'Decision:': flat_catch})\n",
    "            continue\n",
    "\n",
    "\n",
    "# Save data as a json file jsonDataFinal in data directory\n",
    "with open('./data/jsonDataFinal.json', 'w') as fout:\n",
    "    json.dump(data, fout)"
   ]
  },
  {
   "cell_type": "code",
   "execution_count": 61,
   "metadata": {},
   "outputs": [
    {
     "data": {
      "text/plain": [
       "File           0\n",
       "Decision    5220\n",
       "dtype: int64"
      ]
     },
     "execution_count": 61,
     "metadata": {},
     "output_type": "execute_result"
    }
   ],
   "source": [
    "dict_decisions = {'File':files,'Decision':decisions}\n",
    "\n",
    "df = pd.DataFrame(dict_decisions, columns=['File','Decision'])\n",
    "df.isna().sum()\n",
    "#print(data[49])\n",
    "print(len(files))\n",
    "print(len(decisions))\n",
    "print(decisions[32488])\n",
    "print(files[5000])\n",
    "print(decisions[5000])\n",
    "print(files[6000])\n",
    "print(decisions[6002])\n",
    "#print(df[df['Decision'].isnull()])\n",
    "print(df.isnull().sum(axis = 0))\n",
    "print(len(files))\n",
    "print(len(decisions))\n",
    "print(df[df['Decision'].isnull()])"
   ]
  },
  {
   "cell_type": "code",
   "execution_count": null,
   "metadata": {},
   "outputs": [],
   "source": []
  },
  {
   "cell_type": "code",
   "execution_count": 72,
   "metadata": {},
   "outputs": [
    {
     "name": "stdout",
     "output_type": "stream",
     "text": [
      "{\n",
      "    \"Appellant name:\": \"\",\n",
      "    \"Case title:\": \"\",\n",
      "    \"Code label:\": \"DA\",\n",
      "    \"Country:\": \"\",\n",
      "    \"Decision:\": NaN,\n",
      "    \"Document\": \"https://moj-tribunals-documents-prod.s3.amazonaws.com/decision/doc_file/40016/DA009572013.doc\",\n",
      "    \"Download\": \"Yes\",\n",
      "    \"File\": \"DA009572013\",\n",
      "    \"Heard at:\": \"Field House\",\n",
      "    \"Hearing date:\": \"\",\n",
      "    \"ID\": \"3d930783-7e25-402d-9488-c1db2916279a\",\n",
      "    \"Judges:\": [\n",
      "        \"Coker\"\n",
      "    ],\n",
      "    \"Last updated on:\": \"31 Dec 2013\",\n",
      "    \"Promulgation date:\": \"7 Nov 2013\",\n",
      "    \"Publication date:\": \"31 Dec 2013\",\n",
      "    \"Reference\": [\n",
      "        \"DA/00957/2013\"\n",
      "    ],\n",
      "    \"Status of case:\": \"Unreported\",\n",
      "    \"String\": \"\\n\\n                                    [pic]\\nUpper Tribunal\\n(Immigration and Asylum Chamber)    Appeal Number: DA/00957/2012\\n\\n\\n                            THE IMMIGRATION ACTS\\n\\n\\n|Heard at Field House                          |Determination Promulgated    |\\n|On 25th October 2013                          |On 7th November 2013         |\\n|                                              |.............................|\\n|                                              |..........                   |\\n\\n\\n                                   Before\\n\\n                         UPPER TRIBUNAL JUDGE COKER\\n\\n                                   Between\\n\\n                 SECRETARY OF STATE FOR THE HOME DEPARTMENT\\n                                                                   Appellant\\n                                     and\\n\\n                              PRINCEWELL OLUOHA\\n                                                                  Respondent\\n\\nRepresentation:\\n\\nFor the Appellant:     Mr T Wilding, Senior Home Office Presenting Officer\\nFor the Respondent:    Ms N Manyarara, counsel, instructed by Freemans\\nSolicitors\\n\\n                          DETERMINATION AND REASONS\\n\\n   1. The Secretary of State appeals against a decision of a  panel  of  the\\n      First-tier Tribunal (Judge Beach sitting with Mr D R Bremmer JP, a non-\\n      legal member of the Tribunal) who, by a determination  promulgated  on\\n      3rd April 2013 allowed Mr Oluoha's appeal against a  decision  of  the\\n      Secretary of State that he should be deported. That decision was  made\\n      by the Secretary of State  pursuant  to  the  \\\"automatic  deportation\\\"\\n      provisions of section 32 of the UK Borders Act 2007. That was because,\\n      Mr Oluoha, a Nigerian citizen date of birth 8th June 1976, had pleaded\\n      guilty to, been convicted of conspiracy to  contravene  s170(2)(b)  of\\n      the Customs and  Excise  Management  Act  1979  Conspiracy  to  import\\n      cocaine from Nigeria) and had been sentenced to 7 years  imprisonment.\\n      In November 2011, the  Home  Office  (Her  Majesty's  Prison  Service)\\n      transferred him to an  open  prison  and  he  was  granted  increasing\\n      periods of resettlement day release and resettlement overnight release\\n      thus  enabling  him  to  cement  and   develop   an   already   strong\\n      relationship.\\n\\n\\n   2. The Secretary of State submitted  an  application  for  permission  to\\n      appeal some 6 weeks late. Although no explanation was given  for  such\\n      delay, time  was  extended  and  permission  granted  on  the  grounds\\n      asserted namely that the First-tier Tribunal panel had erred in  their\\n      assessment of Article 8.\\n\\n   3. The essence of the grounds relied upon by the Secretary of  State  and\\n      upon which permission was granted is as follows:\\n\\n   a. The First-tier Tribunal misdirected itself in law by  applying  a  two\\n      stage test, as derived from MF (Nigeria) [2012] UKUT 00393  (IAC).  It\\n      was asserted that the First-tier Tribunal should not have regarded the\\n      Immigration Rules as a starting point before moving  on  to  a  second\\n      free standing Article 8 assessment; if the  Tribunal  considered  that\\n      factors not addressed in paragraph 399 or  399A   merit  allowing  the\\n      deportation appeal it should have  considered  them  when  looking  at\\n      whether there were any exceptional circumstances under  paragraph  397\\n      or  398  such  that  the  consequences  of  deportation   produce   an\\n      unjustifiably harsh  outcome  incompatible  with  Article  8.  It  was\\n      asserted that had the First-tier Tribunal had regard to the nature and\\n      weight of public interest as expressed in the Rules and had the First-\\n      tier Tribunal adopted that approach it would have reached a  different\\n      conclusion.\\n   b. That the First-tier Tribunal had failed to provide adequate reasons as\\n      to why his British Citizen child could not relocate to  Nigeria  given\\n      he is only 3 years old; that there were no insurmountable obstacles or\\n      exceptional circumstances which prevent  Mr  Oluoha  and  his  partner\\n      relocating. It was submitted that the First-tier Tribunal  had  failed\\n      to provide any findings with  regards  to  Mr  Oluoha's  risk  to  the\\n      public; that he had sought to minimise his involvement and had  failed\\n      to accept full responsibility for his actions.\\n\\n\\n     4. Since  permission  to  appeal  was  granted,  the  judgment  in  MF\\n        (Nigeria) v Secretary of State for the Home Department [2013]  EWCA\\n        Civ 1192 has been handed down.\\n\\n\\n      Factual matrix and findings by the First-tier Tribunal\\n\\n\\n     5. There is no dispute as to the factual matrix  to  this  appeal.  Mr\\n        Oluoha was previously married to a Greek national, the relationship\\n        having commenced when he was in Greece in 2002. He arrived  in  the\\n        UK on 9th September 2007 with leave to enter  as  a  student  until\\n        31st October 2008. He married his  Greek  wife  in  June  2008  and\\n        following an application made on 22nd October 2009  he  was  issued\\n        with a residence card on 24th September 2009 valid  until  December\\n        2014. That marriage broke down and had broken down at the  time  he\\n        received his residence card.\\n\\n\\n     6. He met his current partner in 2008; their relationship  started  in\\n        about March or April  2009  and  they  have  lived  together  since\\n        November 2009 when she ended the tenancy on her  own  accommodation\\n        although they had moved in together before that. They  had  at  the\\n        date of the  hearing  before  the  First-tier  Tribunal  one  child\\n        together, born 23rd February 2010 and his partner was pregnant;  as\\n        of the date of hearing before me the couple now have two children.\\n\\n     7. The First-tier Tribunal clearly recorded (in [40] and [41]) that Mr\\n        Oluoha had been sentenced to a period of imprisonment in excess  of\\n        4 years and set out the relevant parts of paragraph  398.  At  [41]\\n        the First-tier Tribunal went on to say\\n\\n\\n             Paragraphs 399 and 399A do not apply to the Appellant  because\\n             he does not fall within Paragraph 398  (b)  or  (c).  It  will\\n             therefore be only in exceptional circumstances that the public\\n             interest in deporting the  Appellant  will  be  outweighed  by\\n             other factors.\\n\\n     8.  In [53] the First-tier Tribunal finds that the couple have\\n\\n             ...sought to exaggerate the Appellant's partner's difficulties\\n             in being a single parent\\n\\n     9. On 9th February 2010 he was arrested. He  stated  in  his  evidence\\n        that he took responsibility for the crime;  that  he  hadn't  known\\n        there were drugs in the packages  but  that  he  should  have  seen\\n        earlier that there was something wrong; he pleaded guilty and  said\\n        that the 7  year  sentence  was  a  consequence  of  his  error  of\\n        judgment. The First-tier Tribunal refers to the OASYS report before\\n        them in [51] as follows\\n\\n             .....In  the  recent  OASYS  report  the  Appellant  seeks  to\\n             minimise his involvement in the offence by stating that he was\\n             unaware  that  the  package  contained  drugs.  There  was  no\\n             evidence before us to suggest that the Appellant was sentenced\\n             on that basis and indeed the Appellant did not seek to suggest\\n             that was the case. This is of concern as it strongly  suggests\\n             that the Appellant has failed to  accept  full  responsibility\\n             for his offence and this may have had an impact on the outcome\\n             of the OAsys report which appears to  have  proceeded  on  the\\n             basis  that  what  the  appellant  stated  about  not   having\\n             knowledge of the contents of the packages was true and was the\\n             basis upon which he was convicted.\\n\\n\\n\\n    10. In [52] the First-tier Tribunal  refers  to  Mr  Oluoha's  time  in\\n        prison, work outside prison, community voluntary work and that\\n\\n\\n             .....These factors all show that the Appellant  is  considered\\n             by the prison authorities to be a prisoner who can be trusted.\\n             It also suggests that the  Appellant  has  used  his  time  in\\n             prison constructively.\\n\\n\\n    11. He has been in an open prison since November  2011;  he  went  home\\n        five days in every 28 and was on day release alternate weekends; he\\n        is currently on licence and on immigration bail.\\n\\n    12. Prior to his imprisonment he had worked and studied. When  detained\\n        in prison his partner and child used some of his savings and he was\\n        still owed money from his previous employment. Whilst  detained  he\\n        was one of 25 prisoners who had earned the privilege of working and\\n        was supporting his wife and child on a weekly basis.\\n\\n    13. He has a widowed mother in Nigeria,  a  sister  in  Holland  and  a\\n        sister in Canada. The First-tier Tribunal found that Mr Oluoha  had\\n        close relatives in Nigeria who may well be able to  assist  in  the\\n        short term and that he had obtained qualifications in the UK  which\\n        he could use to help him re-establish himself in Nigeria. The First-\\n        tier Tribunal goes on to say in [54]\\n\\n             Of course, the Appellant's partner would prefer to  remain  in\\n             the UK but this does not automatically  mean  that  there  are\\n             exceptional circumstances in terms of deportation.\\n\\n    14. His partner works part time as a teaching assistant  in  a  primary\\n        school in Southampton. Her unchallenged evidence was that she  knew\\n        of  Mr  Oluoha's  conviction  and  that  it  was  related  to  drug\\n        importation. She said she could not go to Nigeria for fear  of  the\\n        consequences to her and her child's safety and health. Her  widowed\\n        mother, who lives about 1 \\ufffd hours away, is retired and her  sister,\\n        who lives about 2 \\ufffd hours away has recently  been  made  redundant.\\n        There were very limited job opportunities for her near her mother.\\n\\n\\n    15. In [55] the First-tier Tribunal found\\n\\n             ....We do not find it credible ...that the Appellant would not\\n             have realised that he should have informed the Home Office  of\\n             his change in circumstances [the breakdown of his marriage  to\\n             his Greek wife]....the Appellant  deliberately  chose  not  to\\n             inform the Home Office of his change in circumstances  because\\n             he would then have been without any status in the UK...\\n\\n\\n    16. In [56] the First-tier Tribunal found that the  Appellant  had  not\\n        shown there were exceptional circumstances  under  the  Immigration\\n        Rules and went on to say in [57] that the\\n\\n\\n             ...Appellant cannot fulfil the Immigration Rules  relating  to\\n             article 8. In  line  with  MF  we  find  that  where  ...  the\\n             Appellant cannot meet  the  requirements  of  the  Immigration\\n             Rules but raises Article 8 in his grounds of appeal,  we  must\\n             still consider Article 8 as a separate legal entity  from  the\\n             Immigration Rules.\\n\\n\\n    17.  The  First-tier  Tribunal   then   went   on   to   consider   the\\n        proportionality of the deportation of the appellant \\\"under  Article\\n        8\\\" and said as follows\\n\\n\\n             63. The Appellant has been convicted of a serious  offence  and\\n                 received a lengthy prison  sentence.  There  are  important\\n                 public interest issues in this matter  including  the  need\\n                 for deterrence.\\n             64. Balanced against this is the fact  that  the  Appellant  is\\n                 considered to be at low risk of reoffending and that he has\\n                 undertaken courses whilst in prison. He is also  considered\\n                 to be a trusted prisoner by the prison authorities  and  is\\n                 allowed on home visits and to undertake  work  outside  the\\n                 prison.\\n             65. .... It has been accepted in  ZH  that  it  will  often  be\\n                 unreasonable to expect a British national  child  to  leave\\n                 the UK to be with a foreign national parent as it will mean\\n                 a consequent loss of the benefits which  being  British  in\\n                 Britain  brings  to  a  child......we  accept   that   this\\n                 [relocation]    would    be    difficult    although    not\\n                 insurmountable...... Whilst she [the child] is young enough\\n                 to adapt to life in Nigeria she is a British  national  and\\n                 this carries considerable weight. We find it would  not  be\\n                 reasonable to expect the Appellant's child to  relocate  to\\n                 Nigeria. In  those  circumstances  it  would  also  not  be\\n                 reasonable to expect the Appellant's partner to relocate to\\n                 Nigeria because otherwise their child would be left without\\n                 any parents.\\n             66. We  take  account  of  the  significant  role  that  public\\n                 interest plays in  assessing  Article  8  claims.  Were  it\\n                 simply the Appellant's rights under Article 8 that  we  had\\n                 to consider or even those of just  the  Appellant  and  his\\n                 partner,  then  we  would  find  that  the  Respondent  was\\n                 justified in deporting the  Appellant  given  his  history.\\n                 However we must also take account  of  the  effect  on  the\\n                 Appellant's  daughter  and  their  unborn  child.....  Even\\n                 taking account of the fact that the Appellant's involvement\\n                 with his daughter was to some extent likely  to  have  been\\n                 exaggerated given that the Appellant's partner is the  full\\n                 time carer and the Appellant is  necessarily  a  part  time\\n                 carer given his current situation, we find that it is clear\\n                 from the Appellant's partner's evidence that the  Appellant\\n                 plays a significant role in his daughter's life when he  is\\n                 on home release......\\n             67. This case is very finely balanced. However we find that  he\\n                 Appellant's daughter's relationship with the  Appellant  is\\n                 just  of  sufficient  importance  and  significance  as  to\\n                 outweigh the public interest. .....In making this decision,\\n                 we note that the case law in relation to Article 8  clearly\\n                 states that the Appellant does not need to show exceptional\\n                 circumstances  and  that  his   case   can   therefore   be\\n                 distinguished from the Immigration rules.\\n\\n\\n     MF (Nigeria) v SSHD [2013] EWCA Civ 1192\\n\\n    18. MF (Nigeria) considers the question of the circumstances  in  which\\n        the deportation of a foreign criminal is  contrary  to  Article  8.\\n        Until paragraphs 398, 399 and 399A of the  Immigration  Rules  were\\n        introduced the issue was  governed  entirely  by  caselaw;  caselaw\\n        involved two stages: the first to determine whether the decision is\\n        in  accordance  with  the  Immigration  Rules  and  the  second  to\\n        determine whether the  decision  is  contrary  to  the  appellant's\\n        Article 8 rights. It was against that background that MF  (Nigeria)\\n        considers the proper  interpretation  of  the  current  Immigration\\n        Rules.\\n    19. In [36] the Court says\\n\\n\\n             What is the position where paras 399 and  399A  do  not  apply\\n             either because the case falls within para 398(a)  or  because,\\n             although it falls within para  398(b)  or  (c),  none  of  the\\n             conditions set out in para 399 (a) or (b) or para 399A (a)  or\\n             (b) applies? The new rules provide that  in  that  event,  \\\"it\\n             will only be in  exceptional  circumstances  that  the  public\\n             interest  in  deportation  will   be   outweighed   by   other\\n             factors\\\".....\\n\\n\\n    20. The Secretary of State in MF (Nigeria)  made  clear  that  the  new\\n        rules  were  not  intended  to  herald   a   restoration   of   the\\n        \\\"exceptionality  test\\\"  and  that  they   should   be   interpreted\\n        consistently with the Strasbourg jurisprudence [39]. The court went\\n        on to say [39] that\\n\\n\\n             ..... the rules expressly contemplate a weighing of the public\\n             interest in deportation against \\\"other factors\\\". In our  view,\\n             this must be a  reference  to  all  other  factors  which  are\\n             relevant  to   proportionality   and   entails   an   implicit\\n             requirement that they are to be taken into account.\\n\\n\\n\\n\\n    21.  The Court accepted the Secretary of States  submission  [41]  that\\n        the reference in the rules to exceptional circumstances \\\"serves the\\n        purpose of emphasising  that,  in  the  balancing  exercise,  great\\n        weight should be given to the public interest in deporting  foreign\\n        criminals who do not satisfy paras 398 and 399 or 399A. It is  only\\n        exceptionally that such foreign criminals will succeed  in  showing\\n        that their rights under Article 8(1) trump the public  interest  in\\n        deportation.\\\" It went on to say\\n\\n\\n             43. The word \\\"exceptional\\\" is often used to denote a  departure\\n                 from a general  rule.  The  general  rule  in  the  present\\n                 context is that in the case of a foreign prisoner  to  whom\\n                 paras 399 and 399A do not apply,  very  compelling  reasons\\n                 will  be  required  to  outweigh  the  public  interest  in\\n                 deportation. These compelling reasons are the  \\\"exceptional\\n                 circumstances\\\".\\n             44. .... the new  rules  are  a  complete  code  and  that  the\\n                 exceptional circumstances to be considered in the balancing\\n                 exercise involve the application of a proportionality  test\\n                 as required by the Strasbourg jurisprudence....\\n             45. Even if we were wrong about that it would be  necessary  to\\n                 apply a proportionality test outside the new rules  as  was\\n                 done by the UT. Either way the result should be  the  same.\\n                 Either  way  the  result  should  be  the  same.  In  these\\n                 circumstances, it is a sterile  question  whether  this  is\\n                 required by the new rules or it is  a  requirement  of  the\\n                 general law. What matters is that  it  is  required  to  be\\n                 carried out if paras 399 or 399A do not apply.\\n             46. There has been debate as to whether there is a one stage or\\n                 two stage test.  If the claimant succeeds on an application\\n                 of the new rules at the first hurdle ie he shows that  para\\n                 399 or 399A applies, then  it  can  be  said  that  he  has\\n                 succeeded on a one stage test.  But if he does not,  it  is\\n                 necessary to consider whether there are circumstances which\\n                 are sufficiently compelling (and therefore exceptional)  to\\n                 outweigh the public interest in deportation.   That  is  an\\n                 exercise which is separate from a consideration of  whether\\n                 para 399 or 399A applies.  It is the second part of  a  two\\n                 stage approach which, for the reasons  we  have  given,  is\\n                 required by the new rules.  The UT concluded (para 41) that\\n                 it is required because the new rules do not  fully  reflect\\n                 Strasbourg jurisprudence.  But either way, it is  necessary\\n                 to carry out a two stage process.\\n                  ......\\n             49. .... We would observe that, if  \\\"insurmountable\\\"  obstacles\\n                 are literally obstacles which it is impossible to surmount,\\n                 their scope is  very  limited  indeed.   We  shall  confine\\n                 ourselves to saying that we incline to the view  that,  for\\n                 the reasons stated in detail by the UT in Izuazu  at  paras\\n                 53 to 59, such a stringent approach would  be  contrary  to\\n                 article 8.\\n\\n\\n      The Secretary of State's case\\n\\n\\n    22. MF (Nigeria) points out that the position of the Secretary of State\\n        as to the meaning of the rules and how they should be  applied  has\\n        not always been  easy  to  understand.  In  the  present  case  the\\n        Secretary of State relied upon SS (Nigeria) [2013] EWCA Civ 550 and\\n        Richards [2013] EWCA Civ 244  as  precursors  to  MF  Nigeria.  She\\n        submitted that legislative weight is to be attached to  the  strong\\n        public  interest  in  deporting  foreign  criminals   rather   than\\n        considering this as mere executive policy. She submitted  that  the\\n        First-tier Tribunal had failed to show that they had grappled  with\\n        the significance  of  the  crime  for  which  Mr  Oluoha  had  been\\n        convicted; that the references in [63] and [66] of  the  First-tier\\n        Tribunal determination were simply  inadequate.  It  was  submitted\\n        that where the decision had been taken under the 2007 Act there  is\\n        a greater requirement upon the claimant to show that  the  decision\\n        was disproportionate and that  in the present case  the  child  had\\n        been the determining factor. It was submitted that  the  First-tier\\n        Tribunal had failed to provide any analysis but  had  merely  noted\\n        them, that there were significant credibility issues that  had  not\\n        been addressed and that the First-tier Tribunal had  simply  failed\\n        to weigh in  the  other  factors  as  required  in  reaching  their\\n        assessment. It was submitted that  although  the  rules  assessment\\n        reflected the great weight placed upon the  public  interest,  the,\\n        what could be termed, \\\"Razgar\\\" assessment failed to do this.\\n\\n\\n      Decision\\n\\n    23. The First-tier Tribunal Panel  decision  sets  out  in  detail  its\\n        conclusions on the  evidence  before  it.  It  draws  attention  to\\n        evidence which leads to  conclusions  adverse  to  Mr  Oluoha,  for\\n        example the availability of relatives in  Nigeria  to  assist,  the\\n        acceptance of responsibility for the crime and the ability  of  his\\n        partner  to  cope  as  a  single  parent.   Although   inaccurately\\n        formulated in the determination as three steps - the Rules, whether\\n        there were exceptional circumstances and  then  Article  8,  it  is\\n        plain  that  this  experienced  panel  has  at  each  step  in  its\\n        consideration  taken  full  account  of  all  relevant  matters  in\\n        reaching its decision.  The Court of Appeal  in  MF  (Nigeria)  has\\n        explained that in reaching a decision whether as per a 'two  stage'\\n        approach  as  set  out  in  MF  (IAC)  or   in   contemplation   of\\n        consideration completely within the Rules, Strasbourg jurisprudence\\n        remains highly relevant. It is incorrect to characterise the First-\\n        tier Tribunal panel decision as having reached a perverse  decision\\n        under Article 8  either  because  of  a  failure  to  consider  the\\n        evidence before it or  to  place  adequate  weight  on  the  public\\n        interest or because the appeal failed under the Rules. It is  plain\\n        that the First-tier Tribunal panel took all of these  matters  into\\n        account. It states clearly that had it not  been  for  the  British\\n        Citizen child the appeal would have been dismissed; it  is  equally\\n        clear that the panel did not view the position of the  child  as  a\\n        trump card but  as  a  significant  factor  which  they  took  into\\n        account.\\n\\n\\n    24. It is the established role of the judiciary to assess evidence  and\\n        reach decisions in complex  cases  such  as  this  one.  The  Panel\\n        reached a decision which other Panels may not have reached but  was\\n        a decision that was reasonably open to them on the evidence  before\\n        them.\\n\\n          Conclusion:\\n\\n    The making of the decision of the First-tier Tribunal did  not  involve\\n    the making of an error on a point of law.\\n\\n     I do not set aside the decision\\n\\n    The appeal of the Secretary of State is dismissed and the  decision  by\\n    the First-tier Tribunal stands.\\n\\n    Anonymity\\n\\n\\n    The First-tier Tribunal made did not make an  order  pursuant  to  rule\\n    45(4)(i) of the Asylum and Immigration Tribunal (Procedure) Rules 2005.\\n\\n\\n\\n\\n\\n\\n\\n                                    Date\\nJudge of the Upper Tribunal Coker\\n\"\n",
      "}\n"
     ]
    }
   ],
   "source": [
    "print(json.dumps(data[32554], indent = 4, sort_keys = True))\n"
   ]
  },
  {
   "cell_type": "code",
   "execution_count": 71,
   "metadata": {},
   "outputs": [
    {
     "name": "stdout",
     "output_type": "stream",
     "text": [
      "{'Case title:': '', 'Appellant name:': '', 'Status of case:': 'Unreported', 'Hearing date:': '', 'Promulgation date:': '7 Nov 2013', 'Publication date:': '31 Dec 2013', 'Last updated on:': '31 Dec 2013', 'Country:': '', 'Judges:': ['Coker'], 'Document': 'https://moj-tribunals-documents-prod.s3.amazonaws.com/decision/doc_file/40016/DA009572013.doc', 'Reference': ['DA/00957/2013'], 'Download': 'Yes', 'File': 'DA009572013', 'String': '\\n\\n                                    [pic]\\nUpper Tribunal\\n(Immigration and Asylum Chamber)    Appeal Number: DA/00957/2012\\n\\n\\n                            THE IMMIGRATION ACTS\\n\\n\\n|Heard at Field House                          |Determination Promulgated    |\\n|On 25th October 2013                          |On 7th November 2013         |\\n|                                              |.............................|\\n|                                              |..........                   |\\n\\n\\n                                   Before\\n\\n                         UPPER TRIBUNAL JUDGE COKER\\n\\n                                   Between\\n\\n                 SECRETARY OF STATE FOR THE HOME DEPARTMENT\\n                                                                   Appellant\\n                                     and\\n\\n                              PRINCEWELL OLUOHA\\n                                                                  Respondent\\n\\nRepresentation:\\n\\nFor the Appellant:     Mr T Wilding, Senior Home Office Presenting Officer\\nFor the Respondent:    Ms N Manyarara, counsel, instructed by Freemans\\nSolicitors\\n\\n                          DETERMINATION AND REASONS\\n\\n   1. The Secretary of State appeals against a decision of a  panel  of  the\\n      First-tier Tribunal (Judge Beach sitting with Mr D R Bremmer JP, a non-\\n      legal member of the Tribunal) who, by a determination  promulgated  on\\n      3rd April 2013 allowed Mr Oluoha\\'s appeal against a  decision  of  the\\n      Secretary of State that he should be deported. That decision was  made\\n      by the Secretary of State  pursuant  to  the  \"automatic  deportation\"\\n      provisions of section 32 of the UK Borders Act 2007. That was because,\\n      Mr Oluoha, a Nigerian citizen date of birth 8th June 1976, had pleaded\\n      guilty to, been convicted of conspiracy to  contravene  s170(2)(b)  of\\n      the Customs and  Excise  Management  Act  1979  Conspiracy  to  import\\n      cocaine from Nigeria) and had been sentenced to 7 years  imprisonment.\\n      In November 2011, the  Home  Office  (Her  Majesty\\'s  Prison  Service)\\n      transferred him to an  open  prison  and  he  was  granted  increasing\\n      periods of resettlement day release and resettlement overnight release\\n      thus  enabling  him  to  cement  and   develop   an   already   strong\\n      relationship.\\n\\n\\n   2. The Secretary of State submitted  an  application  for  permission  to\\n      appeal some 6 weeks late. Although no explanation was given  for  such\\n      delay, time  was  extended  and  permission  granted  on  the  grounds\\n      asserted namely that the First-tier Tribunal panel had erred in  their\\n      assessment of Article 8.\\n\\n   3. The essence of the grounds relied upon by the Secretary of  State  and\\n      upon which permission was granted is as follows:\\n\\n   a. The First-tier Tribunal misdirected itself in law by  applying  a  two\\n      stage test, as derived from MF (Nigeria) [2012] UKUT 00393  (IAC).  It\\n      was asserted that the First-tier Tribunal should not have regarded the\\n      Immigration Rules as a starting point before moving  on  to  a  second\\n      free standing Article 8 assessment; if the  Tribunal  considered  that\\n      factors not addressed in paragraph 399 or  399A   merit  allowing  the\\n      deportation appeal it should have  considered  them  when  looking  at\\n      whether there were any exceptional circumstances under  paragraph  397\\n      or  398  such  that  the  consequences  of  deportation   produce   an\\n      unjustifiably harsh  outcome  incompatible  with  Article  8.  It  was\\n      asserted that had the First-tier Tribunal had regard to the nature and\\n      weight of public interest as expressed in the Rules and had the First-\\n      tier Tribunal adopted that approach it would have reached a  different\\n      conclusion.\\n   b. That the First-tier Tribunal had failed to provide adequate reasons as\\n      to why his British Citizen child could not relocate to  Nigeria  given\\n      he is only 3 years old; that there were no insurmountable obstacles or\\n      exceptional circumstances which prevent  Mr  Oluoha  and  his  partner\\n      relocating. It was submitted that the First-tier Tribunal  had  failed\\n      to provide any findings with  regards  to  Mr  Oluoha\\'s  risk  to  the\\n      public; that he had sought to minimise his involvement and had  failed\\n      to accept full responsibility for his actions.\\n\\n\\n     4. Since  permission  to  appeal  was  granted,  the  judgment  in  MF\\n        (Nigeria) v Secretary of State for the Home Department [2013]  EWCA\\n        Civ 1192 has been handed down.\\n\\n\\n      Factual matrix and findings by the First-tier Tribunal\\n\\n\\n     5. There is no dispute as to the factual matrix  to  this  appeal.  Mr\\n        Oluoha was previously married to a Greek national, the relationship\\n        having commenced when he was in Greece in 2002. He arrived  in  the\\n        UK on 9th September 2007 with leave to enter  as  a  student  until\\n        31st October 2008. He married his  Greek  wife  in  June  2008  and\\n        following an application made on 22nd October 2009  he  was  issued\\n        with a residence card on 24th September 2009 valid  until  December\\n        2014. That marriage broke down and had broken down at the  time  he\\n        received his residence card.\\n\\n\\n     6. He met his current partner in 2008; their relationship  started  in\\n        about March or April  2009  and  they  have  lived  together  since\\n        November 2009 when she ended the tenancy on her  own  accommodation\\n        although they had moved in together before that. They  had  at  the\\n        date of the  hearing  before  the  First-tier  Tribunal  one  child\\n        together, born 23rd February 2010 and his partner was pregnant;  as\\n        of the date of hearing before me the couple now have two children.\\n\\n     7. The First-tier Tribunal clearly recorded (in [40] and [41]) that Mr\\n        Oluoha had been sentenced to a period of imprisonment in excess  of\\n        4 years and set out the relevant parts of paragraph  398.  At  [41]\\n        the First-tier Tribunal went on to say\\n\\n\\n             Paragraphs 399 and 399A do not apply to the Appellant  because\\n             he does not fall within Paragraph 398  (b)  or  (c).  It  will\\n             therefore be only in exceptional circumstances that the public\\n             interest in deporting the  Appellant  will  be  outweighed  by\\n             other factors.\\n\\n     8.  In [53] the First-tier Tribunal finds that the couple have\\n\\n             ...sought to exaggerate the Appellant\\'s partner\\'s difficulties\\n             in being a single parent\\n\\n     9. On 9th February 2010 he was arrested. He  stated  in  his  evidence\\n        that he took responsibility for the crime;  that  he  hadn\\'t  known\\n        there were drugs in the packages  but  that  he  should  have  seen\\n        earlier that there was something wrong; he pleaded guilty and  said\\n        that the 7  year  sentence  was  a  consequence  of  his  error  of\\n        judgment. The First-tier Tribunal refers to the OASYS report before\\n        them in [51] as follows\\n\\n             .....In  the  recent  OASYS  report  the  Appellant  seeks  to\\n             minimise his involvement in the offence by stating that he was\\n             unaware  that  the  package  contained  drugs.  There  was  no\\n             evidence before us to suggest that the Appellant was sentenced\\n             on that basis and indeed the Appellant did not seek to suggest\\n             that was the case. This is of concern as it strongly  suggests\\n             that the Appellant has failed to  accept  full  responsibility\\n             for his offence and this may have had an impact on the outcome\\n             of the OAsys report which appears to  have  proceeded  on  the\\n             basis  that  what  the  appellant  stated  about  not   having\\n             knowledge of the contents of the packages was true and was the\\n             basis upon which he was convicted.\\n\\n\\n\\n    10. In [52] the First-tier Tribunal  refers  to  Mr  Oluoha\\'s  time  in\\n        prison, work outside prison, community voluntary work and that\\n\\n\\n             .....These factors all show that the Appellant  is  considered\\n             by the prison authorities to be a prisoner who can be trusted.\\n             It also suggests that the  Appellant  has  used  his  time  in\\n             prison constructively.\\n\\n\\n    11. He has been in an open prison since November  2011;  he  went  home\\n        five days in every 28 and was on day release alternate weekends; he\\n        is currently on licence and on immigration bail.\\n\\n    12. Prior to his imprisonment he had worked and studied. When  detained\\n        in prison his partner and child used some of his savings and he was\\n        still owed money from his previous employment. Whilst  detained  he\\n        was one of 25 prisoners who had earned the privilege of working and\\n        was supporting his wife and child on a weekly basis.\\n\\n    13. He has a widowed mother in Nigeria,  a  sister  in  Holland  and  a\\n        sister in Canada. The First-tier Tribunal found that Mr Oluoha  had\\n        close relatives in Nigeria who may well be able to  assist  in  the\\n        short term and that he had obtained qualifications in the UK  which\\n        he could use to help him re-establish himself in Nigeria. The First-\\n        tier Tribunal goes on to say in [54]\\n\\n             Of course, the Appellant\\'s partner would prefer to  remain  in\\n             the UK but this does not automatically  mean  that  there  are\\n             exceptional circumstances in terms of deportation.\\n\\n    14. His partner works part time as a teaching assistant  in  a  primary\\n        school in Southampton. Her unchallenged evidence was that she  knew\\n        of  Mr  Oluoha\\'s  conviction  and  that  it  was  related  to  drug\\n        importation. She said she could not go to Nigeria for fear  of  the\\n        consequences to her and her child\\'s safety and health. Her  widowed\\n        mother, who lives about 1 � hours away, is retired and her  sister,\\n        who lives about 2 � hours away has recently  been  made  redundant.\\n        There were very limited job opportunities for her near her mother.\\n\\n\\n    15. In [55] the First-tier Tribunal found\\n\\n             ....We do not find it credible ...that the Appellant would not\\n             have realised that he should have informed the Home Office  of\\n             his change in circumstances [the breakdown of his marriage  to\\n             his Greek wife]....the Appellant  deliberately  chose  not  to\\n             inform the Home Office of his change in circumstances  because\\n             he would then have been without any status in the UK...\\n\\n\\n    16. In [56] the First-tier Tribunal found that the  Appellant  had  not\\n        shown there were exceptional circumstances  under  the  Immigration\\n        Rules and went on to say in [57] that the\\n\\n\\n             ...Appellant cannot fulfil the Immigration Rules  relating  to\\n             article 8. In  line  with  MF  we  find  that  where  ...  the\\n             Appellant cannot meet  the  requirements  of  the  Immigration\\n             Rules but raises Article 8 in his grounds of appeal,  we  must\\n             still consider Article 8 as a separate legal entity  from  the\\n             Immigration Rules.\\n\\n\\n    17.  The  First-tier  Tribunal   then   went   on   to   consider   the\\n        proportionality of the deportation of the appellant \"under  Article\\n        8\" and said as follows\\n\\n\\n             63. The Appellant has been convicted of a serious  offence  and\\n                 received a lengthy prison  sentence.  There  are  important\\n                 public interest issues in this matter  including  the  need\\n                 for deterrence.\\n             64. Balanced against this is the fact  that  the  Appellant  is\\n                 considered to be at low risk of reoffending and that he has\\n                 undertaken courses whilst in prison. He is also  considered\\n                 to be a trusted prisoner by the prison authorities  and  is\\n                 allowed on home visits and to undertake  work  outside  the\\n                 prison.\\n             65. .... It has been accepted in  ZH  that  it  will  often  be\\n                 unreasonable to expect a British national  child  to  leave\\n                 the UK to be with a foreign national parent as it will mean\\n                 a consequent loss of the benefits which  being  British  in\\n                 Britain  brings  to  a  child......we  accept   that   this\\n                 [relocation]    would    be    difficult    although    not\\n                 insurmountable...... Whilst she [the child] is young enough\\n                 to adapt to life in Nigeria she is a British  national  and\\n                 this carries considerable weight. We find it would  not  be\\n                 reasonable to expect the Appellant\\'s child to  relocate  to\\n                 Nigeria. In  those  circumstances  it  would  also  not  be\\n                 reasonable to expect the Appellant\\'s partner to relocate to\\n                 Nigeria because otherwise their child would be left without\\n                 any parents.\\n             66. We  take  account  of  the  significant  role  that  public\\n                 interest plays in  assessing  Article  8  claims.  Were  it\\n                 simply the Appellant\\'s rights under Article 8 that  we  had\\n                 to consider or even those of just  the  Appellant  and  his\\n                 partner,  then  we  would  find  that  the  Respondent  was\\n                 justified in deporting the  Appellant  given  his  history.\\n                 However we must also take account  of  the  effect  on  the\\n                 Appellant\\'s  daughter  and  their  unborn  child.....  Even\\n                 taking account of the fact that the Appellant\\'s involvement\\n                 with his daughter was to some extent likely  to  have  been\\n                 exaggerated given that the Appellant\\'s partner is the  full\\n                 time carer and the Appellant is  necessarily  a  part  time\\n                 carer given his current situation, we find that it is clear\\n                 from the Appellant\\'s partner\\'s evidence that the  Appellant\\n                 plays a significant role in his daughter\\'s life when he  is\\n                 on home release......\\n             67. This case is very finely balanced. However we find that  he\\n                 Appellant\\'s daughter\\'s relationship with the  Appellant  is\\n                 just  of  sufficient  importance  and  significance  as  to\\n                 outweigh the public interest. .....In making this decision,\\n                 we note that the case law in relation to Article 8  clearly\\n                 states that the Appellant does not need to show exceptional\\n                 circumstances  and  that  his   case   can   therefore   be\\n                 distinguished from the Immigration rules.\\n\\n\\n     MF (Nigeria) v SSHD [2013] EWCA Civ 1192\\n\\n    18. MF (Nigeria) considers the question of the circumstances  in  which\\n        the deportation of a foreign criminal is  contrary  to  Article  8.\\n        Until paragraphs 398, 399 and 399A of the  Immigration  Rules  were\\n        introduced the issue was  governed  entirely  by  caselaw;  caselaw\\n        involved two stages: the first to determine whether the decision is\\n        in  accordance  with  the  Immigration  Rules  and  the  second  to\\n        determine whether the  decision  is  contrary  to  the  appellant\\'s\\n        Article 8 rights. It was against that background that MF  (Nigeria)\\n        considers the proper  interpretation  of  the  current  Immigration\\n        Rules.\\n    19. In [36] the Court says\\n\\n\\n             What is the position where paras 399 and  399A  do  not  apply\\n             either because the case falls within para 398(a)  or  because,\\n             although it falls within para  398(b)  or  (c),  none  of  the\\n             conditions set out in para 399 (a) or (b) or para 399A (a)  or\\n             (b) applies? The new rules provide that  in  that  event,  \"it\\n             will only be in  exceptional  circumstances  that  the  public\\n             interest  in  deportation  will   be   outweighed   by   other\\n             factors\".....\\n\\n\\n    20. The Secretary of State in MF (Nigeria)  made  clear  that  the  new\\n        rules  were  not  intended  to  herald   a   restoration   of   the\\n        \"exceptionality  test\"  and  that  they   should   be   interpreted\\n        consistently with the Strasbourg jurisprudence [39]. The court went\\n        on to say [39] that\\n\\n\\n             ..... the rules expressly contemplate a weighing of the public\\n             interest in deportation against \"other factors\". In our  view,\\n             this must be a  reference  to  all  other  factors  which  are\\n             relevant  to   proportionality   and   entails   an   implicit\\n             requirement that they are to be taken into account.\\n\\n\\n\\n\\n    21.  The Court accepted the Secretary of States  submission  [41]  that\\n        the reference in the rules to exceptional circumstances \"serves the\\n        purpose of emphasising  that,  in  the  balancing  exercise,  great\\n        weight should be given to the public interest in deporting  foreign\\n        criminals who do not satisfy paras 398 and 399 or 399A. It is  only\\n        exceptionally that such foreign criminals will succeed  in  showing\\n        that their rights under Article 8(1) trump the public  interest  in\\n        deportation.\" It went on to say\\n\\n\\n             43. The word \"exceptional\" is often used to denote a  departure\\n                 from a general  rule.  The  general  rule  in  the  present\\n                 context is that in the case of a foreign prisoner  to  whom\\n                 paras 399 and 399A do not apply,  very  compelling  reasons\\n                 will  be  required  to  outweigh  the  public  interest  in\\n                 deportation. These compelling reasons are the  \"exceptional\\n                 circumstances\".\\n             44. .... the new  rules  are  a  complete  code  and  that  the\\n                 exceptional circumstances to be considered in the balancing\\n                 exercise involve the application of a proportionality  test\\n                 as required by the Strasbourg jurisprudence....\\n             45. Even if we were wrong about that it would be  necessary  to\\n                 apply a proportionality test outside the new rules  as  was\\n                 done by the UT. Either way the result should be  the  same.\\n                 Either  way  the  result  should  be  the  same.  In  these\\n                 circumstances, it is a sterile  question  whether  this  is\\n                 required by the new rules or it is  a  requirement  of  the\\n                 general law. What matters is that  it  is  required  to  be\\n                 carried out if paras 399 or 399A do not apply.\\n             46. There has been debate as to whether there is a one stage or\\n                 two stage test.  If the claimant succeeds on an application\\n                 of the new rules at the first hurdle ie he shows that  para\\n                 399 or 399A applies, then  it  can  be  said  that  he  has\\n                 succeeded on a one stage test.  But if he does not,  it  is\\n                 necessary to consider whether there are circumstances which\\n                 are sufficiently compelling (and therefore exceptional)  to\\n                 outweigh the public interest in deportation.   That  is  an\\n                 exercise which is separate from a consideration of  whether\\n                 para 399 or 399A applies.  It is the second part of  a  two\\n                 stage approach which, for the reasons  we  have  given,  is\\n                 required by the new rules.  The UT concluded (para 41) that\\n                 it is required because the new rules do not  fully  reflect\\n                 Strasbourg jurisprudence.  But either way, it is  necessary\\n                 to carry out a two stage process.\\n                  ......\\n             49. .... We would observe that, if  \"insurmountable\"  obstacles\\n                 are literally obstacles which it is impossible to surmount,\\n                 their scope is  very  limited  indeed.   We  shall  confine\\n                 ourselves to saying that we incline to the view  that,  for\\n                 the reasons stated in detail by the UT in Izuazu  at  paras\\n                 53 to 59, such a stringent approach would  be  contrary  to\\n                 article 8.\\n\\n\\n      The Secretary of State\\'s case\\n\\n\\n    22. MF (Nigeria) points out that the position of the Secretary of State\\n        as to the meaning of the rules and how they should be  applied  has\\n        not always been  easy  to  understand.  In  the  present  case  the\\n        Secretary of State relied upon SS (Nigeria) [2013] EWCA Civ 550 and\\n        Richards [2013] EWCA Civ 244  as  precursors  to  MF  Nigeria.  She\\n        submitted that legislative weight is to be attached to  the  strong\\n        public  interest  in  deporting  foreign  criminals   rather   than\\n        considering this as mere executive policy. She submitted  that  the\\n        First-tier Tribunal had failed to show that they had grappled  with\\n        the significance  of  the  crime  for  which  Mr  Oluoha  had  been\\n        convicted; that the references in [63] and [66] of  the  First-tier\\n        Tribunal determination were simply  inadequate.  It  was  submitted\\n        that where the decision had been taken under the 2007 Act there  is\\n        a greater requirement upon the claimant to show that  the  decision\\n        was disproportionate and that  in the present case  the  child  had\\n        been the determining factor. It was submitted that  the  First-tier\\n        Tribunal had failed to provide any analysis but  had  merely  noted\\n        them, that there were significant credibility issues that  had  not\\n        been addressed and that the First-tier Tribunal had  simply  failed\\n        to weigh in  the  other  factors  as  required  in  reaching  their\\n        assessment. It was submitted that  although  the  rules  assessment\\n        reflected the great weight placed upon the  public  interest,  the,\\n        what could be termed, \"Razgar\" assessment failed to do this.\\n\\n\\n      Decision\\n\\n    23. The First-tier Tribunal Panel  decision  sets  out  in  detail  its\\n        conclusions on the  evidence  before  it.  It  draws  attention  to\\n        evidence which leads to  conclusions  adverse  to  Mr  Oluoha,  for\\n        example the availability of relatives in  Nigeria  to  assist,  the\\n        acceptance of responsibility for the crime and the ability  of  his\\n        partner  to  cope  as  a  single  parent.   Although   inaccurately\\n        formulated in the determination as three steps - the Rules, whether\\n        there were exceptional circumstances and  then  Article  8,  it  is\\n        plain  that  this  experienced  panel  has  at  each  step  in  its\\n        consideration  taken  full  account  of  all  relevant  matters  in\\n        reaching its decision.  The Court of Appeal  in  MF  (Nigeria)  has\\n        explained that in reaching a decision whether as per a \\'two  stage\\'\\n        approach  as  set  out  in  MF  (IAC)  or   in   contemplation   of\\n        consideration completely within the Rules, Strasbourg jurisprudence\\n        remains highly relevant. It is incorrect to characterise the First-\\n        tier Tribunal panel decision as having reached a perverse  decision\\n        under Article 8  either  because  of  a  failure  to  consider  the\\n        evidence before it or  to  place  adequate  weight  on  the  public\\n        interest or because the appeal failed under the Rules. It is  plain\\n        that the First-tier Tribunal panel took all of these  matters  into\\n        account. It states clearly that had it not  been  for  the  British\\n        Citizen child the appeal would have been dismissed; it  is  equally\\n        clear that the panel did not view the position of the  child  as  a\\n        trump card but  as  a  significant  factor  which  they  took  into\\n        account.\\n\\n\\n    24. It is the established role of the judiciary to assess evidence  and\\n        reach decisions in complex  cases  such  as  this  one.  The  Panel\\n        reached a decision which other Panels may not have reached but  was\\n        a decision that was reasonably open to them on the evidence  before\\n        them.\\n\\n          Conclusion:\\n\\n    The making of the decision of the First-tier Tribunal did  not  involve\\n    the making of an error on a point of law.\\n\\n     I do not set aside the decision\\n\\n    The appeal of the Secretary of State is dismissed and the  decision  by\\n    the First-tier Tribunal stands.\\n\\n    Anonymity\\n\\n\\n    The First-tier Tribunal made did not make an  order  pursuant  to  rule\\n    45(4)(i) of the Asylum and Immigration Tribunal (Procedure) Rules 2005.\\n\\n\\n\\n\\n\\n\\n\\n                                    Date\\nJudge of the Upper Tribunal Coker\\n', 'ID': '3d930783-7e25-402d-9488-c1db2916279a', 'Code label:': 'DA', 'Heard at:': 'Field House', 'Decision:': nan}\n"
     ]
    }
   ],
   "source": [
    "print(data[32554])"
   ]
  },
  {
   "cell_type": "markdown",
   "metadata": {},
   "source": [
    "# 7. Sense of the decision.\n",
    "\n",
    "The decision has been isolated. However, no information on whether the sentence accepts/rejects or is neutral."
   ]
  },
  {
   "cell_type": "code",
   "execution_count": null,
   "metadata": {},
   "outputs": [],
   "source": [
    "# Sense of decision depends on the appellent. If appellent is home office, then... The decision of the First-tier Tribunal did not involve the  making  of an error of law and I uphold it\n",
    "# is accepted, otherwise is rejected.\n",
    "\n",
    "# Rejected\n",
    "The appeal is dismissed\n",
    "The decision of the First-tier Tribunal stands\n",
    "not involve an error on \n",
    "not satisfied that  the  judge  erred \n",
    "decision stands\n",
    "did  not  involve  the making of a material error on a point of law\n",
    "I do not set aside the decision but order that it shall stand\n",
    "appeal is dismissed\n",
    "\n",
    "# Accepted\n",
    "The First-tier Tribunal erred in law\n",
    "I have remade the decision\n",
    "is set aside\n",
    "The appeal, as brought by the appellant to the First-tier  Tribunal,  is allowed.\n",
    "the appeal is remade and I allow the appeal\n",
    "Appeals allowed\n",
    "It  is  set  aside\n",
    "I allow the claimant's appeal\n",
    "The decision of the First-tier Tribunal has already  been  set  aside\n",
    "The original decision shall stand\n",
    "set aside the decision\n",
    "is set aside\n",
    "\n",
    "decision allowing the appeal on humanitarian protection grounds, as well as on human rights grounds\n",
    "\n",
    "# Neutral\n",
    "else\n",
    "\n"
   ]
  },
  {
   "cell_type": "markdown",
   "metadata": {},
   "source": [
    "# 8. Nationality of the appellant. \n",
    "The field country is empty to a large extent."
   ]
  },
  {
   "cell_type": "code",
   "execution_count": 182,
   "metadata": {},
   "outputs": [],
   "source": [
    "# Function to capture if all elements exist in a specific order in a list\n",
    "def sublist(sublist, lst):\n",
    "    \"\"\"\n",
    "    Given a list of sentences/lists all_exist checks whether avalue list exists in bvalue\n",
    "\n",
    "    :sublist: list to search\n",
    "    :lst: list to be searched\n",
    "    :return: the list with the match\n",
    "    \"\"\"\n",
    "    if not isinstance(sublist, list):\n",
    "        raise ValueError(\"sublist must be a list\")\n",
    "    if not isinstance(lst, list):\n",
    "        raise ValueError(\"lst must be a list\")\n",
    "\n",
    "    sublist_len = len(sublist)\n",
    "    k=0\n",
    "    s=None\n",
    "\n",
    "    if (sublist_len > len(lst)):\n",
    "        return False\n",
    "    elif (sublist_len == 0):\n",
    "        return True\n",
    "\n",
    "    for x in lst:\n",
    "        if x == sublist[k]:\n",
    "            if (k == 0): s = x\n",
    "            elif (x != s): s = None\n",
    "            k += 1\n",
    "            if k == sublist_len:\n",
    "                return True\n",
    "        elif k > 0 and sublist[k-1] != s:\n",
    "            k = 0\n",
    "\n",
    "    return False\n",
    "\n",
    "countries = ['Afghanistan', 'Aland Islands', 'Albania', 'Algeria', 'American Samoa', 'Andorra', 'Angola', 'Anguilla', 'Antarctica', 'Antigua', 'Antigua and Barbuda', 'Argentina', 'Armenia', 'Aruba', 'Australia', 'Austria', 'Azerbaijan', 'Bahamas', 'Bahrain', 'Bangladesh', 'Barbados', 'Belarus', 'Belgium', 'Belize', 'Benin', 'Bermuda', 'Bhutan', 'Bolivia', 'Bolivia, Plurinational State of', 'Bonaire', 'Bonaire, Sint Eustatius and Saba', 'Bosnia and Herzegovina', 'Botswana', 'Bouvet Island', 'Brazil', 'British Indian Ocean Territory', 'Brunei Darussalam', 'Bulgaria', 'Burkina Faso', 'Burundi', 'Cambodia', 'Cameroon', 'Canada', 'Cape Verde', 'Cayman Islands', 'Central African Republic', 'Chad', 'Chile', 'China', 'Christmas Island', 'Cocos (Keeling) Islands', 'Colombia', 'Comoros', 'Congo', 'Congo, The Democratic Republic of the', 'Congo', 'Cook Islands', 'Costa Rica', \"Côte d'Ivoire\", 'Croatia', 'Cuba', 'Curaçao', 'Cyprus', 'Czech Republic', 'Denmark', 'Djibouti', 'Dominica', 'Dominican Republic', 'Ecuador', 'Egypt', 'El Salvador', 'Equatorial Guinea', 'Eritrea', 'Estonia', 'Ethiopia', 'Falkland Islands (Malvinas)', 'Faroe Islands', 'Fiji', 'Finland', 'France', 'French Guiana', 'French Polynesia', 'French Southern Territories', 'Gabon', 'Gambia', 'Georgia', 'Germany', 'Ghana', 'Gibraltar', 'Greece', 'Greenland', 'Grenada', 'Guadeloupe', 'Guam', 'Guatemala', 'Guernsey', 'Guinea', 'Guinea-Bissau', 'Guyana', 'Haiti', 'Heard Island and McDonald Islands', 'Holy See (Vatican City State)', 'Honduras', 'Hong Kong', 'Hungary', 'Iceland', 'India', 'Indonesia', 'Iran, Islamic Republic of', 'Iraq', 'Ireland', 'Isle of Man', 'Israel', 'Italy', 'Jamaica', 'Japan', 'Jersey', 'Jordan', 'Kazakhstan', 'Kenya', 'Kiribati', \"Korea, Democratic People's Republic of\", 'Korea, Republic of', 'Kuwait', 'Kyrgyzstan', \"Lao People's Democratic Republic\", 'Latvia', 'Lebanon', 'Lesotho', 'Liberia', 'Libya', 'Liechtenstein', 'Lithuania', 'Luxembourg', 'Macao', 'Macedonia, Republic of', 'Madagascar', 'Malawi', 'Malaysia', 'Maldives', 'Mali', 'Malta', 'Marshall Islands', 'Martinique', 'Mauritania', 'Mauritius', 'Mayotte', 'Mexico', 'Micronesia, Federated States of', 'Micronesia', 'Moldova, Republic of', 'Moldova', 'Monaco', 'Mongolia', 'Montenegro', 'Montserrat', 'Morocco', 'Mozambique', 'Myanmar', 'Namibia', 'Nauru', 'Nepal', 'Netherlands', 'New Caledonia', 'New Zealand', 'Nicaragua', 'Niger', 'Nigeria', 'Niue', 'Norfolk Island', 'Northern Mariana Islands', 'Norway', 'Oman', 'Pakistan', 'Palau', 'Palestinian Territory, Occupied', 'Palestine', 'Panama', 'Papua New Guinea', 'Paraguay', 'Peru', 'Philippines', 'Pitcairn', 'Poland', 'Portugal', 'Puerto Rico', 'Qatar', 'Réunion', 'Romania', 'Russian Federation', 'Russia', 'Rwanda', 'Saint Barthélemy', 'Saint Helena, Ascension and Tristan da Cunha', 'Saint Kitts and Nevis', 'Saint Lucia', 'Saint Martin (French part)', 'Saint Pierre and Miquelon', 'Saint Vincent and the Grenadines', 'Samoa', 'San Marino', 'Sao Tome and Principe', 'Saudi Arabia', 'Senegal', 'Serbia', 'Seychelles', 'Sierra Leone', 'Singapore', 'Sint Maarten (Dutch part)', 'Slovakia', 'Slovenia', 'Solomon Islands', 'Somalia', 'South Africa', 'South Georgia and the South Sandwich Islands', 'Spain', 'Sri Lanka', 'Sudan', 'Suriname', 'South Sudan', 'Svalbard and Jan Mayen', 'Swaziland', 'Sweden', 'Switzerland', 'Syria', 'Syrian Arab Republic', 'Taiwan', 'Taiwan, Province of China', 'Tajikistan', 'Tanzania', 'Tanzania, United Republic of', 'Thailand', 'Timor-Leste', 'Togo', 'Tokelau', 'Tonga', 'Trinidad and Tobago', 'Tunisia', 'Turkey', 'Turkmenistan', 'Turks and Caicos Islands', 'Tuvalu', 'Uganda', 'Ukraine', 'United Arab Emirates', 'United States', 'United States Minor Outlying Islands', 'Uruguay', 'Uzbekistan', 'Vanuatu', 'Venezuela', 'Venezuela, Bolivarian Republic of', 'Vietnam', 'Viet Nam', 'Virgin Islands, British', 'Virgin Islands, U.S.', 'Wallis and Futuna', 'Yemen', 'Zambia', 'Zimbabwe', 'Pakistani', 'Iranian', 'Bangladeshi', 'Indian', 'Egyptian', 'Afghan', 'Albanian', 'Algerian', 'American', 'Andorran', 'Angolan', 'Antiguans', 'Argentinean', 'Armenian', 'Australian', 'Austrian', 'Azerbaijani', 'Bahamian', 'Bahraini', 'Bangladeshi', 'Barbadian', 'Barbudans', 'Batswana', 'Belarusian', 'Belgian', 'Belizean', 'Beninese', 'Bhutanese', 'Bolivian', 'Bosnian', 'Brazilian', 'Bruneian', 'Bulgarian', 'Burkinabe', 'Burmese', 'Burundian', 'Cambodian', 'Cameroonian', 'Canadian', 'Cape Verdean', 'Central African', 'Chadian', 'Chilean', 'Chinese', 'Colombian', 'Comoran', 'Congolese', 'Costa Rican', 'Croatian', 'Cuban', 'Cypriot', 'Czech', 'Danish', 'Djibouti', 'Dominican', 'Dutch', 'Dutchman', 'Dutchwoman', 'East Timorese', 'Ecuadorean', 'Egyptian', 'Emirian', 'Equatorial Guinean', 'Eritrean', 'Estonian', 'Ethiopian', 'Fijian', 'Filipino', 'Finnish', 'French', 'Gabonese', 'Gambian', 'Georgian', 'German', 'Ghanaian', 'Greek', 'Grenadian', 'Guatemalan', 'Guinea-Bissauan', 'Guinean', 'Guyanese', 'Haitian', 'Herzegovinian', 'Honduran', 'Hungarian', 'I-Kiribati', 'Icelander', 'Indian', 'Indonesian', 'Iranian', 'Iraqi', 'Irish', 'Israeli', 'Italian', 'Ivorian', 'Jamaican', 'Japanese', 'Jordanian', 'Kazakhstani', 'Kenyan', 'Kittian and Nevisian', 'Kuwaiti', 'Kyrgyz', 'Laotian', 'Latvian', 'Lebanese', 'Liberian', 'Libyan', 'Liechtensteiner', 'Lithuanian', 'Luxembourger', 'Macedonian', 'Malagasy', 'Malawian', 'Malaysian', 'Maldivan', 'Malian', 'Maltese', 'Marshallese', 'Mauritanian', 'Mauritian', 'Mexican', 'Micronesian', 'Moldovan', 'Monacan', 'Mongolian', 'Moroccan', 'Mosotho', 'Motswana', 'Mozambican', 'Namibian', 'Nauruan', 'Nepalese', 'Netherlander', 'New Zealander', 'Ni-Vanuatu', 'Nicaraguan', 'Nigerian', 'Nigerien', 'North Korean', 'Northern Irish', 'Norwegian', 'Omani', 'Pakistani', 'Palauan', 'Panamanian', 'Papua New Guinean', 'Paraguayan', 'Peruvian', 'Polish', 'Portuguese', 'Qatari', 'Romanian', 'Russian', 'Rwandan', 'Saint Lucian', 'Salvadoran', 'Samoan', 'San Marinese', 'Sao Tomean', 'Saudi', 'Scottish', 'Senegalese', 'Serbian', 'Seychellois', 'Sierra Leonean', 'Singaporean', 'Slovakian', 'Slovenian', 'Solomon Islander', 'Somali', 'South African', 'South Korean', 'Spanish', 'Sri Lankan', 'Sudanese', 'Surinamer', 'Swazi', 'Swedish', 'Swiss', 'Syrian', 'Taiwanese', 'Tajik', 'Tanzanian', 'Thai', 'Togolese', 'Tongan', 'Trinidadian or Tobagonian', 'Tunisian', 'Turkish', 'Tuvaluan', 'Ugandan', 'Ukrainian', 'Uruguayan', 'Uzbekistani', 'Venezuelan', 'Vietnamese', 'Welsh', 'Yemenite', 'Zambian', 'Zimbabwean']\n",
    "countriesLower = [x.lower() for x in countries]\n",
    "#print(countriesLower)"
   ]
  },
  {
   "cell_type": "code",
   "execution_count": 183,
   "metadata": {},
   "outputs": [
    {
     "name": "stderr",
     "output_type": "stream",
     "text": [
      "2021-11-14 18:00:58 INFO: Loading these models for language: en (English):\n",
      "========================\n",
      "| Processor | Package  |\n",
      "------------------------\n",
      "| tokenize  | combined |\n",
      "========================\n",
      "\n",
      "2021-11-14 18:00:58 INFO: Use device: cpu\n",
      "2021-11-14 18:00:58 INFO: Loading: tokenize\n",
      "2021-11-14 18:00:58 INFO: Done loading processors!\n",
      "100%|██████████| 35305/35305 [5:04:39<00:00,  1.93it/s]\n"
     ]
    }
   ],
   "source": [
    "# Store decisions in a list to make a df\n",
    "nationalities = []\n",
    "files = []\n",
    "\n",
    "# nlp sentence tokenizer with Stanford\n",
    "nlp = stanza.Pipeline(lang = 'en', processors = 'tokenize', tokenize_no_ssplit = True)\n",
    "\n",
    "# Open jsonData file as data\n",
    "with open('./data/jsonDataFinal.json') as json_file:\n",
    "    data = json.load(json_file)\n",
    "\n",
    "# Loop over each text file and extract Court information\n",
    "for decision in tqdm(data):\n",
    "    # Obtain the full text of the court decision\n",
    "    string = decision.get('String')\n",
    "    file_name = decision.get('File')\n",
    "    files.append(file_name)\n",
    "\n",
    "    # Use only first third of text\n",
    "    string = string[:len(string)//3]\n",
    "    # All text in lower\n",
    "    string = string.lower()\n",
    "\n",
    "    # Apply stanford nlp\n",
    "    doc = nlp(string)\n",
    "\n",
    "    # List to store the ruling sentences\n",
    "    catch = []\n",
    "\n",
    "    # Make sentences\n",
    "    for i, sentence in enumerate(doc.sentences):\n",
    "        sente = [token.text for token in sentence.tokens]\n",
    "        # Keep only the alpha tokens\n",
    "        sente = [e for e in sente if e.isalpha()]\n",
    "        #print(type(sente))\n",
    "        catch.append(sente)\n",
    "            \n",
    "    # If a decision has not been found yet (flag = 0)\n",
    "    # Look for partial hits in text \n",
    "    nationality_leads_part = [['the', 'appellant', 'is', 'a', 'national', 'of'], ['the', 'appellant', 'is', 'a', 'citizen', 'of'],\n",
    "    ['the', 'respondent', 'is', 'a', 'citizen', 'of'], ['the', 'appellants', 'are', 'all', 'citizens', 'of'], ['citizen', 'of'],\n",
    "    ['national', 'of'], ['citizens', 'of']]\n",
    "    \n",
    "    # Flag = 1 when nationality is found in catch\n",
    "    flag = 0\n",
    "\n",
    "    for element in catch:\n",
    "        for part in nationality_leads_part:\n",
    "            idx_part = nationality_leads_part.index(part)\n",
    "            if sublist(nationality_leads_part[idx_part], element):\n",
    "                #print(nationality_leads_part[idx_part])\n",
    "                index = catch.index(element)\n",
    "                # Nationality lead found in catch\n",
    "                #flag = 1\n",
    "                # Remove sentences before the decision lead sentence\n",
    "                new_catch = catch[index]\n",
    "                # flag2 = 1 when nationality is found in 1\n",
    "                for token in new_catch:\n",
    "                    #indx_country = countriesLower.index(country)\n",
    "                    if sublist([token], countriesLower):\n",
    "                        #print(f'FOUND A NATIONALITY {token} in {file_name}')\n",
    "                        flag = 1\n",
    "                        nationalities.append(token)\n",
    "                        decision.update({'Nationality:': token})\n",
    "                        break\n",
    "                    else:\n",
    "                        \n",
    "                        continue\n",
    "                    break\n",
    "\n",
    "            if flag == 1:\n",
    "                break\n",
    "                    #print(f'Did not find a nationality in {catch}')\n",
    "\n",
    "                        #indx = catch.index(country)\n",
    "                        #print(countriesLower[indx])\n",
    "                # Flatten the list of lists/sentences\n",
    "                #catch = [item for sublist in catch for item in sublist]\n",
    "                #catch = ' '.join(catch)\n",
    "                #print('Found nationality 2')\n",
    "                #print(flat_catch)\n",
    "                #print(catch)\n",
    "                # Load the model\n",
    "                #nlp = spacy.load(\"en_core_web_sm\")\n",
    "                #catch_spacy = nlp(catch)\n",
    "                #for ent in catch_spacy.ents:    \n",
    "                    # check if entity is equal 'LOC' or 'GPE'\n",
    "                #    if ent.label_ in ['GPE']:\n",
    "                #        print(ent.text, ent.label_)  \n",
    "                #break\n",
    "            #else:\n",
    "            #    continue\n",
    "        if flag == 1:\n",
    "            break   \n",
    "    # If a decision has still not been found (flag = 0)\n",
    "    if flag == 0:\n",
    "        #print(f'Did not find a nationality {file_name} in catch: {catch}')\n",
    "        nationalities.append(np.nan)\n",
    "        decision.update({'Nationality:': np.nan})\n",
    "        #print('Did not find a decision')\n",
    "        #print(catch)\n",
    "    else:\n",
    "            # Store decision in decisions list\n",
    "            #nationalities.append(flat_catch)\n",
    "            #decision.update({'Decision:': flat_catch})\n",
    "        continue\n",
    "\n",
    "# Save data as a json file jsonDataFinal in data directory\n",
    "with open('./data/jsonDataFinal.json', 'w') as fout:\n",
    "    json.dump(data, fout)\n",
    "\n"
   ]
  },
  {
   "cell_type": "code",
   "execution_count": 184,
   "metadata": {},
   "outputs": [
    {
     "name": "stdout",
     "output_type": "stream",
     "text": [
      "35305\n",
      "35305\n"
     ]
    },
    {
     "data": {
      "text/plain": [
       "File               0\n",
       "Nationality    12537\n",
       "dtype: int64"
      ]
     },
     "execution_count": 184,
     "metadata": {},
     "output_type": "execute_result"
    }
   ],
   "source": [
    "print(len(files))\n",
    "print(len(nationalities))\n",
    "#print(nationalities)\n",
    "dict_nationalities = {'File':files,'Nationality':nationalities}\n",
    "\n",
    "df = pd.DataFrame(dict_nationalities, columns=['File','Nationality'])\n",
    "df.isna().sum()\n",
    "\n",
    "\n"
   ]
  },
  {
   "cell_type": "code",
   "execution_count": 175,
   "metadata": {},
   "outputs": [],
   "source": [
    "# look for it in first half of string\n",
    "# GPE Countries, cities, states.\n",
    "# LOC Non-GPE locations, mountain ranges, bodies of water.\n",
    "#\n",
    "sp = spacy.load(\"en_core_web_sm\")\n",
    "# loop over every row in the 'Bio' column\n",
    "for text in df['Bio'].tolist():\n",
    "    # use spacy to extract the entities\n",
    "    doc = sp(text)\n",
    "    for ent in doc.ents:    \n",
    "        # check if entity is equal 'LOC' or 'GPE'\n",
    "        if ent.label_ in ['GPE']:\n",
    "            print(ent.text, ent.label_)  "
   ]
  },
  {
   "cell_type": "markdown",
   "metadata": {},
   "source": [
    "# 9. Key word extraction"
   ]
  },
  {
   "cell_type": "code",
   "execution_count": 186,
   "metadata": {},
   "outputs": [
    {
     "name": "stdout",
     "output_type": "stream",
     "text": [
      "35305\n",
      "35305\n"
     ]
    },
    {
     "data": {
      "text/plain": [
       "File               0\n",
       "Nationality    12537\n",
       "dtype: int64"
      ]
     },
     "execution_count": 186,
     "metadata": {},
     "output_type": "execute_result"
    }
   ],
   "source": [
    "print(len(files))\n",
    "print(len(nationalities))\n",
    "dict_nationalities = {'File':files,'Nationality':nationalities}\n",
    "\n",
    "df = pd.DataFrame(dict_nationalities, columns=['File','Nationality'])\n",
    "df.isna().sum()\n",
    "\n",
    "\n"
   ]
  },
  {
   "cell_type": "markdown",
   "metadata": {},
   "source": [
    "Decisions \n",
    "https://docs.microsoft.com/en-us/dotnet/api/system.text.regularexpressions.match?view=net-5.0"
   ]
  },
  {
   "cell_type": "code",
   "execution_count": null,
   "metadata": {},
   "outputs": [],
   "source": [
    "# Extraction of decisions\n",
    "\n",
    "https://research.iclr.co.uk/blog/blackstone-goes-live\n",
    "\n",
    "\n",
    "# keyword extraction for issues in strategies\n",
    "https://www.airpair.com/nlp/keyword-extraction-tutorial\n"
   ]
  },
  {
   "cell_type": "code",
   "execution_count": null,
   "metadata": {},
   "outputs": [],
   "source": [
    "# Decision extraction\n",
    "\n",
    "f = open('./data/processed/txt_files/00003_ukait_2008_aa_others_pakistan.txt', \"r\")\n",
    "for number, paragraph in enumerate(f.read().split(\"\\n\\n\"), 1):\n",
    "    print(number)\n",
    "    print(paragraph)\n",
    "    pattern = \"Decisions\"\n",
    "    if paragraph.find(pattern) != -1:\n",
    "        print(\"save to file\") \n",
    "    else:\n",
    "        print(\"don't save to file\")\n",
    "\n",
    "        "
   ]
  },
  {
   "cell_type": "code",
   "execution_count": null,
   "metadata": {},
   "outputs": [],
   "source": [
    "import spacy\n",
    "\n",
    "# Load the model\n",
    "nlp = spacy.load(\"en_blackstone_proto\")\n"
   ]
  }
 ],
 "metadata": {
  "interpreter": {
   "hash": "0da6e46dab1e0b3d9fa32aec1170dd2df7038a4f7be3a54c97a348d8ad782954"
  },
  "kernelspec": {
   "display_name": "Python 3.8.11 64-bit ('tfm': conda)",
   "name": "python3"
  },
  "language_info": {
   "codemirror_mode": {
    "name": "ipython",
    "version": 3
   },
   "file_extension": ".py",
   "mimetype": "text/x-python",
   "name": "python",
   "nbconvert_exporter": "python",
   "pygments_lexer": "ipython3",
   "version": "3.8.11"
  }
 },
 "nbformat": 4,
 "nbformat_minor": 1
}
